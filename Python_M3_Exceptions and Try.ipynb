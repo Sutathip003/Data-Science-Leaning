{
 "cells": [
  {
   "cell_type": "markdown",
   "id": "92f5ed30-f571-4982-a1cc-90cff348ee0d",
   "metadata": {},
   "source": [
    "# Try Except"
   ]
  },
  {
   "cell_type": "code",
   "execution_count": 5,
   "id": "de0eb08d-6653-4834-a97b-b5e4d57e6751",
   "metadata": {},
   "outputs": [
    {
     "name": "stdin",
     "output_type": "stream",
     "text": [
      "Enter number to devide :  45\n"
     ]
    },
    {
     "name": "stdout",
     "output_type": "stream",
     "text": [
      "Success a= 0.019230769230769232\n"
     ]
    }
   ],
   "source": [
    "a = 1\n",
    "try:\n",
    "    a = a/b\n",
    "    b = int(input(\"Enter number to devide : \"))\n",
    "    print(\"Success a=\", a)\n",
    "except:\n",
    "    print(\"error\")"
   ]
  },
  {
   "cell_type": "code",
   "execution_count": 9,
   "id": "d135331e-df05-40a8-8654-79b7d5e1a6d3",
   "metadata": {},
   "outputs": [
    {
     "name": "stdin",
     "output_type": "stream",
     "text": [
      "Enter number to devide :  3\n"
     ]
    },
    {
     "name": "stdout",
     "output_type": "stream",
     "text": [
      "Success c= 0.3333333333333333\n",
      "Processing Complete\n"
     ]
    }
   ],
   "source": [
    "# catch ZerodivisionError\n",
    "\n",
    "a = 1\n",
    "try:\n",
    "    # code to try to execute\n",
    "    b = int(input(\"Enter number to devide : \"))\n",
    "    c = a/b\n",
    "    \n",
    "except ZeroDivisionError:\n",
    "    # code to execute if there is a ZeroDivisionError\n",
    "    print(\"The number you provided cant divide 1 because it is 0\")\n",
    "    \n",
    "except ValueError:\n",
    "    # code to execute if there is a ValueError\n",
    "    print(\"You did not provide a number\")\n",
    "    \n",
    "# except NameError:\n",
    "#     # code to execute if there is a NameError\n",
    "#     print(\"This is name error\")\n",
    "\n",
    "except:\n",
    "    # code to execute if there is any error\n",
    "    print(\"Something went wrong\")\n",
    "    \n",
    "else:\n",
    "    # code to execute if there is no exception\n",
    "    print(\"Success c=\", c)\n",
    "    \n",
    "finally:\n",
    "    # code to execute at the end of try except, no matter what\n",
    "    print(\"Processing Complete\")\n",
    "    \n",
    "    \n",
    "    "
   ]
  },
  {
   "cell_type": "markdown",
   "id": "7f2d25cc-edfd-4136-81db-ab26503faf2b",
   "metadata": {},
   "source": [
    "#### Try Except Else and Finally"
   ]
  },
  {
   "cell_type": "code",
   "execution_count": null,
   "id": "a1b0da9b-2893-4e83-91f9-525c36cfa050",
   "metadata": {},
   "outputs": [],
   "source": []
  }
 ],
 "metadata": {
  "kernelspec": {
   "display_name": "Python 3 (ipykernel)",
   "language": "python",
   "name": "python3"
  },
  "language_info": {
   "codemirror_mode": {
    "name": "ipython",
    "version": 3
   },
   "file_extension": ".py",
   "mimetype": "text/x-python",
   "name": "python",
   "nbconvert_exporter": "python",
   "pygments_lexer": "ipython3",
   "version": "3.12.7"
  }
 },
 "nbformat": 4,
 "nbformat_minor": 5
}
