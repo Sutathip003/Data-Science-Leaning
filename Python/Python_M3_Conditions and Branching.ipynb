{
 "cells": [
  {
   "cell_type": "markdown",
   "id": "639f54cb-53f3-4143-9078-78bbe0c51528",
   "metadata": {},
   "source": [
    "<div style=\"background-color: lightblue; padding: 10px; border-radius: 10px;\">\n",
    "  <h1>Conditions and Branching</h1>\n",
    "</div>"
   ]
  },
  {
   "cell_type": "markdown",
   "id": "6478c777-48d6-4c2d-95ac-b6d60cd19a23",
   "metadata": {},
   "source": [
    "##### ASCII Table\n",
    "![ASCII Table](https://www.plcdev.com/files/plcdev/images/Simple%20ASCII%20Table_0.gif)\n"
   ]
  },
  {
   "cell_type": "code",
   "execution_count": 5,
   "id": "097d67ce-dd32-4501-807e-e667aaa962e5",
   "metadata": {},
   "outputs": [
    {
     "name": "stdout",
     "output_type": "stream",
     "text": [
      "True\n",
      "True\n"
     ]
    }
   ],
   "source": [
    "# equal ==\n",
    "a = 1 == 1\n",
    "b = \"1\" == \"1\"\n",
    "print(a)\n",
    "print(b)"
   ]
  },
  {
   "cell_type": "code",
   "execution_count": 6,
   "id": "97cd71ea-8078-4afa-8a93-de738976050e",
   "metadata": {},
   "outputs": [
    {
     "name": "stdout",
     "output_type": "stream",
     "text": [
      "True\n",
      "True\n"
     ]
    }
   ],
   "source": [
    " # not equal !=\n",
    "a = 1 != 2\n",
    "b = \"1\" != \"2\"\n",
    "print(a)\n",
    "print(b)"
   ]
  },
  {
   "cell_type": "code",
   "execution_count": 13,
   "id": "0622edb4-e303-4095-8309-0ae9391efbc1",
   "metadata": {},
   "outputs": [
    {
     "name": "stdout",
     "output_type": "stream",
     "text": [
      "True\n",
      "True\n",
      "True\n",
      "True\n"
     ]
    }
   ],
   "source": [
    "# greater then >\n",
    "a = 1 > 0\n",
    "b = \"1\" > \"0\" #ASCII Value \"0\" = 48, \"A\" = 49\n",
    "print(a)\n",
    "print(b)\n",
    "\n",
    "# less then <\n",
    "c = 1 < 2\n",
    "d = \"1\" < \"2\"\n",
    "print(c)\n",
    "print(d)"
   ]
  },
  {
   "cell_type": "code",
   "execution_count": 11,
   "id": "a6810181-64a9-44a8-bdd1-e9466cb5ffa4",
   "metadata": {},
   "outputs": [
    {
     "name": "stdout",
     "output_type": "stream",
     "text": [
      "True\n",
      "True\n"
     ]
    }
   ],
   "source": [
    "# greater then or equal to >=\n",
    "x = 3 >= 3\n",
    "print(x)\n",
    "\n",
    "# less then or equal to <=\n",
    "y = 3 <= 3\n",
    "print(y)"
   ]
  },
  {
   "cell_type": "markdown",
   "id": "e18e7a42-b992-423c-8921-4df221537d12",
   "metadata": {},
   "source": [
    "#### Condition statement"
   ]
  },
  {
   "cell_type": "code",
   "execution_count": 23,
   "id": "699675bf-bf00-41ee-94c1-bc421bc24fb4",
   "metadata": {},
   "outputs": [
    {
     "name": "stdout",
     "output_type": "stream",
     "text": [
      "you are in happy life\n"
     ]
    }
   ],
   "source": [
    "age = 18 \n",
    "\n",
    "if age > 20 :\n",
    "    print(\"you allow to a nightclub\")\n",
    "elif age == 18:\n",
    "    print(\"you are in happy life\")\n",
    "else:\n",
    "    print(\"go back to school\")"
   ]
  },
  {
   "cell_type": "markdown",
   "id": "9ef0d6d0-91cc-4b34-b13f-d5199e3dc273",
   "metadata": {},
   "source": [
    "#### Logical operations"
   ]
  },
  {
   "cell_type": "code",
   "execution_count": 59,
   "id": "0e5fcf31-b9ed-4581-b686-7ed1e7250f2a",
   "metadata": {},
   "outputs": [
    {
     "name": "stdout",
     "output_type": "stream",
     "text": [
      "tell your mom\n",
      "open_high_security_door()\n",
      "let't but them all\n",
      "choose a movie()\n",
      "True\n",
      "Don't buy\n"
     ]
    }
   ],
   "source": [
    "Orange = 15\n",
    "Apple = 20\n",
    "Banana = 5\n",
    "\n",
    "# and\n",
    "if Orange > Banana and Apple < Orange:\n",
    "    print(\"let't but them\")\n",
    "else:\n",
    "    print(\"tell your mom\")\n",
    "\n",
    "has_valid_id_card = True\n",
    "has_matching_fingerprint = True\n",
    "if has_valid_id_card and has_matching_fingerprint:\n",
    "    print(\"open_high_security_door()\")\n",
    "\n",
    "# or\n",
    "if Orange > Banana or Apple < Orange:\n",
    "    print(\"let't but them all\")\n",
    "else:\n",
    "    print(\"go to tell your mom\")\n",
    "\n",
    "friend1_likes_comedy = True\n",
    "friend2_likes_action = False\n",
    "friend3_likes_drama = False\n",
    "if friend1_likes_comedy or friend2_likes_action or friend3_likes_drama:\n",
    "    print(\"choose a movie()\")\n",
    "\n",
    "# not \n",
    "a = Orange is not Apple\n",
    "print(a)\n",
    "\n",
    "if Orange != Apple:\n",
    "    print(\"Don't buy\")\n",
    "else:\n",
    "    print(\"Buy\")"
   ]
  },
  {
   "cell_type": "code",
   "execution_count": 38,
   "id": "9f069f73-80f7-428a-977c-b54113e844b2",
   "metadata": {},
   "outputs": [
    {
     "name": "stdout",
     "output_type": "stream",
     "text": [
      "Lionel Messi plays Soccer and has 15 achievements.\n"
     ]
    }
   ],
   "source": [
    "player_name = \"Lionel Messi\"\n",
    "sport = \"Soccer\"\n",
    "achievements = 15\n",
    "\n",
    "if achievements > 10:\n",
    "    print(f\"{player_name} plays {sport} and has {achievements} achievements.\")\n",
    "else:\n",
    "    print(f\"{player_name} does not have more than 10 achievements.\")"
   ]
  },
  {
   "cell_type": "code",
   "execution_count": 54,
   "id": "36822ba1-304e-4d10-9667-d4a0f143ff47",
   "metadata": {},
   "outputs": [
    {
     "name": "stdin",
     "output_type": "stream",
     "text": [
      "Enter the amount to withdraw:  200\n"
     ]
    },
    {
     "name": "stdout",
     "output_type": "stream",
     "text": [
      "Amount dispensed:  200\n"
     ]
    }
   ],
   "source": [
    "# Branching example\n",
    "\n",
    "user_choice = \"Withdraw Cash\"\n",
    "if user_choice == \"Withdraw Cash\":\n",
    "    amount = int(input(\"Enter the amount to withdraw: \"))\n",
    "    if amount % 10 == 0:\n",
    "        print(\"Amount dispensed: \", amount)\n",
    "    else:\n",
    "        print(\"Please enter a multiple of 10.\")\n",
    "else:\n",
    "    print(\"Thank you for using the ATM.\")"
   ]
  },
  {
   "cell_type": "code",
   "execution_count": 56,
   "id": "00a88ad9-37a5-4b55-bc37-68ce3c47a20f",
   "metadata": {},
   "outputs": [
    {
     "name": "stdout",
     "output_type": "stream",
     "text": [
      "whats'up\n"
     ]
    }
   ],
   "source": [
    "# Logical operators example\n",
    "is_do_not_disturb = True\n",
    "if not is_do_not_disturb:\n",
    "    print(\"New message received\")\n",
    "else: \n",
    "    print(\"whats'up\")"
   ]
  },
  {
   "cell_type": "code",
   "execution_count": null,
   "id": "01720db3-95e2-4598-9264-8613855320ba",
   "metadata": {},
   "outputs": [],
   "source": []
  },
  {
   "cell_type": "code",
   "execution_count": null,
   "id": "9c15923c-ae50-4e3e-800f-fc31636bc04c",
   "metadata": {},
   "outputs": [],
   "source": []
  }
 ],
 "metadata": {
  "kernelspec": {
   "display_name": "Python 3 (ipykernel)",
   "language": "python",
   "name": "python3"
  },
  "language_info": {
   "codemirror_mode": {
    "name": "ipython",
    "version": 3
   },
   "file_extension": ".py",
   "mimetype": "text/x-python",
   "name": "python",
   "nbconvert_exporter": "python",
   "pygments_lexer": "ipython3",
   "version": "3.12.7"
  }
 },
 "nbformat": 4,
 "nbformat_minor": 5
}
