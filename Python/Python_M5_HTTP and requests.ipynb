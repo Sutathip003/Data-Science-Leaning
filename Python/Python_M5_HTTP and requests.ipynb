{
 "cells": [
  {
   "cell_type": "markdown",
   "id": "ca383cec-7e92-4bd7-80a0-3d79354ab4ea",
   "metadata": {},
   "source": [
    "# HTTP and requests"
   ]
  },
  {
   "cell_type": "code",
   "execution_count": 1,
   "id": "4b0cccd7-0f5b-47a5-bb15-3ba62ff72d6a",
   "metadata": {},
   "outputs": [],
   "source": [
    "import requests"
   ]
  },
  {
   "cell_type": "code",
   "execution_count": 1,
   "id": "2de0dddd-21a9-4701-a768-1145911126ee",
   "metadata": {},
   "outputs": [
    {
     "name": "stdout",
     "output_type": "stream",
     "text": [
      "Defaulting to user installation because normal site-packages is not writeable\n",
      "Requirement already satisfied: pillow in c:\\users\\anaconda3\\lib\\site-packages (10.4.0)\n",
      "Defaulting to user installation because normal site-packages is not writeable\n",
      "Requirement already satisfied: Ipython in c:\\users\\anaconda3\\lib\\site-packages (8.27.0)\n",
      "Requirement already satisfied: decorator in c:\\users\\anaconda3\\lib\\site-packages (from Ipython) (5.1.1)\n",
      "Requirement already satisfied: jedi>=0.16 in c:\\users\\anaconda3\\lib\\site-packages (from Ipython) (0.19.1)\n",
      "Requirement already satisfied: matplotlib-inline in c:\\users\\anaconda3\\lib\\site-packages (from Ipython) (0.1.6)\n",
      "Requirement already satisfied: prompt-toolkit<3.1.0,>=3.0.41 in c:\\users\\anaconda3\\lib\\site-packages (from Ipython) (3.0.43)\n",
      "Requirement already satisfied: pygments>=2.4.0 in c:\\users\\anaconda3\\lib\\site-packages (from Ipython) (2.15.1)\n",
      "Requirement already satisfied: stack-data in c:\\users\\anaconda3\\lib\\site-packages (from Ipython) (0.2.0)\n",
      "Requirement already satisfied: traitlets>=5.13.0 in c:\\users\\anaconda3\\lib\\site-packages (from Ipython) (5.14.3)\n",
      "Requirement already satisfied: colorama in c:\\users\\anaconda3\\lib\\site-packages (from Ipython) (0.4.6)\n",
      "Requirement already satisfied: parso<0.9.0,>=0.8.3 in c:\\users\\anaconda3\\lib\\site-packages (from jedi>=0.16->Ipython) (0.8.3)\n",
      "Requirement already satisfied: wcwidth in c:\\users\\anaconda3\\lib\\site-packages (from prompt-toolkit<3.1.0,>=3.0.41->Ipython) (0.2.5)\n",
      "Requirement already satisfied: executing in c:\\users\\anaconda3\\lib\\site-packages (from stack-data->Ipython) (0.8.3)\n",
      "Requirement already satisfied: asttokens in c:\\users\\anaconda3\\lib\\site-packages (from stack-data->Ipython) (2.0.5)\n",
      "Requirement already satisfied: pure-eval in c:\\users\\anaconda3\\lib\\site-packages (from stack-data->Ipython) (0.2.2)\n",
      "Requirement already satisfied: six in c:\\users\\anaconda3\\lib\\site-packages (from asttokens->stack-data->Ipython) (1.16.0)\n"
     ]
    }
   ],
   "source": [
    "!pip install pillow\n",
    "!pip install Ipython"
   ]
  },
  {
   "cell_type": "code",
   "execution_count": 17,
   "id": "4868a1cc-2083-413e-a1b2-2651f37ce74c",
   "metadata": {},
   "outputs": [],
   "source": [
    "import os\n",
    "from PIL import Image # Python Imaging Library)\n",
    "from IPython.display import IFrame # IFrame มาจาก IPython (ใช้ใน Jupyter Notebook)"
   ]
  },
  {
   "cell_type": "code",
   "execution_count": 30,
   "id": "c1e95519-0128-4340-8d06-2ec4b7a2e47c",
   "metadata": {},
   "outputs": [
    {
     "data": {
      "text/plain": [
       "200"
      ]
     },
     "execution_count": 30,
     "metadata": {},
     "output_type": "execute_result"
    }
   ],
   "source": [
    "url = 'https://www.ibm.com/'\n",
    "r = requests.get(url)\n",
    "\n",
    "r.status_code"
   ]
  },
  {
   "cell_type": "code",
   "execution_count": 3,
   "id": "d7e04d46-e210-4b17-b56d-fbfc02aec4a5",
   "metadata": {},
   "outputs": [
    {
     "name": "stdout",
     "output_type": "stream",
     "text": [
      "{'User-Agent': 'python-requests/2.32.3', 'Accept-Encoding': 'gzip, deflate, br, zstd', 'Accept': '*/*', 'Connection': 'keep-alive', 'Cookie': '_abck=673D84EE5953188AB7A50F7284EE1C36~-1~YAAQhRWkbntTj/iXAQAA1gXVAw4m6jNEyV/qIhUuKQg8uKJDIXakz/JP9IrgvGRWYPwaoMFjY5p5lmg8Bai8zYG8ntO1tf48L2cQ6+Bhs5RpGb1csH/77T7QwaEZpSAmRZvFr+Hzg+RwV++HTORrGjvzmz2kDB9LX3Sbo5P3CMQuKpn6ySHvqo+ukoFGD5tAbo2+cuNimNeQoHmrfN3EivfqpidmyVTPxspcpeyvFcBb/bGb9gqX0+HdUo3cNqwnDulMlwYx5cge/6dUHngid7AIrRTHMz99kTeLnUbnuixTWlqkX6O2F3NOKUG9QeB0nJ1EPGL5FT2xHyr8hN4RacPjqi2U2C0nRixPznREOTkowkxuHqdGuRFjL+V+t/jsRvi/ebpmXaTTR70TLs5kPD2We9eR4Jjr12hvHK1AJYqNXSPiysykNBP9nmPjdg==~-1~-1~-1; bm_sz=C94730826E8E1C9FCCFCEFED3C92268F~YAAQhRWkbnxTj/iXAQAA1gXVAxyvxK5hAI0WGkz8IYwjmD6AAzLZBB2PGz5dq0TAxp6iurexCR1FpE+6IlA8Qhd/SolO2Vqi1hW7OVO9crLEbbOwExYdGxiWXXxuUXRlBYITY9PdDmk8/ATcgXGBhm4aE5QUiilMjp0xQeJoryGPn3YO1hR68bzreg1tNArx3ujTYGR53nhAsvzSey1LxXOMJxsSEvsjdQ+5dhRksVLdRqEqdLkxgf9VM27PnxzyuNl/HY/v/ef8vdRvEeti/LOII4EnV3mgu9jkxmZthhAgnQDY3LNs8IoOWaW19OI6C1NjHGtu9uVK08E4iU8iE3iuNBTWrdAg8bc6AuNiQexD4oAiEmGqSM1KBJ0V4u5CHJix~4407859~3224641'}\n"
     ]
    }
   ],
   "source": [
    "# view the request header\n",
    "print(r.request.headers)"
   ]
  },
  {
   "cell_type": "code",
   "execution_count": 5,
   "id": "286a8388-0c0f-4654-90e0-09150283700b",
   "metadata": {},
   "outputs": [
    {
     "name": "stdout",
     "output_type": "stream",
     "text": [
      "request body : None\n"
     ]
    }
   ],
   "source": [
    "# view the request body\n",
    "print(\"request body :\", r.request.body)"
   ]
  },
  {
   "cell_type": "code",
   "execution_count": 6,
   "id": "93a0a118-8945-409d-9a09-af0ebd29f350",
   "metadata": {},
   "outputs": [
    {
     "name": "stdout",
     "output_type": "stream",
     "text": [
      "{'Content-Security-Policy': 'upgrade-insecure-requests', 'x-frame-options': 'SAMEORIGIN', 'Last-Modified': 'Sun, 13 Jul 2025 07:10:50 GMT', 'ETag': '\"2a11d-639ca3e3ffb1c-gzip\"', 'Accept-Ranges': 'bytes', 'Content-Type': 'text/html;charset=utf-8', 'X-Content-Type-Options': 'nosniff', 'Cache-Control': 'max-age=600', 'Expires': 'Sun, 13 Jul 2025 12:59:09 GMT', 'X-Akamai-Transformed': '0 - 0 -', 'Content-Encoding': 'gzip', 'Date': 'Sun, 13 Jul 2025 12:49:09 GMT', 'Content-Length': '32768', 'Connection': 'keep-alive', 'Vary': 'Accept-Encoding', 'Strict-Transport-Security': 'max-age=31536000'}\n"
     ]
    }
   ],
   "source": [
    "header = r.headers\n",
    "print(header)"
   ]
  },
  {
   "cell_type": "code",
   "execution_count": 7,
   "id": "d751a02a-8d1e-43e6-8330-ff910dd8fe35",
   "metadata": {},
   "outputs": [
    {
     "data": {
      "text/plain": [
       "'Sun, 13 Jul 2025 12:49:09 GMT'"
      ]
     },
     "execution_count": 7,
     "metadata": {},
     "output_type": "execute_result"
    }
   ],
   "source": [
    "# obtain the date\n",
    "header[\"Date\"]"
   ]
  },
  {
   "cell_type": "code",
   "execution_count": 8,
   "id": "7baa6a7a-f461-4dae-8a95-66999ba1f60e",
   "metadata": {},
   "outputs": [
    {
     "data": {
      "text/plain": [
       "'text/html;charset=utf-8'"
      ]
     },
     "execution_count": 8,
     "metadata": {},
     "output_type": "execute_result"
    }
   ],
   "source": [
    "# content-type indicates the type data\n",
    "header[\"Content-Type\"]"
   ]
  },
  {
   "cell_type": "code",
   "execution_count": 9,
   "id": "7b8197a2-68b7-46e7-9aaf-c885c380916e",
   "metadata": {},
   "outputs": [
    {
     "data": {
      "text/plain": [
       "'utf-8'"
      ]
     },
     "execution_count": 9,
     "metadata": {},
     "output_type": "execute_result"
    }
   ],
   "source": [
    "# check encoding\n",
    "r.encoding"
   ]
  },
  {
   "cell_type": "code",
   "execution_count": 35,
   "id": "0088c920-9dd6-4a42-beba-3454fb3b3700",
   "metadata": {},
   "outputs": [
    {
     "data": {
      "text/plain": [
       "'\\n<!DOCTYPE HTML>\\n<html lang=\"en\">\\n<head>\\r\\n    \\r\\n    \\r\\n    \\r\\n    \\r\\n    \\r\\n    \\r\\n    \\r\\n      \\r\\n    \\r\\n  '"
      ]
     },
     "execution_count": 35,
     "metadata": {},
     "output_type": "execute_result"
    }
   ],
   "source": [
    "r.text[0:100]\n",
    "# r.text # whole text"
   ]
  },
  {
   "cell_type": "code",
   "execution_count": 31,
   "id": "c507411a-fb86-43ba-8edf-5764c7ca3aed",
   "metadata": {},
   "outputs": [],
   "source": [
    "# save file image\n",
    "path=os.path.join(os.getcwd(),'image.png')\n",
    "with open(path,\"wb\") as f:\n",
    "    f.write(r.content)"
   ]
  },
  {
   "cell_type": "code",
   "execution_count": 32,
   "id": "70094360-10a0-4181-9c4e-b4dfea834dae",
   "metadata": {},
   "outputs": [],
   "source": [
    "# save or dowload file txt.\n",
    "URL = \"<https://cf-courses-data.s3.us.cloud-object-storage.appdomain.cloud/IBMDeveloperSkillsNetwork-PY0101EN-SkillsNetwork/labs/Module%205/data/Example1.txt\"\n",
    "path = os.path.join(os.getcwd(),\"Example1.txt\")\n",
    "r = requests.get(url)\n",
    "\n",
    "with open(path,\"wb\") as f:\n",
    "    f.write(r.content)"
   ]
  },
  {
   "cell_type": "code",
   "execution_count": 29,
   "id": "3459105e-60d0-4aaa-bc19-3379c9cc0a85",
   "metadata": {},
   "outputs": [
    {
     "name": "stdout",
     "output_type": "stream",
     "text": [
      "True\n",
      "b'\\n<!DOCTYPE'\n"
     ]
    }
   ],
   "source": [
    "# open image\n",
    "\n",
    "import os\n",
    "print(os.path.exists(path))\n",
    "# Image.open(path)\n",
    "\n",
    "with open(path, \"rb\") as f:\n",
    "    header = f.read(10)\n",
    "    print(header)"
   ]
  },
  {
   "cell_type": "code",
   "execution_count": 33,
   "id": "37d66723-b5d6-4c07-9976-ca51d7caec28",
   "metadata": {},
   "outputs": [
    {
     "data": {
      "text/plain": [
       "'https://www.ibm.com/us-en'"
      ]
     },
     "execution_count": 33,
     "metadata": {},
     "output_type": "execute_result"
    }
   ],
   "source": [
    "r.url"
   ]
  },
  {
   "cell_type": "code",
   "execution_count": 36,
   "id": "bb3b9824-8d62-4a0c-a54a-118bfd7b67af",
   "metadata": {},
   "outputs": [
    {
     "data": {
      "text/plain": [
       "200"
      ]
     },
     "execution_count": 36,
     "metadata": {},
     "output_type": "execute_result"
    }
   ],
   "source": [
    "url_get='http://httpbin.org/get'\n",
    "\n",
    "r.status_code"
   ]
  },
  {
   "cell_type": "code",
   "execution_count": 37,
   "id": "d04781bf-0fbb-4b65-a089-f2ba7eee6d88",
   "metadata": {},
   "outputs": [
    {
     "data": {
      "text/plain": [
       "'http://httpbin.org/get?name=Joseph&ID=123'"
      ]
     },
     "execution_count": 37,
     "metadata": {},
     "output_type": "execute_result"
    }
   ],
   "source": [
    "payload = {\"name\": \"Joseph\", \"ID\":\"123\"}\n",
    "r = requests.get(url_get , params= payload)\n",
    "r.url"
   ]
  },
  {
   "cell_type": "code",
   "execution_count": 38,
   "id": "23da5b70-11e5-4bad-abb2-954e86a485d3",
   "metadata": {},
   "outputs": [
    {
     "name": "stdout",
     "output_type": "stream",
     "text": [
      "request body None\n"
     ]
    }
   ],
   "source": [
    "print(\"request body\", r.request.body)"
   ]
  },
  {
   "cell_type": "code",
   "execution_count": 39,
   "id": "642edba4-8114-49ca-b95e-504936637c4e",
   "metadata": {},
   "outputs": [
    {
     "data": {
      "text/plain": [
       "'{\\n  \"args\": {\\n    \"ID\": \"123\", \\n    \"name\": \"Joseph\"\\n  }, \\n  \"headers\": {\\n    \"Accept\": \"*/*\", \\n    \"Accept-Encoding\": \"gzip, deflate, br, zstd\", \\n    \"Host\": \"httpbin.org\", \\n    \"User-Agent\": \"python-requests/2.32.3\", \\n    \"X-Amzn-Trace-Id\": \"Root=1-6873b74d-270ae75d4eacbaf63ebfde82\"\\n  }, \\n  \"origin\": \"171.4.216.181\", \\n  \"url\": \"http://httpbin.org/get?name=Joseph&ID=123\"\\n}\\n'"
      ]
     },
     "execution_count": 39,
     "metadata": {},
     "output_type": "execute_result"
    }
   ],
   "source": [
    "r.text"
   ]
  },
  {
   "cell_type": "code",
   "execution_count": 41,
   "id": "c876e1ef-3232-4dfd-982d-f9579ef7daeb",
   "metadata": {},
   "outputs": [
    {
     "data": {
      "text/plain": [
       "'application/json'"
      ]
     },
     "execution_count": 41,
     "metadata": {},
     "output_type": "execute_result"
    }
   ],
   "source": [
    "r.headers[\"Content-Type\"]"
   ]
  },
  {
   "cell_type": "code",
   "execution_count": 42,
   "id": "6b59ae3b-b2fe-4eb0-bd7f-9cb68f04effb",
   "metadata": {},
   "outputs": [
    {
     "data": {
      "text/plain": [
       "{'args': {'ID': '123', 'name': 'Joseph'},\n",
       " 'headers': {'Accept': '*/*',\n",
       "  'Accept-Encoding': 'gzip, deflate, br, zstd',\n",
       "  'Host': 'httpbin.org',\n",
       "  'User-Agent': 'python-requests/2.32.3',\n",
       "  'X-Amzn-Trace-Id': 'Root=1-6873b74d-270ae75d4eacbaf63ebfde82'},\n",
       " 'origin': '171.4.216.181',\n",
       " 'url': 'http://httpbin.org/get?name=Joseph&ID=123'}"
      ]
     },
     "execution_count": 42,
     "metadata": {},
     "output_type": "execute_result"
    }
   ],
   "source": [
    "# As the content 'Content-Type' is in the JSON format we can use the method json(), it returns a Python dict:\n",
    "r.json()"
   ]
  },
  {
   "cell_type": "code",
   "execution_count": 43,
   "id": "d12b91f2-79e6-41a6-adb9-d65352a44a99",
   "metadata": {},
   "outputs": [
    {
     "data": {
      "text/plain": [
       "{'ID': '123', 'name': 'Joseph'}"
      ]
     },
     "execution_count": 43,
     "metadata": {},
     "output_type": "execute_result"
    }
   ],
   "source": [
    "r.json()[\"args\"]"
   ]
  },
  {
   "cell_type": "markdown",
   "id": "78645444-4823-45ef-8392-eb3480b72721",
   "metadata": {},
   "source": [
    "## Post request"
   ]
  },
  {
   "cell_type": "code",
   "execution_count": 45,
   "id": "c27e5a67-5184-42b9-b073-6da155b0f933",
   "metadata": {},
   "outputs": [],
   "source": [
    "url_post='http://httpbin.org/post'"
   ]
  },
  {
   "cell_type": "code",
   "execution_count": 46,
   "id": "08e12d13-657a-470d-88c8-96d7c25ac794",
   "metadata": {},
   "outputs": [],
   "source": [
    "r_post=requests.post(url_post,data=payload)"
   ]
  },
  {
   "cell_type": "code",
   "execution_count": 47,
   "id": "93bd370e-cb59-4fab-bf5b-298b2fee18c3",
   "metadata": {},
   "outputs": [
    {
     "name": "stdout",
     "output_type": "stream",
     "text": [
      "POST request URL: http://httpbin.org/post\n"
     ]
    }
   ],
   "source": [
    "print(\"POST request URL:\", r_post.url)  # Use r_post instead of response"
   ]
  },
  {
   "cell_type": "code",
   "execution_count": 48,
   "id": "34370426-6e39-4f92-bb31-6f647a223231",
   "metadata": {},
   "outputs": [
    {
     "name": "stdout",
     "output_type": "stream",
     "text": [
      "POST request body: name=Joseph&ID=123\n",
      "GET request body: None\n"
     ]
    }
   ],
   "source": [
    "print(\"POST request body:\",r_post.request.body)\n",
    "print(\"GET request body:\",r.request.body)"
   ]
  },
  {
   "cell_type": "code",
   "execution_count": 50,
   "id": "cab52859-e36b-4e6d-982d-6de3a1cf2e9a",
   "metadata": {},
   "outputs": [
    {
     "data": {
      "text/plain": [
       "{'ID': '123', 'name': 'Joseph'}"
      ]
     },
     "execution_count": 50,
     "metadata": {},
     "output_type": "execute_result"
    }
   ],
   "source": [
    "# vies the form\n",
    "r_post.json()[\"form\"]"
   ]
  },
  {
   "cell_type": "markdown",
   "id": "eabdaf83-4868-4645-b4d5-0c865d589f09",
   "metadata": {},
   "source": [
    "## API Examples Random User "
   ]
  },
  {
   "cell_type": "code",
   "execution_count": 3,
   "id": "6112b4d6-bcef-4e9a-a3b9-cf3ff41bcbc8",
   "metadata": {},
   "outputs": [
    {
     "name": "stdout",
     "output_type": "stream",
     "text": [
      "Defaulting to user installation because normal site-packages is not writeable\n",
      "Requirement already satisfied: randomuser in c:\\users\\you computer\\appdata\\roaming\\python\\python312\\site-packages (1.6)\n",
      "Defaulting to user installation because normal site-packages is not writeable\n",
      "Requirement already satisfied: pandas in c:\\users\\anaconda3\\lib\\site-packages (2.2.2)\n",
      "Requirement already satisfied: numpy>=1.26.0 in c:\\users\\anaconda3\\lib\\site-packages (from pandas) (1.26.4)\n",
      "Requirement already satisfied: python-dateutil>=2.8.2 in c:\\users\\anaconda3\\lib\\site-packages (from pandas) (2.9.0.post0)\n",
      "Requirement already satisfied: pytz>=2020.1 in c:\\users\\anaconda3\\lib\\site-packages (from pandas) (2024.1)\n",
      "Requirement already satisfied: tzdata>=2022.7 in c:\\users\\anaconda3\\lib\\site-packages (from pandas) (2023.3)\n",
      "Requirement already satisfied: six>=1.5 in c:\\users\\anaconda3\\lib\\site-packages (from python-dateutil>=2.8.2->pandas) (1.16.0)\n"
     ]
    }
   ],
   "source": [
    "!pip install randomuser\n",
    "!pip install pandas"
   ]
  },
  {
   "cell_type": "code",
   "execution_count": 69,
   "id": "d601bb5a-0314-4146-bd39-3cb52b7afbfb",
   "metadata": {},
   "outputs": [
    {
     "name": "stdout",
     "output_type": "stream",
     "text": [
      "C:\\Users\\anaconda3\\python.exe\n"
     ]
    }
   ],
   "source": [
    "import sys\n",
    "print(sys.executable)"
   ]
  },
  {
   "cell_type": "code",
   "execution_count": 70,
   "id": "6269477d-c342-44fb-9e89-70b93f1cc433",
   "metadata": {},
   "outputs": [
    {
     "name": "stdout",
     "output_type": "stream",
     "text": [
      "Defaulting to user installation because normal site-packages is not writeable\n",
      "Requirement already satisfied: randomuser in c:\\users\\you computer\\appdata\\roaming\\python\\python312\\site-packages (1.6)\n"
     ]
    }
   ],
   "source": [
    "import sys\n",
    "!{sys.executable} -m pip install randomuser"
   ]
  },
  {
   "cell_type": "code",
   "execution_count": 5,
   "id": "e06eb9e8-1aae-40bc-8a0a-abaa3bb599c0",
   "metadata": {},
   "outputs": [],
   "source": [
    "from randomuser import RandomUser\n",
    "import pandas as pd"
   ]
  },
  {
   "cell_type": "code",
   "execution_count": 6,
   "id": "75085df7-a674-4e86-be04-3e874ae93105",
   "metadata": {},
   "outputs": [],
   "source": [
    "# creat random user object\n",
    "r = RandomUser()"
   ]
  },
  {
   "cell_type": "code",
   "execution_count": 8,
   "id": "9abd6ea9-91fa-4ecd-84cf-0f7d098c6d1e",
   "metadata": {},
   "outputs": [
    {
     "data": {
      "text/plain": [
       "[<randomuser.RandomUser at 0x1855eedce60>,\n",
       " <randomuser.RandomUser at 0x1855eedc650>,\n",
       " <randomuser.RandomUser at 0x1855eedce00>,\n",
       " <randomuser.RandomUser at 0x1855eedcfb0>,\n",
       " <randomuser.RandomUser at 0x1855eedcf80>,\n",
       " <randomuser.RandomUser at 0x1855eedcf20>,\n",
       " <randomuser.RandomUser at 0x1855eedcf50>,\n",
       " <randomuser.RandomUser at 0x1855eedce90>,\n",
       " <randomuser.RandomUser at 0x1855eedcfe0>,\n",
       " <randomuser.RandomUser at 0x1855eedd040>]"
      ]
     },
     "execution_count": 8,
     "metadata": {},
     "output_type": "execute_result"
    }
   ],
   "source": [
    "someList = r.generate_users(10)\n",
    "someList"
   ]
  },
  {
   "cell_type": "code",
   "execution_count": 10,
   "id": "c00a0cf1-ef38-48bf-92bc-a3ee5e70e43e",
   "metadata": {},
   "outputs": [
    {
     "data": {
      "text/plain": [
       "'Molly Brooks'"
      ]
     },
     "execution_count": 10,
     "metadata": {},
     "output_type": "execute_result"
    }
   ],
   "source": [
    "# get method\n",
    "name = r.get_full_name()\n",
    "name"
   ]
  },
  {
   "cell_type": "code",
   "execution_count": 12,
   "id": "2e514373-958f-4bdd-8a8b-7c133073921f",
   "metadata": {},
   "outputs": [
    {
     "name": "stdout",
     "output_type": "stream",
     "text": [
      "Ümit Balcı : umit.balci@example.com\n",
      "Alexa Bishop : alexa.bishop@example.com\n",
      "Levi Taylor : levi.taylor@example.com\n",
      "Isaac Wang : isaac.wang@example.com\n",
      "Jérémy Bernard : jeremy.bernard@example.com\n",
      "Vicente Romero : vicente.romero@example.com\n",
      "Francisca Diez : francisca.diez@example.com\n",
      "Norman Rose : norman.rose@example.com\n",
      "Lenni Tanner : lenni.tanner@example.com\n",
      "Margarita Pascual : margarita.pascual@example.com\n"
     ]
    }
   ],
   "source": [
    "for user in someList:\n",
    "    print(user.get_full_name(),\":\", user.get_email())"
   ]
  },
  {
   "cell_type": "code",
   "execution_count": 14,
   "id": "080496e7-4887-4645-aea9-c757cf49f2ec",
   "metadata": {},
   "outputs": [
    {
     "data": {
      "text/html": [
       "<div>\n",
       "<style scoped>\n",
       "    .dataframe tbody tr th:only-of-type {\n",
       "        vertical-align: middle;\n",
       "    }\n",
       "\n",
       "    .dataframe tbody tr th {\n",
       "        vertical-align: top;\n",
       "    }\n",
       "\n",
       "    .dataframe thead th {\n",
       "        text-align: right;\n",
       "    }\n",
       "</style>\n",
       "<table border=\"1\" class=\"dataframe\">\n",
       "  <thead>\n",
       "    <tr style=\"text-align: right;\">\n",
       "      <th></th>\n",
       "      <th>Name</th>\n",
       "      <th>Gender</th>\n",
       "      <th>City</th>\n",
       "      <th>State</th>\n",
       "      <th>Email</th>\n",
       "      <th>DOB</th>\n",
       "      <th>Picture</th>\n",
       "    </tr>\n",
       "  </thead>\n",
       "  <tbody>\n",
       "    <tr>\n",
       "      <th>0</th>\n",
       "      <td>Tim Clark</td>\n",
       "      <td>male</td>\n",
       "      <td>San Francisco</td>\n",
       "      <td>Vermont</td>\n",
       "      <td>tim.clark@example.com</td>\n",
       "      <td>1993-04-03T22:44:11.512Z</td>\n",
       "      <td>https://randomuser.me/api/portraits/men/15.jpg</td>\n",
       "    </tr>\n",
       "    <tr>\n",
       "      <th>1</th>\n",
       "      <td>Andro Niezen</td>\n",
       "      <td>male</td>\n",
       "      <td>Warnsveld</td>\n",
       "      <td>Noord-Holland</td>\n",
       "      <td>andro.niezen@example.com</td>\n",
       "      <td>1980-09-21T23:18:30.092Z</td>\n",
       "      <td>https://randomuser.me/api/portraits/men/25.jpg</td>\n",
       "    </tr>\n",
       "    <tr>\n",
       "      <th>2</th>\n",
       "      <td>Ivete Teixeira</td>\n",
       "      <td>female</td>\n",
       "      <td>Rondonópolis</td>\n",
       "      <td>Minas Gerais</td>\n",
       "      <td>ivete.teixeira@example.com</td>\n",
       "      <td>1978-10-18T07:52:18.350Z</td>\n",
       "      <td>https://randomuser.me/api/portraits/women/85.jpg</td>\n",
       "    </tr>\n",
       "    <tr>\n",
       "      <th>3</th>\n",
       "      <td>Hafida Van de Veen</td>\n",
       "      <td>female</td>\n",
       "      <td>Reduzum</td>\n",
       "      <td>Gelderland</td>\n",
       "      <td>hafida.vandeveen@example.com</td>\n",
       "      <td>1946-05-04T14:00:28.701Z</td>\n",
       "      <td>https://randomuser.me/api/portraits/women/92.jpg</td>\n",
       "    </tr>\n",
       "    <tr>\n",
       "      <th>4</th>\n",
       "      <td>Pasquale Harte</td>\n",
       "      <td>male</td>\n",
       "      <td>Winschoten</td>\n",
       "      <td>Utrecht</td>\n",
       "      <td>pasquale.harte@example.com</td>\n",
       "      <td>1994-12-10T13:49:43.010Z</td>\n",
       "      <td>https://randomuser.me/api/portraits/men/64.jpg</td>\n",
       "    </tr>\n",
       "    <tr>\n",
       "      <th>5</th>\n",
       "      <td>Shawn Bryant</td>\n",
       "      <td>male</td>\n",
       "      <td>Geelong</td>\n",
       "      <td>South Australia</td>\n",
       "      <td>shawn.bryant@example.com</td>\n",
       "      <td>1993-03-28T23:26:56.400Z</td>\n",
       "      <td>https://randomuser.me/api/portraits/men/19.jpg</td>\n",
       "    </tr>\n",
       "    <tr>\n",
       "      <th>6</th>\n",
       "      <td>Kimberly Osullivan</td>\n",
       "      <td>female</td>\n",
       "      <td>Ratoath</td>\n",
       "      <td>Wexford</td>\n",
       "      <td>kimberly.osullivan@example.com</td>\n",
       "      <td>1978-01-05T18:15:58.675Z</td>\n",
       "      <td>https://randomuser.me/api/portraits/women/16.jpg</td>\n",
       "    </tr>\n",
       "    <tr>\n",
       "      <th>7</th>\n",
       "      <td>Sofija Dalby</td>\n",
       "      <td>female</td>\n",
       "      <td>Torvik</td>\n",
       "      <td>Oslo</td>\n",
       "      <td>sofija.dalby@example.com</td>\n",
       "      <td>1959-10-03T07:26:32.755Z</td>\n",
       "      <td>https://randomuser.me/api/portraits/women/24.jpg</td>\n",
       "    </tr>\n",
       "    <tr>\n",
       "      <th>8</th>\n",
       "      <td>Jesus Welch</td>\n",
       "      <td>male</td>\n",
       "      <td>Geraldton</td>\n",
       "      <td>Australian Capital Territory</td>\n",
       "      <td>jesus.welch@example.com</td>\n",
       "      <td>1955-10-18T03:47:34.377Z</td>\n",
       "      <td>https://randomuser.me/api/portraits/men/60.jpg</td>\n",
       "    </tr>\n",
       "    <tr>\n",
       "      <th>9</th>\n",
       "      <td>Edward Bringedal</td>\n",
       "      <td>male</td>\n",
       "      <td>Langevåg</td>\n",
       "      <td>Description</td>\n",
       "      <td>edward.bringedal@example.com</td>\n",
       "      <td>1987-08-31T04:06:59.703Z</td>\n",
       "      <td>https://randomuser.me/api/portraits/men/84.jpg</td>\n",
       "    </tr>\n",
       "  </tbody>\n",
       "</table>\n",
       "</div>"
      ],
      "text/plain": [
       "                 Name  Gender           City                         State  \\\n",
       "0           Tim Clark    male  San Francisco                       Vermont   \n",
       "1        Andro Niezen    male      Warnsveld                 Noord-Holland   \n",
       "2      Ivete Teixeira  female   Rondonópolis                  Minas Gerais   \n",
       "3  Hafida Van de Veen  female        Reduzum                    Gelderland   \n",
       "4      Pasquale Harte    male     Winschoten                       Utrecht   \n",
       "5        Shawn Bryant    male        Geelong               South Australia   \n",
       "6  Kimberly Osullivan  female        Ratoath                       Wexford   \n",
       "7        Sofija Dalby  female         Torvik                          Oslo   \n",
       "8         Jesus Welch    male      Geraldton  Australian Capital Territory   \n",
       "9    Edward Bringedal    male       Langevåg                   Description   \n",
       "\n",
       "                            Email                       DOB  \\\n",
       "0           tim.clark@example.com  1993-04-03T22:44:11.512Z   \n",
       "1        andro.niezen@example.com  1980-09-21T23:18:30.092Z   \n",
       "2      ivete.teixeira@example.com  1978-10-18T07:52:18.350Z   \n",
       "3    hafida.vandeveen@example.com  1946-05-04T14:00:28.701Z   \n",
       "4      pasquale.harte@example.com  1994-12-10T13:49:43.010Z   \n",
       "5        shawn.bryant@example.com  1993-03-28T23:26:56.400Z   \n",
       "6  kimberly.osullivan@example.com  1978-01-05T18:15:58.675Z   \n",
       "7        sofija.dalby@example.com  1959-10-03T07:26:32.755Z   \n",
       "8         jesus.welch@example.com  1955-10-18T03:47:34.377Z   \n",
       "9    edward.bringedal@example.com  1987-08-31T04:06:59.703Z   \n",
       "\n",
       "                                            Picture  \n",
       "0    https://randomuser.me/api/portraits/men/15.jpg  \n",
       "1    https://randomuser.me/api/portraits/men/25.jpg  \n",
       "2  https://randomuser.me/api/portraits/women/85.jpg  \n",
       "3  https://randomuser.me/api/portraits/women/92.jpg  \n",
       "4    https://randomuser.me/api/portraits/men/64.jpg  \n",
       "5    https://randomuser.me/api/portraits/men/19.jpg  \n",
       "6  https://randomuser.me/api/portraits/women/16.jpg  \n",
       "7  https://randomuser.me/api/portraits/women/24.jpg  \n",
       "8    https://randomuser.me/api/portraits/men/60.jpg  \n",
       "9    https://randomuser.me/api/portraits/men/84.jpg  "
      ]
     },
     "execution_count": 14,
     "metadata": {},
     "output_type": "execute_result"
    }
   ],
   "source": [
    "def get_users():\n",
    "    users =[]\n",
    "     \n",
    "    for user in RandomUser.generate_users(10):\n",
    "        users.append({\"Name\":user.get_full_name(),\"Gender\":user.get_gender(),\"City\":user.get_city(),\"State\":user.get_state(),\"Email\":user.get_email(), \"DOB\":user.get_dob(),\"Picture\":user.get_picture()})\n",
    "      \n",
    "    return pd.DataFrame(users)\n",
    "\n",
    "get_users()"
   ]
  },
  {
   "cell_type": "code",
   "execution_count": 16,
   "id": "05ab344e-23be-457e-985d-7ac5bcb6974f",
   "metadata": {},
   "outputs": [
    {
     "data": {
      "text/html": [
       "<div>\n",
       "<style scoped>\n",
       "    .dataframe tbody tr th:only-of-type {\n",
       "        vertical-align: middle;\n",
       "    }\n",
       "\n",
       "    .dataframe tbody tr th {\n",
       "        vertical-align: top;\n",
       "    }\n",
       "\n",
       "    .dataframe thead th {\n",
       "        text-align: right;\n",
       "    }\n",
       "</style>\n",
       "<table border=\"1\" class=\"dataframe\">\n",
       "  <thead>\n",
       "    <tr style=\"text-align: right;\">\n",
       "      <th></th>\n",
       "      <th>Name</th>\n",
       "      <th>Gender</th>\n",
       "      <th>City</th>\n",
       "      <th>State</th>\n",
       "      <th>Email</th>\n",
       "      <th>DOB</th>\n",
       "      <th>Picture</th>\n",
       "    </tr>\n",
       "  </thead>\n",
       "  <tbody>\n",
       "    <tr>\n",
       "      <th>0</th>\n",
       "      <td>Maddison Murray</td>\n",
       "      <td>female</td>\n",
       "      <td>York</td>\n",
       "      <td>Hertfordshire</td>\n",
       "      <td>maddison.murray@example.com</td>\n",
       "      <td>1945-08-06T05:54:52.459Z</td>\n",
       "      <td>https://randomuser.me/api/portraits/women/40.jpg</td>\n",
       "    </tr>\n",
       "    <tr>\n",
       "      <th>1</th>\n",
       "      <td>Sofia Smythe</td>\n",
       "      <td>female</td>\n",
       "      <td>Listowel</td>\n",
       "      <td>Galway City</td>\n",
       "      <td>sofia.smythe@example.com</td>\n",
       "      <td>1971-11-28T13:00:24.314Z</td>\n",
       "      <td>https://randomuser.me/api/portraits/women/63.jpg</td>\n",
       "    </tr>\n",
       "    <tr>\n",
       "      <th>2</th>\n",
       "      <td>Gascão da Cunha</td>\n",
       "      <td>male</td>\n",
       "      <td>Alagoinhas</td>\n",
       "      <td>Rondônia</td>\n",
       "      <td>gascao.dacunha@example.com</td>\n",
       "      <td>1990-08-24T14:12:13.071Z</td>\n",
       "      <td>https://randomuser.me/api/portraits/men/30.jpg</td>\n",
       "    </tr>\n",
       "    <tr>\n",
       "      <th>3</th>\n",
       "      <td>كيان سلطانی نژاد</td>\n",
       "      <td>male</td>\n",
       "      <td>نجف‌آباد</td>\n",
       "      <td>خراسان شمالی</td>\n",
       "      <td>kyn.sltnynjd@example.com</td>\n",
       "      <td>1993-12-22T03:43:31.472Z</td>\n",
       "      <td>https://randomuser.me/api/portraits/men/91.jpg</td>\n",
       "    </tr>\n",
       "    <tr>\n",
       "      <th>4</th>\n",
       "      <td>Seth Ramos</td>\n",
       "      <td>male</td>\n",
       "      <td>West Jordan</td>\n",
       "      <td>Maine</td>\n",
       "      <td>seth.ramos@example.com</td>\n",
       "      <td>1998-05-05T22:55:35.331Z</td>\n",
       "      <td>https://randomuser.me/api/portraits/men/61.jpg</td>\n",
       "    </tr>\n",
       "    <tr>\n",
       "      <th>5</th>\n",
       "      <td>Thomas Masson</td>\n",
       "      <td>male</td>\n",
       "      <td>Tourcoing</td>\n",
       "      <td>Somme</td>\n",
       "      <td>thomas.masson@example.com</td>\n",
       "      <td>1946-03-10T10:30:55.185Z</td>\n",
       "      <td>https://randomuser.me/api/portraits/men/83.jpg</td>\n",
       "    </tr>\n",
       "    <tr>\n",
       "      <th>6</th>\n",
       "      <td>Albane Mathieu</td>\n",
       "      <td>female</td>\n",
       "      <td>Saint-Denis</td>\n",
       "      <td>Allier</td>\n",
       "      <td>albane.mathieu@example.com</td>\n",
       "      <td>1979-12-25T22:48:59.236Z</td>\n",
       "      <td>https://randomuser.me/api/portraits/women/67.jpg</td>\n",
       "    </tr>\n",
       "    <tr>\n",
       "      <th>7</th>\n",
       "      <td>Mia Arnaud</td>\n",
       "      <td>female</td>\n",
       "      <td>Toulouse</td>\n",
       "      <td>Aveyron</td>\n",
       "      <td>mia.arnaud@example.com</td>\n",
       "      <td>1947-04-26T19:03:33.420Z</td>\n",
       "      <td>https://randomuser.me/api/portraits/women/2.jpg</td>\n",
       "    </tr>\n",
       "    <tr>\n",
       "      <th>8</th>\n",
       "      <td>Letitia Martinez</td>\n",
       "      <td>female</td>\n",
       "      <td>Toowoomba</td>\n",
       "      <td>Queensland</td>\n",
       "      <td>letitia.martinez@example.com</td>\n",
       "      <td>1959-01-08T15:01:16.652Z</td>\n",
       "      <td>https://randomuser.me/api/portraits/women/2.jpg</td>\n",
       "    </tr>\n",
       "    <tr>\n",
       "      <th>9</th>\n",
       "      <td>Antonia Hidalgo</td>\n",
       "      <td>female</td>\n",
       "      <td>Guadalajara</td>\n",
       "      <td>Castilla y León</td>\n",
       "      <td>antonia.hidalgo@example.com</td>\n",
       "      <td>1965-01-25T14:27:25.629Z</td>\n",
       "      <td>https://randomuser.me/api/portraits/women/80.jpg</td>\n",
       "    </tr>\n",
       "  </tbody>\n",
       "</table>\n",
       "</div>"
      ],
      "text/plain": [
       "               Name  Gender         City            State  \\\n",
       "0   Maddison Murray  female         York    Hertfordshire   \n",
       "1      Sofia Smythe  female     Listowel      Galway City   \n",
       "2   Gascão da Cunha    male   Alagoinhas         Rondônia   \n",
       "3  كيان سلطانی نژاد    male     نجف‌آباد     خراسان شمالی   \n",
       "4        Seth Ramos    male  West Jordan            Maine   \n",
       "5     Thomas Masson    male    Tourcoing            Somme   \n",
       "6    Albane Mathieu  female  Saint-Denis           Allier   \n",
       "7        Mia Arnaud  female     Toulouse          Aveyron   \n",
       "8  Letitia Martinez  female    Toowoomba       Queensland   \n",
       "9   Antonia Hidalgo  female  Guadalajara  Castilla y León   \n",
       "\n",
       "                          Email                       DOB  \\\n",
       "0   maddison.murray@example.com  1945-08-06T05:54:52.459Z   \n",
       "1      sofia.smythe@example.com  1971-11-28T13:00:24.314Z   \n",
       "2    gascao.dacunha@example.com  1990-08-24T14:12:13.071Z   \n",
       "3      kyn.sltnynjd@example.com  1993-12-22T03:43:31.472Z   \n",
       "4        seth.ramos@example.com  1998-05-05T22:55:35.331Z   \n",
       "5     thomas.masson@example.com  1946-03-10T10:30:55.185Z   \n",
       "6    albane.mathieu@example.com  1979-12-25T22:48:59.236Z   \n",
       "7        mia.arnaud@example.com  1947-04-26T19:03:33.420Z   \n",
       "8  letitia.martinez@example.com  1959-01-08T15:01:16.652Z   \n",
       "9   antonia.hidalgo@example.com  1965-01-25T14:27:25.629Z   \n",
       "\n",
       "                                            Picture  \n",
       "0  https://randomuser.me/api/portraits/women/40.jpg  \n",
       "1  https://randomuser.me/api/portraits/women/63.jpg  \n",
       "2    https://randomuser.me/api/portraits/men/30.jpg  \n",
       "3    https://randomuser.me/api/portraits/men/91.jpg  \n",
       "4    https://randomuser.me/api/portraits/men/61.jpg  \n",
       "5    https://randomuser.me/api/portraits/men/83.jpg  \n",
       "6  https://randomuser.me/api/portraits/women/67.jpg  \n",
       "7   https://randomuser.me/api/portraits/women/2.jpg  \n",
       "8   https://randomuser.me/api/portraits/women/2.jpg  \n",
       "9  https://randomuser.me/api/portraits/women/80.jpg  "
      ]
     },
     "execution_count": 16,
     "metadata": {},
     "output_type": "execute_result"
    }
   ],
   "source": [
    "df1 = pd.DataFrame(get_users())\n",
    "df1"
   ]
  },
  {
   "cell_type": "markdown",
   "id": "8f8066a0-4ec0-443a-9289-7e754ce3c704",
   "metadata": {},
   "source": [
    "## Fruityvice API"
   ]
  },
  {
   "cell_type": "code",
   "execution_count": 17,
   "id": "82e39e93-6638-4e2f-b0cc-ae9ee2b80c5a",
   "metadata": {},
   "outputs": [],
   "source": [
    "import requests\n",
    "import json"
   ]
  },
  {
   "cell_type": "code",
   "execution_count": 19,
   "id": "4a8ebed3-cd71-4096-8619-be3fa174074f",
   "metadata": {},
   "outputs": [],
   "source": [
    "data = requests.get(\"https://web.archive.org/web/20240929211114/https://fruityvice.com/api/fruit/all\")"
   ]
  },
  {
   "cell_type": "code",
   "execution_count": 23,
   "id": "94024caf-cc17-4faf-9490-8407cb8c454e",
   "metadata": {},
   "outputs": [],
   "source": [
    "results = json.loads(data.text)\n",
    "# print(results)"
   ]
  },
  {
   "cell_type": "code",
   "execution_count": 25,
   "id": "80b96e16-472e-4516-b70e-e374912cb8e2",
   "metadata": {},
   "outputs": [],
   "source": [
    "fruitsDF1 = pd.DataFrame(results)\n",
    "# print(fruitsDF1)"
   ]
  },
  {
   "cell_type": "code",
   "execution_count": 34,
   "id": "ec01e9b6-ef55-43d0-86c6-eaa0e4efa2b3",
   "metadata": {},
   "outputs": [
    {
     "data": {
      "text/html": [
       "<div>\n",
       "<style scoped>\n",
       "    .dataframe tbody tr th:only-of-type {\n",
       "        vertical-align: middle;\n",
       "    }\n",
       "\n",
       "    .dataframe tbody tr th {\n",
       "        vertical-align: top;\n",
       "    }\n",
       "\n",
       "    .dataframe thead th {\n",
       "        text-align: right;\n",
       "    }\n",
       "</style>\n",
       "<table border=\"1\" class=\"dataframe\">\n",
       "  <thead>\n",
       "    <tr style=\"text-align: right;\">\n",
       "      <th></th>\n",
       "      <th>name</th>\n",
       "      <th>id</th>\n",
       "      <th>family</th>\n",
       "      <th>order</th>\n",
       "      <th>genus</th>\n",
       "      <th>nutritions.calories</th>\n",
       "      <th>nutritions.fat</th>\n",
       "      <th>nutritions.sugar</th>\n",
       "      <th>nutritions.carbohydrates</th>\n",
       "      <th>nutritions.protein</th>\n",
       "    </tr>\n",
       "  </thead>\n",
       "  <tbody>\n",
       "    <tr>\n",
       "      <th>0</th>\n",
       "      <td>Persimmon</td>\n",
       "      <td>52</td>\n",
       "      <td>Ebenaceae</td>\n",
       "      <td>Rosales</td>\n",
       "      <td>Diospyros</td>\n",
       "      <td>81</td>\n",
       "      <td>0.00</td>\n",
       "      <td>18.00</td>\n",
       "      <td>18.0</td>\n",
       "      <td>0.00</td>\n",
       "    </tr>\n",
       "    <tr>\n",
       "      <th>1</th>\n",
       "      <td>Strawberry</td>\n",
       "      <td>3</td>\n",
       "      <td>Rosaceae</td>\n",
       "      <td>Rosales</td>\n",
       "      <td>Fragaria</td>\n",
       "      <td>29</td>\n",
       "      <td>0.40</td>\n",
       "      <td>5.40</td>\n",
       "      <td>5.5</td>\n",
       "      <td>0.80</td>\n",
       "    </tr>\n",
       "    <tr>\n",
       "      <th>2</th>\n",
       "      <td>Banana</td>\n",
       "      <td>1</td>\n",
       "      <td>Musaceae</td>\n",
       "      <td>Zingiberales</td>\n",
       "      <td>Musa</td>\n",
       "      <td>96</td>\n",
       "      <td>0.20</td>\n",
       "      <td>17.20</td>\n",
       "      <td>22.0</td>\n",
       "      <td>1.00</td>\n",
       "    </tr>\n",
       "    <tr>\n",
       "      <th>3</th>\n",
       "      <td>Tomato</td>\n",
       "      <td>5</td>\n",
       "      <td>Solanaceae</td>\n",
       "      <td>Solanales</td>\n",
       "      <td>Solanum</td>\n",
       "      <td>74</td>\n",
       "      <td>0.20</td>\n",
       "      <td>2.60</td>\n",
       "      <td>3.9</td>\n",
       "      <td>0.90</td>\n",
       "    </tr>\n",
       "    <tr>\n",
       "      <th>4</th>\n",
       "      <td>Pear</td>\n",
       "      <td>4</td>\n",
       "      <td>Rosaceae</td>\n",
       "      <td>Rosales</td>\n",
       "      <td>Pyrus</td>\n",
       "      <td>57</td>\n",
       "      <td>0.10</td>\n",
       "      <td>10.00</td>\n",
       "      <td>15.0</td>\n",
       "      <td>0.40</td>\n",
       "    </tr>\n",
       "    <tr>\n",
       "      <th>5</th>\n",
       "      <td>Durian</td>\n",
       "      <td>60</td>\n",
       "      <td>Malvaceae</td>\n",
       "      <td>Malvales</td>\n",
       "      <td>Durio</td>\n",
       "      <td>147</td>\n",
       "      <td>5.30</td>\n",
       "      <td>6.75</td>\n",
       "      <td>27.1</td>\n",
       "      <td>1.50</td>\n",
       "    </tr>\n",
       "    <tr>\n",
       "      <th>6</th>\n",
       "      <td>Blackberry</td>\n",
       "      <td>64</td>\n",
       "      <td>Rosaceae</td>\n",
       "      <td>Rosales</td>\n",
       "      <td>Rubus</td>\n",
       "      <td>40</td>\n",
       "      <td>0.40</td>\n",
       "      <td>4.50</td>\n",
       "      <td>9.0</td>\n",
       "      <td>1.30</td>\n",
       "    </tr>\n",
       "    <tr>\n",
       "      <th>7</th>\n",
       "      <td>Lingonberry</td>\n",
       "      <td>65</td>\n",
       "      <td>Ericaceae</td>\n",
       "      <td>Ericales</td>\n",
       "      <td>Vaccinium</td>\n",
       "      <td>50</td>\n",
       "      <td>0.34</td>\n",
       "      <td>5.74</td>\n",
       "      <td>11.3</td>\n",
       "      <td>0.75</td>\n",
       "    </tr>\n",
       "    <tr>\n",
       "      <th>8</th>\n",
       "      <td>Kiwi</td>\n",
       "      <td>66</td>\n",
       "      <td>Actinidiaceae</td>\n",
       "      <td>Struthioniformes</td>\n",
       "      <td>Apteryx</td>\n",
       "      <td>61</td>\n",
       "      <td>0.50</td>\n",
       "      <td>9.00</td>\n",
       "      <td>15.0</td>\n",
       "      <td>1.10</td>\n",
       "    </tr>\n",
       "    <tr>\n",
       "      <th>9</th>\n",
       "      <td>Lychee</td>\n",
       "      <td>67</td>\n",
       "      <td>Sapindaceae</td>\n",
       "      <td>Sapindales</td>\n",
       "      <td>Litchi</td>\n",
       "      <td>66</td>\n",
       "      <td>0.44</td>\n",
       "      <td>15.00</td>\n",
       "      <td>17.0</td>\n",
       "      <td>0.80</td>\n",
       "    </tr>\n",
       "  </tbody>\n",
       "</table>\n",
       "</div>"
      ],
      "text/plain": [
       "          name  id         family             order      genus  \\\n",
       "0    Persimmon  52      Ebenaceae           Rosales  Diospyros   \n",
       "1   Strawberry   3       Rosaceae           Rosales   Fragaria   \n",
       "2       Banana   1       Musaceae      Zingiberales       Musa   \n",
       "3       Tomato   5     Solanaceae         Solanales    Solanum   \n",
       "4         Pear   4       Rosaceae           Rosales      Pyrus   \n",
       "5       Durian  60      Malvaceae          Malvales      Durio   \n",
       "6   Blackberry  64       Rosaceae           Rosales      Rubus   \n",
       "7  Lingonberry  65      Ericaceae          Ericales  Vaccinium   \n",
       "8         Kiwi  66  Actinidiaceae  Struthioniformes    Apteryx   \n",
       "9       Lychee  67    Sapindaceae        Sapindales     Litchi   \n",
       "\n",
       "   nutritions.calories  nutritions.fat  nutritions.sugar  \\\n",
       "0                   81            0.00             18.00   \n",
       "1                   29            0.40              5.40   \n",
       "2                   96            0.20             17.20   \n",
       "3                   74            0.20              2.60   \n",
       "4                   57            0.10             10.00   \n",
       "5                  147            5.30              6.75   \n",
       "6                   40            0.40              4.50   \n",
       "7                   50            0.34              5.74   \n",
       "8                   61            0.50              9.00   \n",
       "9                   66            0.44             15.00   \n",
       "\n",
       "   nutritions.carbohydrates  nutritions.protein  \n",
       "0                      18.0                0.00  \n",
       "1                       5.5                0.80  \n",
       "2                      22.0                1.00  \n",
       "3                       3.9                0.90  \n",
       "4                      15.0                0.40  \n",
       "5                      27.1                1.50  \n",
       "6                       9.0                1.30  \n",
       "7                      11.3                0.75  \n",
       "8                      15.0                1.10  \n",
       "9                      17.0                0.80  "
      ]
     },
     "execution_count": 34,
     "metadata": {},
     "output_type": "execute_result"
    }
   ],
   "source": [
    "fruitsDF2 = pd.json_normalize(results) #converts nested JSON data into a flat table (DataFrame) using Pandas.\n",
    "fruitsDF2.head(10)\n",
    "# fruitsDF2 # show all\n"
   ]
  },
  {
   "cell_type": "code",
   "execution_count": 36,
   "id": "5fffedf5-70ce-4766-a3ee-c713c2111d39",
   "metadata": {},
   "outputs": [
    {
     "data": {
      "text/plain": [
       "('Rosaceae', 'Fragaria')"
      ]
     },
     "execution_count": 36,
     "metadata": {},
     "output_type": "execute_result"
    }
   ],
   "source": [
    "Strawberry = fruitsDF2.loc[fruitsDF2[\"name\"] == \"Strawberry\"]\n",
    "(Strawberry.iloc[0][\"family\"]), (Strawberry.iloc[0][\"genus\"])"
   ]
  },
  {
   "cell_type": "code",
   "execution_count": 39,
   "id": "4780e798-130b-4b39-a093-e4af388f5f26",
   "metadata": {},
   "outputs": [
    {
     "name": "stdout",
     "output_type": "stream",
     "text": [
      "Banana contained : 96 calories\n"
     ]
    }
   ],
   "source": [
    "Banana = fruitsDF2.loc[fruitsDF2[\"name\"] == \"Banana\"]\n",
    "print(f\"Banana contained : {Banana.iloc[0][\"nutritions.calories\"]} calories\")"
   ]
  },
  {
   "cell_type": "code",
   "execution_count": 41,
   "id": "6f44993a-f4f8-40fc-8597-7553e3602704",
   "metadata": {},
   "outputs": [
    {
     "data": {
      "text/html": [
       "<div>\n",
       "<style scoped>\n",
       "    .dataframe tbody tr th:only-of-type {\n",
       "        vertical-align: middle;\n",
       "    }\n",
       "\n",
       "    .dataframe tbody tr th {\n",
       "        vertical-align: top;\n",
       "    }\n",
       "\n",
       "    .dataframe thead th {\n",
       "        text-align: right;\n",
       "    }\n",
       "</style>\n",
       "<table border=\"1\" class=\"dataframe\">\n",
       "  <thead>\n",
       "    <tr style=\"text-align: right;\">\n",
       "      <th></th>\n",
       "      <th>family</th>\n",
       "      <th>order</th>\n",
       "      <th>genus</th>\n",
       "      <th>nutritions.calories</th>\n",
       "      <th>nutritions.fat</th>\n",
       "      <th>nutritions.sugar</th>\n",
       "      <th>nutritions.carbohydrates</th>\n",
       "      <th>nutritions.protein</th>\n",
       "    </tr>\n",
       "  </thead>\n",
       "  <tbody>\n",
       "    <tr>\n",
       "      <th>0</th>\n",
       "      <td>Ebenaceae</td>\n",
       "      <td>Rosales</td>\n",
       "      <td>Diospyros</td>\n",
       "      <td>81</td>\n",
       "      <td>0.00</td>\n",
       "      <td>18.00</td>\n",
       "      <td>18.00</td>\n",
       "      <td>0.00</td>\n",
       "    </tr>\n",
       "    <tr>\n",
       "      <th>1</th>\n",
       "      <td>Rosaceae</td>\n",
       "      <td>Rosales</td>\n",
       "      <td>Fragaria</td>\n",
       "      <td>29</td>\n",
       "      <td>0.40</td>\n",
       "      <td>5.40</td>\n",
       "      <td>5.50</td>\n",
       "      <td>0.80</td>\n",
       "    </tr>\n",
       "    <tr>\n",
       "      <th>2</th>\n",
       "      <td>Musaceae</td>\n",
       "      <td>Zingiberales</td>\n",
       "      <td>Musa</td>\n",
       "      <td>96</td>\n",
       "      <td>0.20</td>\n",
       "      <td>17.20</td>\n",
       "      <td>22.00</td>\n",
       "      <td>1.00</td>\n",
       "    </tr>\n",
       "    <tr>\n",
       "      <th>3</th>\n",
       "      <td>Solanaceae</td>\n",
       "      <td>Solanales</td>\n",
       "      <td>Solanum</td>\n",
       "      <td>74</td>\n",
       "      <td>0.20</td>\n",
       "      <td>2.60</td>\n",
       "      <td>3.90</td>\n",
       "      <td>0.90</td>\n",
       "    </tr>\n",
       "    <tr>\n",
       "      <th>4</th>\n",
       "      <td>Rosaceae</td>\n",
       "      <td>Rosales</td>\n",
       "      <td>Pyrus</td>\n",
       "      <td>57</td>\n",
       "      <td>0.10</td>\n",
       "      <td>10.00</td>\n",
       "      <td>15.00</td>\n",
       "      <td>0.40</td>\n",
       "    </tr>\n",
       "    <tr>\n",
       "      <th>5</th>\n",
       "      <td>Malvaceae</td>\n",
       "      <td>Malvales</td>\n",
       "      <td>Durio</td>\n",
       "      <td>147</td>\n",
       "      <td>5.30</td>\n",
       "      <td>6.75</td>\n",
       "      <td>27.10</td>\n",
       "      <td>1.50</td>\n",
       "    </tr>\n",
       "    <tr>\n",
       "      <th>6</th>\n",
       "      <td>Rosaceae</td>\n",
       "      <td>Rosales</td>\n",
       "      <td>Rubus</td>\n",
       "      <td>40</td>\n",
       "      <td>0.40</td>\n",
       "      <td>4.50</td>\n",
       "      <td>9.00</td>\n",
       "      <td>1.30</td>\n",
       "    </tr>\n",
       "    <tr>\n",
       "      <th>7</th>\n",
       "      <td>Ericaceae</td>\n",
       "      <td>Ericales</td>\n",
       "      <td>Vaccinium</td>\n",
       "      <td>50</td>\n",
       "      <td>0.34</td>\n",
       "      <td>5.74</td>\n",
       "      <td>11.30</td>\n",
       "      <td>0.75</td>\n",
       "    </tr>\n",
       "    <tr>\n",
       "      <th>8</th>\n",
       "      <td>Actinidiaceae</td>\n",
       "      <td>Struthioniformes</td>\n",
       "      <td>Apteryx</td>\n",
       "      <td>61</td>\n",
       "      <td>0.50</td>\n",
       "      <td>9.00</td>\n",
       "      <td>15.00</td>\n",
       "      <td>1.10</td>\n",
       "    </tr>\n",
       "    <tr>\n",
       "      <th>9</th>\n",
       "      <td>Sapindaceae</td>\n",
       "      <td>Sapindales</td>\n",
       "      <td>Litchi</td>\n",
       "      <td>66</td>\n",
       "      <td>0.44</td>\n",
       "      <td>15.00</td>\n",
       "      <td>17.00</td>\n",
       "      <td>0.80</td>\n",
       "    </tr>\n",
       "    <tr>\n",
       "      <th>10</th>\n",
       "      <td>Bromeliaceae</td>\n",
       "      <td>Poales</td>\n",
       "      <td>Ananas</td>\n",
       "      <td>50</td>\n",
       "      <td>0.12</td>\n",
       "      <td>9.85</td>\n",
       "      <td>13.12</td>\n",
       "      <td>0.54</td>\n",
       "    </tr>\n",
       "    <tr>\n",
       "      <th>11</th>\n",
       "      <td>Moraceae</td>\n",
       "      <td>Rosales</td>\n",
       "      <td>Ficus</td>\n",
       "      <td>74</td>\n",
       "      <td>0.30</td>\n",
       "      <td>16.00</td>\n",
       "      <td>19.00</td>\n",
       "      <td>0.80</td>\n",
       "    </tr>\n",
       "    <tr>\n",
       "      <th>12</th>\n",
       "      <td>Grossulariaceae</td>\n",
       "      <td>Saxifragales</td>\n",
       "      <td>Ribes</td>\n",
       "      <td>44</td>\n",
       "      <td>0.60</td>\n",
       "      <td>0.00</td>\n",
       "      <td>10.00</td>\n",
       "      <td>0.90</td>\n",
       "    </tr>\n",
       "    <tr>\n",
       "      <th>13</th>\n",
       "      <td>Passifloraceae</td>\n",
       "      <td>Malpighiales</td>\n",
       "      <td>Passiflora</td>\n",
       "      <td>97</td>\n",
       "      <td>0.70</td>\n",
       "      <td>11.20</td>\n",
       "      <td>22.40</td>\n",
       "      <td>2.20</td>\n",
       "    </tr>\n",
       "    <tr>\n",
       "      <th>14</th>\n",
       "      <td>Rosaceae</td>\n",
       "      <td>Rosales</td>\n",
       "      <td>Prunus</td>\n",
       "      <td>46</td>\n",
       "      <td>0.28</td>\n",
       "      <td>9.92</td>\n",
       "      <td>11.40</td>\n",
       "      <td>0.70</td>\n",
       "    </tr>\n",
       "    <tr>\n",
       "      <th>15</th>\n",
       "      <td>Rutaceae</td>\n",
       "      <td>Sapindales</td>\n",
       "      <td>Citrus</td>\n",
       "      <td>43</td>\n",
       "      <td>0.20</td>\n",
       "      <td>8.20</td>\n",
       "      <td>8.30</td>\n",
       "      <td>1.00</td>\n",
       "    </tr>\n",
       "    <tr>\n",
       "      <th>16</th>\n",
       "      <td>Rosaceae</td>\n",
       "      <td>Rosales</td>\n",
       "      <td>Malus</td>\n",
       "      <td>21</td>\n",
       "      <td>0.10</td>\n",
       "      <td>6.40</td>\n",
       "      <td>3.10</td>\n",
       "      <td>0.40</td>\n",
       "    </tr>\n",
       "    <tr>\n",
       "      <th>17</th>\n",
       "      <td>Rosaceae</td>\n",
       "      <td>Rosales</td>\n",
       "      <td>Rubus</td>\n",
       "      <td>53</td>\n",
       "      <td>0.70</td>\n",
       "      <td>4.40</td>\n",
       "      <td>12.00</td>\n",
       "      <td>1.20</td>\n",
       "    </tr>\n",
       "    <tr>\n",
       "      <th>18</th>\n",
       "      <td>Cucurbitaceae</td>\n",
       "      <td>Cucurbitales</td>\n",
       "      <td>Citrullus</td>\n",
       "      <td>30</td>\n",
       "      <td>0.20</td>\n",
       "      <td>6.00</td>\n",
       "      <td>8.00</td>\n",
       "      <td>0.60</td>\n",
       "    </tr>\n",
       "    <tr>\n",
       "      <th>19</th>\n",
       "      <td>Rutaceae</td>\n",
       "      <td>Sapindales</td>\n",
       "      <td>Citrus</td>\n",
       "      <td>29</td>\n",
       "      <td>0.30</td>\n",
       "      <td>2.50</td>\n",
       "      <td>9.00</td>\n",
       "      <td>1.10</td>\n",
       "    </tr>\n",
       "    <tr>\n",
       "      <th>20</th>\n",
       "      <td>Anacardiaceae</td>\n",
       "      <td>Sapindales</td>\n",
       "      <td>Mangifera</td>\n",
       "      <td>60</td>\n",
       "      <td>0.38</td>\n",
       "      <td>13.70</td>\n",
       "      <td>15.00</td>\n",
       "      <td>0.82</td>\n",
       "    </tr>\n",
       "    <tr>\n",
       "      <th>21</th>\n",
       "      <td>Rosaceae</td>\n",
       "      <td>Rosales</td>\n",
       "      <td>Fragaria</td>\n",
       "      <td>29</td>\n",
       "      <td>0.40</td>\n",
       "      <td>5.40</td>\n",
       "      <td>5.50</td>\n",
       "      <td>0.00</td>\n",
       "    </tr>\n",
       "    <tr>\n",
       "      <th>22</th>\n",
       "      <td>Rosaceae</td>\n",
       "      <td>Rosales</td>\n",
       "      <td>Malus</td>\n",
       "      <td>52</td>\n",
       "      <td>0.40</td>\n",
       "      <td>10.30</td>\n",
       "      <td>11.40</td>\n",
       "      <td>0.30</td>\n",
       "    </tr>\n",
       "    <tr>\n",
       "      <th>23</th>\n",
       "      <td>Myrtaceae</td>\n",
       "      <td>Myrtales</td>\n",
       "      <td>Psidium</td>\n",
       "      <td>68</td>\n",
       "      <td>1.00</td>\n",
       "      <td>9.00</td>\n",
       "      <td>14.00</td>\n",
       "      <td>2.60</td>\n",
       "    </tr>\n",
       "    <tr>\n",
       "      <th>24</th>\n",
       "      <td>Rosaceae</td>\n",
       "      <td>Rosales</td>\n",
       "      <td>Prunus</td>\n",
       "      <td>15</td>\n",
       "      <td>0.10</td>\n",
       "      <td>3.20</td>\n",
       "      <td>3.90</td>\n",
       "      <td>0.50</td>\n",
       "    </tr>\n",
       "    <tr>\n",
       "      <th>25</th>\n",
       "      <td>Cucurbitaceae</td>\n",
       "      <td>Cucurbitaceae</td>\n",
       "      <td>Cucumis</td>\n",
       "      <td>34</td>\n",
       "      <td>0.00</td>\n",
       "      <td>8.00</td>\n",
       "      <td>8.00</td>\n",
       "      <td>0.00</td>\n",
       "    </tr>\n",
       "    <tr>\n",
       "      <th>26</th>\n",
       "      <td>Rutaceae</td>\n",
       "      <td>Sapindales</td>\n",
       "      <td>Citrus</td>\n",
       "      <td>45</td>\n",
       "      <td>0.40</td>\n",
       "      <td>9.10</td>\n",
       "      <td>8.30</td>\n",
       "      <td>0.00</td>\n",
       "    </tr>\n",
       "    <tr>\n",
       "      <th>27</th>\n",
       "      <td>Cactaceae</td>\n",
       "      <td>Caryophyllales</td>\n",
       "      <td>Cactaceae</td>\n",
       "      <td>36</td>\n",
       "      <td>0.40</td>\n",
       "      <td>3.00</td>\n",
       "      <td>7.00</td>\n",
       "      <td>1.00</td>\n",
       "    </tr>\n",
       "    <tr>\n",
       "      <th>28</th>\n",
       "      <td>Rutaceae</td>\n",
       "      <td>Sapindales</td>\n",
       "      <td>Citrus</td>\n",
       "      <td>25</td>\n",
       "      <td>0.10</td>\n",
       "      <td>1.70</td>\n",
       "      <td>8.40</td>\n",
       "      <td>0.30</td>\n",
       "    </tr>\n",
       "    <tr>\n",
       "      <th>29</th>\n",
       "      <td>Lythraceae</td>\n",
       "      <td>Myrtales</td>\n",
       "      <td>Punica</td>\n",
       "      <td>83</td>\n",
       "      <td>1.20</td>\n",
       "      <td>13.70</td>\n",
       "      <td>18.70</td>\n",
       "      <td>1.70</td>\n",
       "    </tr>\n",
       "    <tr>\n",
       "      <th>30</th>\n",
       "      <td>Cactaceae</td>\n",
       "      <td>Caryophyllales</td>\n",
       "      <td>Selenicereus</td>\n",
       "      <td>60</td>\n",
       "      <td>1.50</td>\n",
       "      <td>8.00</td>\n",
       "      <td>9.00</td>\n",
       "      <td>9.00</td>\n",
       "    </tr>\n",
       "    <tr>\n",
       "      <th>31</th>\n",
       "      <td>Vitaceae</td>\n",
       "      <td>Vitales</td>\n",
       "      <td>Vitis</td>\n",
       "      <td>69</td>\n",
       "      <td>0.16</td>\n",
       "      <td>16.00</td>\n",
       "      <td>18.10</td>\n",
       "      <td>0.72</td>\n",
       "    </tr>\n",
       "    <tr>\n",
       "      <th>32</th>\n",
       "      <td>Moraceae</td>\n",
       "      <td>Rosales</td>\n",
       "      <td>Morus</td>\n",
       "      <td>43</td>\n",
       "      <td>0.39</td>\n",
       "      <td>8.10</td>\n",
       "      <td>9.80</td>\n",
       "      <td>1.44</td>\n",
       "    </tr>\n",
       "    <tr>\n",
       "      <th>33</th>\n",
       "      <td>Myrtaceae</td>\n",
       "      <td>Myrtoideae</td>\n",
       "      <td>Sellowiana</td>\n",
       "      <td>44</td>\n",
       "      <td>0.40</td>\n",
       "      <td>3.00</td>\n",
       "      <td>8.00</td>\n",
       "      <td>0.60</td>\n",
       "    </tr>\n",
       "    <tr>\n",
       "      <th>34</th>\n",
       "      <td>Lauraceae</td>\n",
       "      <td>Laurales</td>\n",
       "      <td>Persea</td>\n",
       "      <td>160</td>\n",
       "      <td>14.66</td>\n",
       "      <td>0.66</td>\n",
       "      <td>8.53</td>\n",
       "      <td>2.00</td>\n",
       "    </tr>\n",
       "    <tr>\n",
       "      <th>35</th>\n",
       "      <td>Actinidiaceae</td>\n",
       "      <td>Ericales</td>\n",
       "      <td>Actinidia</td>\n",
       "      <td>61</td>\n",
       "      <td>0.50</td>\n",
       "      <td>8.90</td>\n",
       "      <td>14.60</td>\n",
       "      <td>1.14</td>\n",
       "    </tr>\n",
       "    <tr>\n",
       "      <th>36</th>\n",
       "      <td>Ericaceae</td>\n",
       "      <td>Ericales</td>\n",
       "      <td>Vaccinium</td>\n",
       "      <td>46</td>\n",
       "      <td>0.10</td>\n",
       "      <td>4.00</td>\n",
       "      <td>12.20</td>\n",
       "      <td>0.40</td>\n",
       "    </tr>\n",
       "    <tr>\n",
       "      <th>37</th>\n",
       "      <td>Rosaceae</td>\n",
       "      <td>Rosales</td>\n",
       "      <td>Prunus</td>\n",
       "      <td>50</td>\n",
       "      <td>0.30</td>\n",
       "      <td>8.00</td>\n",
       "      <td>12.00</td>\n",
       "      <td>1.00</td>\n",
       "    </tr>\n",
       "    <tr>\n",
       "      <th>38</th>\n",
       "      <td>Rosaceae</td>\n",
       "      <td>Rosales</td>\n",
       "      <td>Prunus</td>\n",
       "      <td>39</td>\n",
       "      <td>0.25</td>\n",
       "      <td>8.40</td>\n",
       "      <td>9.50</td>\n",
       "      <td>0.90</td>\n",
       "    </tr>\n",
       "    <tr>\n",
       "      <th>39</th>\n",
       "      <td>Moraceae</td>\n",
       "      <td>Rosales</td>\n",
       "      <td>Artocarpus</td>\n",
       "      <td>95</td>\n",
       "      <td>0.00</td>\n",
       "      <td>19.10</td>\n",
       "      <td>23.20</td>\n",
       "      <td>1.72</td>\n",
       "    </tr>\n",
       "    <tr>\n",
       "      <th>40</th>\n",
       "      <td>Cucurbitaceae</td>\n",
       "      <td>Cucurbitales</td>\n",
       "      <td>Cucumis</td>\n",
       "      <td>44</td>\n",
       "      <td>1.26</td>\n",
       "      <td>0.50</td>\n",
       "      <td>7.56</td>\n",
       "      <td>1.78</td>\n",
       "    </tr>\n",
       "    <tr>\n",
       "      <th>41</th>\n",
       "      <td>Betulaceae</td>\n",
       "      <td>Fagales</td>\n",
       "      <td>Corylus</td>\n",
       "      <td>628</td>\n",
       "      <td>61.00</td>\n",
       "      <td>4.30</td>\n",
       "      <td>17.00</td>\n",
       "      <td>15.00</td>\n",
       "    </tr>\n",
       "    <tr>\n",
       "      <th>42</th>\n",
       "      <td>Rutaceae</td>\n",
       "      <td>Sapindales</td>\n",
       "      <td>Citrus</td>\n",
       "      <td>37</td>\n",
       "      <td>0.00</td>\n",
       "      <td>8.50</td>\n",
       "      <td>9.67</td>\n",
       "      <td>0.82</td>\n",
       "    </tr>\n",
       "    <tr>\n",
       "      <th>43</th>\n",
       "      <td>Clusiaceae</td>\n",
       "      <td>Malpighiales</td>\n",
       "      <td>Garcinia</td>\n",
       "      <td>73</td>\n",
       "      <td>0.58</td>\n",
       "      <td>16.11</td>\n",
       "      <td>17.91</td>\n",
       "      <td>0.41</td>\n",
       "    </tr>\n",
       "    <tr>\n",
       "      <th>44</th>\n",
       "      <td>Cucurbitaceae</td>\n",
       "      <td>Cucurbitales</td>\n",
       "      <td>Cucurbita</td>\n",
       "      <td>25</td>\n",
       "      <td>0.30</td>\n",
       "      <td>3.30</td>\n",
       "      <td>4.60</td>\n",
       "      <td>1.10</td>\n",
       "    </tr>\n",
       "    <tr>\n",
       "      <th>45</th>\n",
       "      <td>Ebenaceae</td>\n",
       "      <td>Ericales</td>\n",
       "      <td>Diospyros</td>\n",
       "      <td>70</td>\n",
       "      <td>0.20</td>\n",
       "      <td>13.00</td>\n",
       "      <td>19.00</td>\n",
       "      <td>0.60</td>\n",
       "    </tr>\n",
       "    <tr>\n",
       "      <th>46</th>\n",
       "      <td>Caricaceae</td>\n",
       "      <td>Brassicales</td>\n",
       "      <td>Carica</td>\n",
       "      <td>39</td>\n",
       "      <td>0.30</td>\n",
       "      <td>4.40</td>\n",
       "      <td>5.80</td>\n",
       "      <td>0.50</td>\n",
       "    </tr>\n",
       "    <tr>\n",
       "      <th>47</th>\n",
       "      <td>Annonaceae</td>\n",
       "      <td>Rosales</td>\n",
       "      <td>Annonas</td>\n",
       "      <td>92</td>\n",
       "      <td>0.29</td>\n",
       "      <td>3.40</td>\n",
       "      <td>19.10</td>\n",
       "      <td>1.50</td>\n",
       "    </tr>\n",
       "    <tr>\n",
       "      <th>48</th>\n",
       "      <td>Salicaceae</td>\n",
       "      <td>Malpighiales</td>\n",
       "      <td>Dovyalis</td>\n",
       "      <td>47</td>\n",
       "      <td>0.30</td>\n",
       "      <td>8.10</td>\n",
       "      <td>9.60</td>\n",
       "      <td>1.20</td>\n",
       "    </tr>\n",
       "  </tbody>\n",
       "</table>\n",
       "</div>"
      ],
      "text/plain": [
       "             family             order         genus  nutritions.calories  \\\n",
       "0         Ebenaceae           Rosales     Diospyros                   81   \n",
       "1          Rosaceae           Rosales      Fragaria                   29   \n",
       "2          Musaceae      Zingiberales          Musa                   96   \n",
       "3        Solanaceae         Solanales       Solanum                   74   \n",
       "4          Rosaceae           Rosales         Pyrus                   57   \n",
       "5         Malvaceae          Malvales         Durio                  147   \n",
       "6          Rosaceae           Rosales         Rubus                   40   \n",
       "7         Ericaceae          Ericales     Vaccinium                   50   \n",
       "8     Actinidiaceae  Struthioniformes       Apteryx                   61   \n",
       "9       Sapindaceae        Sapindales        Litchi                   66   \n",
       "10     Bromeliaceae            Poales        Ananas                   50   \n",
       "11         Moraceae           Rosales         Ficus                   74   \n",
       "12  Grossulariaceae      Saxifragales         Ribes                   44   \n",
       "13   Passifloraceae      Malpighiales    Passiflora                   97   \n",
       "14         Rosaceae           Rosales        Prunus                   46   \n",
       "15         Rutaceae        Sapindales        Citrus                   43   \n",
       "16         Rosaceae           Rosales         Malus                   21   \n",
       "17         Rosaceae           Rosales         Rubus                   53   \n",
       "18    Cucurbitaceae      Cucurbitales     Citrullus                   30   \n",
       "19         Rutaceae        Sapindales        Citrus                   29   \n",
       "20    Anacardiaceae        Sapindales     Mangifera                   60   \n",
       "21         Rosaceae           Rosales      Fragaria                   29   \n",
       "22         Rosaceae           Rosales         Malus                   52   \n",
       "23        Myrtaceae          Myrtales       Psidium                   68   \n",
       "24         Rosaceae           Rosales        Prunus                   15   \n",
       "25    Cucurbitaceae     Cucurbitaceae       Cucumis                   34   \n",
       "26         Rutaceae        Sapindales        Citrus                   45   \n",
       "27        Cactaceae    Caryophyllales     Cactaceae                   36   \n",
       "28         Rutaceae        Sapindales        Citrus                   25   \n",
       "29       Lythraceae          Myrtales        Punica                   83   \n",
       "30        Cactaceae    Caryophyllales  Selenicereus                   60   \n",
       "31         Vitaceae           Vitales         Vitis                   69   \n",
       "32         Moraceae           Rosales         Morus                   43   \n",
       "33        Myrtaceae        Myrtoideae    Sellowiana                   44   \n",
       "34        Lauraceae          Laurales        Persea                  160   \n",
       "35    Actinidiaceae          Ericales     Actinidia                   61   \n",
       "36        Ericaceae          Ericales     Vaccinium                   46   \n",
       "37         Rosaceae           Rosales        Prunus                   50   \n",
       "38         Rosaceae           Rosales        Prunus                   39   \n",
       "39         Moraceae           Rosales    Artocarpus                   95   \n",
       "40    Cucurbitaceae      Cucurbitales       Cucumis                   44   \n",
       "41       Betulaceae           Fagales       Corylus                  628   \n",
       "42         Rutaceae        Sapindales        Citrus                   37   \n",
       "43       Clusiaceae      Malpighiales      Garcinia                   73   \n",
       "44    Cucurbitaceae      Cucurbitales     Cucurbita                   25   \n",
       "45        Ebenaceae          Ericales     Diospyros                   70   \n",
       "46       Caricaceae       Brassicales        Carica                   39   \n",
       "47       Annonaceae           Rosales       Annonas                   92   \n",
       "48       Salicaceae      Malpighiales      Dovyalis                   47   \n",
       "\n",
       "    nutritions.fat  nutritions.sugar  nutritions.carbohydrates  \\\n",
       "0             0.00             18.00                     18.00   \n",
       "1             0.40              5.40                      5.50   \n",
       "2             0.20             17.20                     22.00   \n",
       "3             0.20              2.60                      3.90   \n",
       "4             0.10             10.00                     15.00   \n",
       "5             5.30              6.75                     27.10   \n",
       "6             0.40              4.50                      9.00   \n",
       "7             0.34              5.74                     11.30   \n",
       "8             0.50              9.00                     15.00   \n",
       "9             0.44             15.00                     17.00   \n",
       "10            0.12              9.85                     13.12   \n",
       "11            0.30             16.00                     19.00   \n",
       "12            0.60              0.00                     10.00   \n",
       "13            0.70             11.20                     22.40   \n",
       "14            0.28              9.92                     11.40   \n",
       "15            0.20              8.20                      8.30   \n",
       "16            0.10              6.40                      3.10   \n",
       "17            0.70              4.40                     12.00   \n",
       "18            0.20              6.00                      8.00   \n",
       "19            0.30              2.50                      9.00   \n",
       "20            0.38             13.70                     15.00   \n",
       "21            0.40              5.40                      5.50   \n",
       "22            0.40             10.30                     11.40   \n",
       "23            1.00              9.00                     14.00   \n",
       "24            0.10              3.20                      3.90   \n",
       "25            0.00              8.00                      8.00   \n",
       "26            0.40              9.10                      8.30   \n",
       "27            0.40              3.00                      7.00   \n",
       "28            0.10              1.70                      8.40   \n",
       "29            1.20             13.70                     18.70   \n",
       "30            1.50              8.00                      9.00   \n",
       "31            0.16             16.00                     18.10   \n",
       "32            0.39              8.10                      9.80   \n",
       "33            0.40              3.00                      8.00   \n",
       "34           14.66              0.66                      8.53   \n",
       "35            0.50              8.90                     14.60   \n",
       "36            0.10              4.00                     12.20   \n",
       "37            0.30              8.00                     12.00   \n",
       "38            0.25              8.40                      9.50   \n",
       "39            0.00             19.10                     23.20   \n",
       "40            1.26              0.50                      7.56   \n",
       "41           61.00              4.30                     17.00   \n",
       "42            0.00              8.50                      9.67   \n",
       "43            0.58             16.11                     17.91   \n",
       "44            0.30              3.30                      4.60   \n",
       "45            0.20             13.00                     19.00   \n",
       "46            0.30              4.40                      5.80   \n",
       "47            0.29              3.40                     19.10   \n",
       "48            0.30              8.10                      9.60   \n",
       "\n",
       "    nutritions.protein  \n",
       "0                 0.00  \n",
       "1                 0.80  \n",
       "2                 1.00  \n",
       "3                 0.90  \n",
       "4                 0.40  \n",
       "5                 1.50  \n",
       "6                 1.30  \n",
       "7                 0.75  \n",
       "8                 1.10  \n",
       "9                 0.80  \n",
       "10                0.54  \n",
       "11                0.80  \n",
       "12                0.90  \n",
       "13                2.20  \n",
       "14                0.70  \n",
       "15                1.00  \n",
       "16                0.40  \n",
       "17                1.20  \n",
       "18                0.60  \n",
       "19                1.10  \n",
       "20                0.82  \n",
       "21                0.00  \n",
       "22                0.30  \n",
       "23                2.60  \n",
       "24                0.50  \n",
       "25                0.00  \n",
       "26                0.00  \n",
       "27                1.00  \n",
       "28                0.30  \n",
       "29                1.70  \n",
       "30                9.00  \n",
       "31                0.72  \n",
       "32                1.44  \n",
       "33                0.60  \n",
       "34                2.00  \n",
       "35                1.14  \n",
       "36                0.40  \n",
       "37                1.00  \n",
       "38                0.90  \n",
       "39                1.72  \n",
       "40                1.78  \n",
       "41               15.00  \n",
       "42                0.82  \n",
       "43                0.41  \n",
       "44                1.10  \n",
       "45                0.60  \n",
       "46                0.50  \n",
       "47                1.50  \n",
       "48                1.20  "
      ]
     },
     "execution_count": 41,
     "metadata": {},
     "output_type": "execute_result"
    }
   ],
   "source": [
    "fruitsDF2.drop(columns=[\"name\",\"id\"],inplace=True)\n",
    "fruitsDF2"
   ]
  },
  {
   "cell_type": "code",
   "execution_count": null,
   "id": "184ac47e-be17-42f5-8ffb-02a4f651e407",
   "metadata": {},
   "outputs": [],
   "source": []
  }
 ],
 "metadata": {
  "kernelspec": {
   "display_name": "Python 3 (ipykernel)",
   "language": "python",
   "name": "python3"
  },
  "language_info": {
   "codemirror_mode": {
    "name": "ipython",
    "version": 3
   },
   "file_extension": ".py",
   "mimetype": "text/x-python",
   "name": "python",
   "nbconvert_exporter": "python",
   "pygments_lexer": "ipython3",
   "version": "3.12.7"
  }
 },
 "nbformat": 4,
 "nbformat_minor": 5
}
