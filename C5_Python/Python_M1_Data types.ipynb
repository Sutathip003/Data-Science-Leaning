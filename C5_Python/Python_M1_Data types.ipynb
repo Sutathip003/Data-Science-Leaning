{
 "cells": [
  {
   "cell_type": "code",
   "execution_count": 1,
   "id": "28efbfb5-041e-461e-ba0e-aed6b3b6e4c1",
   "metadata": {},
   "outputs": [
    {
     "name": "stdout",
     "output_type": "stream",
     "text": [
      "Hello! Python\n"
     ]
    }
   ],
   "source": [
    "print(\"Hello! Python\")\n"
   ]
  },
  {
   "cell_type": "code",
   "execution_count": 2,
   "id": "779fef5a-e349-4fa3-b663-ceb63af003d7",
   "metadata": {},
   "outputs": [
    {
     "name": "stdout",
     "output_type": "stream",
     "text": [
      "3.12.7 | packaged by Anaconda, Inc. | (main, Oct  4 2024, 13:17:27) [MSC v.1929 64 bit (AMD64)]\n"
     ]
    }
   ],
   "source": [
    "# check the python version\n",
    "import sys\n",
    "print(sys.version)"
   ]
  },
  {
   "cell_type": "code",
   "execution_count": 8,
   "id": "49f812a1-2ef9-4bf6-baed-6992e9d8850b",
   "metadata": {},
   "outputs": [
    {
     "data": {
      "text/plain": [
       "17"
      ]
     },
     "execution_count": 8,
     "metadata": {},
     "output_type": "execute_result"
    }
   ],
   "source": [
    "# What is the value of z where z = 2+15\n",
    "z = 2+15\n",
    "z"
   ]
  },
  {
   "cell_type": "markdown",
   "id": "00e94148-899d-4da9-956a-bb5956a6c9a7",
   "metadata": {},
   "source": [
    "## Types"
   ]
  },
  {
   "cell_type": "markdown",
   "id": "24711ad0-c8f7-44b5-b1ae-02eddc0be603",
   "metadata": {},
   "source": [
    "* Intergers\n",
    "* Float\n",
    "* String\n",
    "* Boolean"
   ]
  },
  {
   "cell_type": "code",
   "execution_count": 13,
   "id": "fc0d259f-b4d3-40c8-b664-f409b8046992",
   "metadata": {},
   "outputs": [
    {
     "name": "stdout",
     "output_type": "stream",
     "text": [
      "<class 'int'> <class 'float'> <class 'str'> <class 'str'> <class 'bool'>\n"
     ]
    }
   ],
   "source": [
    "# Tryp fuction\n",
    "a = type(12)\n",
    "b = type(12.22)\n",
    "c = type(\"12\")\n",
    "d = type(\"this is str\")\n",
    "e = type(True)\n",
    "\n",
    "print(a, b, c, d, e)"
   ]
  },
  {
   "cell_type": "code",
   "execution_count": 16,
   "id": "5bae025c-ee74-4d56-8136-87299d7fa2a0",
   "metadata": {},
   "outputs": [
    {
     "data": {
      "text/plain": [
       "sys.float_info(max=1.7976931348623157e+308, max_exp=1024, max_10_exp=308, min=2.2250738585072014e-308, min_exp=-1021, min_10_exp=-307, dig=15, mant_dig=53, epsilon=2.220446049250313e-16, radix=2, rounds=1)"
      ]
     },
     "execution_count": 16,
     "metadata": {},
     "output_type": "execute_result"
    }
   ],
   "source": [
    "#specifics of floats for your runtime environment\n",
    "import sys\n",
    "sys.float_info"
   ]
  },
  {
   "cell_type": "markdown",
   "id": "cfb99db9-83d1-41fb-b112-20e73778c644",
   "metadata": {},
   "source": [
    "#### converting interger to floats"
   ]
  },
  {
   "cell_type": "code",
   "execution_count": 19,
   "id": "11c6e7b3-c9b4-4382-90ad-079ea879a584",
   "metadata": {},
   "outputs": [
    {
     "name": "stdout",
     "output_type": "stream",
     "text": [
      "2.0 <class 'float'>\n"
     ]
    }
   ],
   "source": [
    "# convort int to float\n",
    "a= float(2) \n",
    "b = type(float(2))\n",
    "print(a, b)"
   ]
  },
  {
   "cell_type": "code",
   "execution_count": 21,
   "id": "6599459a-9275-4f2d-80c8-1d6e4f25ee04",
   "metadata": {},
   "outputs": [
    {
     "name": "stdout",
     "output_type": "stream",
     "text": [
      "1 <class 'int'>\n"
     ]
    }
   ],
   "source": [
    "# convort float to int\n",
    "a= int(1.1)\n",
    "b= type(int(1.1))\n",
    "print(a,b)"
   ]
  },
  {
   "cell_type": "code",
   "execution_count": 22,
   "id": "74b5673f-1847-426c-9534-1a9f0bbc8b9f",
   "metadata": {},
   "outputs": [
    {
     "name": "stdout",
     "output_type": "stream",
     "text": [
      "1 <class 'str'>\n"
     ]
    }
   ],
   "source": [
    "# convert int to str\n",
    "a= str(1)\n",
    "b= type(str(1))\n",
    "print(a, b)"
   ]
  },
  {
   "cell_type": "code",
   "execution_count": 23,
   "id": "0ddf0a95-8844-47d7-901c-6507c4516320",
   "metadata": {},
   "outputs": [
    {
     "name": "stdout",
     "output_type": "stream",
     "text": [
      "1 <class 'int'>\n"
     ]
    }
   ],
   "source": [
    "# convert str to int\n",
    "a= int(\"1\")\n",
    "b= type(int(\"1\"))\n",
    "print(a, b)"
   ]
  },
  {
   "cell_type": "code",
   "execution_count": 25,
   "id": "0534a40e-75c6-4af4-81f4-176d908e230d",
   "metadata": {},
   "outputs": [
    {
     "name": "stdout",
     "output_type": "stream",
     "text": [
      "1.1 <class 'float'>\n"
     ]
    }
   ],
   "source": [
    "# convert float to str\n",
    "a= float(1.1)\n",
    "b= type(float(1.1))\n",
    "print(a,b)"
   ]
  },
  {
   "cell_type": "markdown",
   "id": "0f8173fd-d3b0-461d-a8fd-d97cb55757ab",
   "metadata": {},
   "source": [
    "#### Boolean data type"
   ]
  },
  {
   "cell_type": "code",
   "execution_count": 27,
   "id": "8a7b7eed-7f23-4574-81c4-6d07217e6992",
   "metadata": {},
   "outputs": [
    {
     "name": "stdout",
     "output_type": "stream",
     "text": [
      "True <class 'bool'> False <class 'bool'>\n"
     ]
    }
   ],
   "source": [
    "# value true\n",
    "a = True\n",
    "b = False\n",
    "print(a, type(a),b, type(b))"
   ]
  },
  {
   "cell_type": "code",
   "execution_count": 30,
   "id": "bf5b7726-423d-4f57-a5f6-cc6cc29c8e5c",
   "metadata": {},
   "outputs": [
    {
     "name": "stdout",
     "output_type": "stream",
     "text": [
      "True False\n"
     ]
    }
   ],
   "source": [
    "# convert int to bool\n",
    "a = bool(1)\n",
    "b = bool(0)\n",
    "print(a, b)"
   ]
  },
  {
   "cell_type": "code",
   "execution_count": 31,
   "id": "aab6bd45-3e18-497a-86bc-e6800e7bf174",
   "metadata": {},
   "outputs": [
    {
     "name": "stdout",
     "output_type": "stream",
     "text": [
      "1 0\n"
     ]
    }
   ],
   "source": [
    "# convert bool to int\n",
    "c = int(True)\n",
    "d = int(False)\n",
    "print(c,d)"
   ]
  },
  {
   "cell_type": "code",
   "execution_count": 32,
   "id": "c424d414-7c15-4b23-8f4a-ca29fb35762f",
   "metadata": {},
   "outputs": [
    {
     "data": {
      "text/plain": [
       "3"
      ]
     },
     "execution_count": 32,
     "metadata": {},
     "output_type": "execute_result"
    }
   ],
   "source": [
    "int(3.99)"
   ]
  },
  {
   "cell_type": "code",
   "execution_count": null,
   "id": "ee9c03b2-e710-4ba7-8c4d-9a35a83cbf27",
   "metadata": {},
   "outputs": [],
   "source": []
  }
 ],
 "metadata": {
  "kernelspec": {
   "display_name": "Python 3 (ipykernel)",
   "language": "python",
   "name": "python3"
  },
  "language_info": {
   "codemirror_mode": {
    "name": "ipython",
    "version": 3
   },
   "file_extension": ".py",
   "mimetype": "text/x-python",
   "name": "python",
   "nbconvert_exporter": "python",
   "pygments_lexer": "ipython3",
   "version": "3.12.7"
  }
 },
 "nbformat": 4,
 "nbformat_minor": 5
}
