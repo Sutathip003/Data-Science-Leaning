{
 "cells": [
  {
   "cell_type": "markdown",
   "id": "9fa7a8b3-c7f5-4d5d-9469-3615fae6ec84",
   "metadata": {},
   "source": [
    "## Format Strings in Python"
   ]
  },
  {
   "cell_type": "markdown",
   "id": "817d84d0-0dc2-4f58-b736-92fcfff3b5f3",
   "metadata": {},
   "source": [
    "#### f-strings"
   ]
  },
  {
   "cell_type": "code",
   "execution_count": 5,
   "id": "a64bac70-a863-42e0-8666-df0c2182af42",
   "metadata": {},
   "outputs": [
    {
     "name": "stdout",
     "output_type": "stream",
     "text": [
      "My name is Ninja and I am 30 years old\n"
     ]
    }
   ],
   "source": [
    "name = \"Ninja\"\n",
    "age = 30\n",
    "print(f\"My name is {name} and I am {age} years old\")"
   ]
  },
  {
   "cell_type": "markdown",
   "id": "147bb047-974b-4e67-b47f-1ccf33d851f3",
   "metadata": {},
   "source": [
    "#### str.format()"
   ]
  },
  {
   "cell_type": "code",
   "execution_count": 4,
   "id": "9982613d-f7ee-422b-bc59-d3354d34ce6e",
   "metadata": {},
   "outputs": [
    {
     "name": "stdout",
     "output_type": "stream",
     "text": [
      "My name is Ninja and I am 30 years old.\n"
     ]
    }
   ],
   "source": [
    "name = \"Ninja\"\n",
    "age = 30\n",
    "print(\"My name is {} and I am {} years old.\".format(name, age))"
   ]
  },
  {
   "cell_type": "markdown",
   "id": "7d09424f-8a5f-4fa0-9779-d9b9f13faa9c",
   "metadata": {},
   "source": [
    "#### % Operation"
   ]
  },
  {
   "cell_type": "code",
   "execution_count": 6,
   "id": "cb7cab45-a699-4909-bef0-43a29cc19d9e",
   "metadata": {},
   "outputs": [
    {
     "name": "stdout",
     "output_type": "stream",
     "text": [
      "My name is Ninja I am 30 years old.\n"
     ]
    }
   ],
   "source": [
    "name = \"Ninja\"\n",
    "age = 30\n",
    "print(\"My name is %s I am %d years old.\" %(name, age))"
   ]
  },
  {
   "cell_type": "markdown",
   "id": "97fc8a55-d357-4dc4-83d9-7cf0744e2a97",
   "metadata": {},
   "source": [
    "#### Additional capabilities"
   ]
  },
  {
   "cell_type": "code",
   "execution_count": 7,
   "id": "fd922955-05f0-4f43-9945-a2d5805ea2b6",
   "metadata": {},
   "outputs": [
    {
     "name": "stdout",
     "output_type": "stream",
     "text": [
      "The sum of a and b is 75\n"
     ]
    }
   ],
   "source": [
    "a = 20\n",
    "b = 55\n",
    "print(f\"The sum of a and b is {a+b}\")"
   ]
  },
  {
   "cell_type": "code",
   "execution_count": 8,
   "id": "9ba3f141-2379-43d0-9c90-fe81ffaa0601",
   "metadata": {},
   "outputs": [
    {
     "name": "stdout",
     "output_type": "stream",
     "text": [
      "Regular String: C:\n",
      "ew_folder\f",
      "ile.txt\n"
     ]
    }
   ],
   "source": [
    "regular_string = \"C:\\new_folder\\file.txt\"\n",
    "print(\"Regular String:\", regular_string)"
   ]
  },
  {
   "cell_type": "markdown",
   "id": "6b4640e5-0f18-4efe-80c3-56bcc1f660f6",
   "metadata": {},
   "source": [
    "#### raw strings"
   ]
  },
  {
   "cell_type": "code",
   "execution_count": 10,
   "id": "d29fcfe2-0e3b-4fe5-ae24-8516dd3221fa",
   "metadata": {},
   "outputs": [
    {
     "name": "stdout",
     "output_type": "stream",
     "text": [
      "Raw string :  C:\\new_folder\\file.txt\n"
     ]
    }
   ],
   "source": [
    "raw_str = r\"C:\\new_folder\\file.txt\"\n",
    "print(\"Raw string : \", raw_str)"
   ]
  },
  {
   "cell_type": "code",
   "execution_count": null,
   "id": "7eb64b32-233f-48db-8f9c-bd82767ed639",
   "metadata": {},
   "outputs": [],
   "source": []
  }
 ],
 "metadata": {
  "kernelspec": {
   "display_name": "Python 3 (ipykernel)",
   "language": "python",
   "name": "python3"
  },
  "language_info": {
   "codemirror_mode": {
    "name": "ipython",
    "version": 3
   },
   "file_extension": ".py",
   "mimetype": "text/x-python",
   "name": "python",
   "nbconvert_exporter": "python",
   "pygments_lexer": "ipython3",
   "version": "3.12.7"
  }
 },
 "nbformat": 4,
 "nbformat_minor": 5
}
