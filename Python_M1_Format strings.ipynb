{
 "cells": [
  {
   "cell_type": "markdown",
   "id": "9fa7a8b3-c7f5-4d5d-9469-3615fae6ec84",
   "metadata": {},
   "source": [
    "## Format Strings in Python"
   ]
  },
  {
   "cell_type": "markdown",
   "id": "817d84d0-0dc2-4f58-b736-92fcfff3b5f3",
   "metadata": {},
   "source": [
    "#### f-strings"
   ]
  },
  {
   "cell_type": "code",
   "execution_count": 5,
   "id": "a64bac70-a863-42e0-8666-df0c2182af42",
   "metadata": {},
   "outputs": [
    {
     "name": "stdout",
     "output_type": "stream",
     "text": [
      "My name is Ninja and I am 30 years old\n"
     ]
    }
   ],
   "source": [
    "name = \"Ninja\"\n",
    "age = 30\n",
    "print(f\"My name is {name} and I am {age} years old\")"
   ]
  },
  {
   "cell_type": "markdown",
   "id": "147bb047-974b-4e67-b47f-1ccf33d851f3",
   "metadata": {},
   "source": [
    "#### str.format()"
   ]
  },
  {
   "cell_type": "code",
   "execution_count": 4,
   "id": "9982613d-f7ee-422b-bc59-d3354d34ce6e",
   "metadata": {},
   "outputs": [
    {
     "name": "stdout",
     "output_type": "stream",
     "text": [
      "My name is Ninja and I am 30 years old.\n"
     ]
    }
   ],
   "source": [
    "name = \"Ninja\"\n",
    "age = 30\n",
    "print(\"My name is {} and I am {} years old.\".format(name, age))"
   ]
  },
  {
   "cell_type": "markdown",
   "id": "7d09424f-8a5f-4fa0-9779-d9b9f13faa9c",
   "metadata": {},
   "source": [
    "#### % Operation"
   ]
  },
  {
   "cell_type": "code",
   "execution_count": 6,
   "id": "cb7cab45-a699-4909-bef0-43a29cc19d9e",
   "metadata": {},
   "outputs": [
    {
     "name": "stdout",
     "output_type": "stream",
     "text": [
      "My name is Ninja I am 30 years old.\n"
     ]
    }
   ],
   "source": [
    "name = \"Ninja\"\n",
    "age = 30\n",
    "print(\"My name is %s I am %d years old.\" %(name, age))"
   ]
  },
  {
   "cell_type": "markdown",
   "id": "97fc8a55-d357-4dc4-83d9-7cf0744e2a97",
   "metadata": {},
   "source": [
    "#### Additional capabilities"
   ]
  },
  {
   "cell_type": "code",
   "execution_count": 7,
   "id": "fd922955-05f0-4f43-9945-a2d5805ea2b6",
   "metadata": {},
   "outputs": [
    {
     "name": "stdout",
     "output_type": "stream",
     "text": [
      "The sum of a and b is 75\n"
     ]
    }
   ],
   "source": [
    "a = 20\n",
    "b = 55\n",
    "print(f\"The sum of a and b is {a+b}\")"
   ]
  },
  {
   "cell_type": "code",
   "execution_count": 8,
   "id": "9ba3f141-2379-43d0-9c90-fe81ffaa0601",
   "metadata": {},
   "outputs": [
    {
     "name": "stdout",
     "output_type": "stream",
     "text": [
      "Regular String: C:\n",
      "ew_folder\f",
      "ile.txt\n"
     ]
    }
   ],
   "source": [
    "regular_string = \"C:\\new_folder\\file.txt\"\n",
    "print(\"Regular String:\", regular_string)"
   ]
  },
  {
   "cell_type": "markdown",
   "id": "6b4640e5-0f18-4efe-80c3-56bcc1f660f6",
   "metadata": {},
   "source": [
    "#### raw strings"
   ]
  },
  {
   "cell_type": "code",
   "execution_count": 10,
   "id": "d29fcfe2-0e3b-4fe5-ae24-8516dd3221fa",
   "metadata": {},
   "outputs": [
    {
     "name": "stdout",
     "output_type": "stream",
     "text": [
      "Raw string :  C:\\new_folder\\file.txt\n"
     ]
    }
   ],
   "source": [
    "raw_str = r\"C:\\new_folder\\file.txt\"\n",
    "print(\"Raw string : \", raw_str)"
   ]
  },
  {
   "cell_type": "markdown",
   "id": "71c79705-45ec-4a8b-97ad-e4036e23bec4",
   "metadata": {},
   "source": [
    "#### Indexing"
   ]
  },
  {
   "cell_type": "code",
   "execution_count": 5,
   "id": "90489dd2-6de8-434f-9658-bf135247dc55",
   "metadata": {},
   "outputs": [
    {
     "name": "stdout",
     "output_type": "stream",
     "text": [
      "N a\n"
     ]
    },
    {
     "data": {
      "text/plain": [
       "5"
      ]
     },
     "execution_count": 5,
     "metadata": {},
     "output_type": "execute_result"
    }
   ],
   "source": [
    "name = \"Ninja\"\n",
    "print(name[0], name[-1])\n",
    "\n",
    "# Find the length of string\n",
    "len(\"Ninja\")"
   ]
  },
  {
   "cell_type": "markdown",
   "id": "d3588059-dfd2-45e4-8f28-6782f5000c03",
   "metadata": {},
   "source": [
    "##### slicing"
   ]
  },
  {
   "cell_type": "code",
   "execution_count": 7,
   "id": "cc124a81-2455-4f42-8ffd-11a8319ebb78",
   "metadata": {},
   "outputs": [
    {
     "data": {
      "text/plain": [
       "'Nin'"
      ]
     },
     "execution_count": 7,
     "metadata": {},
     "output_type": "execute_result"
    }
   ],
   "source": [
    "name[0:3]"
   ]
  },
  {
   "cell_type": "code",
   "execution_count": 17,
   "id": "f2646cc7-77d2-453e-b34a-fee8ccc0ebfa",
   "metadata": {},
   "outputs": [
    {
     "data": {
      "text/plain": [
       "'ja'"
      ]
     },
     "execution_count": 17,
     "metadata": {},
     "output_type": "execute_result"
    }
   ],
   "source": [
    "name[-2:]"
   ]
  },
  {
   "cell_type": "markdown",
   "id": "3cd1228f-20a0-4f24-905d-7397432bd318",
   "metadata": {},
   "source": [
    "##### Stride\n"
   ]
  },
  {
   "cell_type": "code",
   "execution_count": 18,
   "id": "bdacca55-65b6-4857-980f-3949a5fe6f80",
   "metadata": {},
   "outputs": [
    {
     "data": {
      "text/plain": [
       "'Ti sm rgn'"
      ]
     },
     "execution_count": 18,
     "metadata": {},
     "output_type": "execute_result"
    }
   ],
   "source": [
    "#selecting every second variable\n",
    "x = \"This is my dragon\"\n",
    "y = x[::2]\n",
    "y"
   ]
  },
  {
   "cell_type": "code",
   "execution_count": 20,
   "id": "bb608a53-565c-46bc-a1d9-87c3432f543a",
   "metadata": {},
   "outputs": [
    {
     "data": {
      "text/plain": [
       "'Tssyro'"
      ]
     },
     "execution_count": 20,
     "metadata": {},
     "output_type": "execute_result"
    }
   ],
   "source": [
    "#selecting every third variable\n",
    "x = \"This is my dragon\"\n",
    "y = x[::3]\n",
    "y"
   ]
  },
  {
   "cell_type": "code",
   "execution_count": 21,
   "id": "a434288f-7eb9-45e1-8d5d-cdfee6d4c895",
   "metadata": {},
   "outputs": [
    {
     "data": {
      "text/plain": [
       "'Ti '"
      ]
     },
     "execution_count": 21,
     "metadata": {},
     "output_type": "execute_result"
    }
   ],
   "source": [
    "# Get every second element in the range from index 0 to index 4\n",
    "x = \"This is my dragon\"\n",
    "y = x[0:5:2]\n",
    "y"
   ]
  },
  {
   "cell_type": "markdown",
   "id": "bcd222b3-ae7d-4e87-a94b-b002449a2351",
   "metadata": {},
   "source": [
    "#### Concatenate Strings"
   ]
  },
  {
   "cell_type": "code",
   "execution_count": 27,
   "id": "02c0d0b9-162f-4e84-95f2-e378afeb19ca",
   "metadata": {},
   "outputs": [
    {
     "data": {
      "text/plain": [
       "'DrogonDrogonDrogon'"
      ]
     },
     "execution_count": 27,
     "metadata": {},
     "output_type": "execute_result"
    }
   ],
   "source": [
    "#print str 3 times\n",
    "dragon1 = \"Drogon\"\n",
    "dragon1*3"
   ]
  },
  {
   "cell_type": "code",
   "execution_count": 28,
   "id": "c053a5dd-695b-422b-b2a8-04f31f0a157c",
   "metadata": {},
   "outputs": [
    {
     "data": {
      "text/plain": [
       "'Drogon Rhaegl Viserion'"
      ]
     },
     "execution_count": 28,
     "metadata": {},
     "output_type": "execute_result"
    }
   ],
   "source": [
    "Daenerys_Dragon = dragon1 + \" Rhaegal\" + \" Viserion\"\n",
    "Daenerys_Dragon"
   ]
  },
  {
   "cell_type": "markdown",
   "id": "3063ea9e-cdf7-4186-bb7b-b7e1eeec18ca",
   "metadata": {},
   "source": [
    "#### Escape Sequences"
   ]
  },
  {
   "cell_type": "code",
   "execution_count": 30,
   "id": "457d0dc9-206f-4f3d-a20e-eaa88e4fc663",
   "metadata": {},
   "outputs": [
    {
     "name": "stdout",
     "output_type": "stream",
     "text": [
      "Drogon \n",
      "Rhaegal\n",
      "Viserion\n"
     ]
    }
   ],
   "source": [
    "# new line\n",
    "print(f\"{dragon1} \\nRhaegal\\nViserion\")"
   ]
  },
  {
   "cell_type": "code",
   "execution_count": 33,
   "id": "c702a421-8807-4072-afb3-b1a4f533df5b",
   "metadata": {},
   "outputs": [
    {
     "name": "stdout",
     "output_type": "stream",
     "text": [
      "The best Deaney's dragon is \t Drogon\n"
     ]
    }
   ],
   "source": [
    "# teb escape sequence\n",
    "print(f\"The best Deaney's dragon is \\t {dragon1}\")"
   ]
  },
  {
   "cell_type": "code",
   "execution_count": 38,
   "id": "fdcea605-b446-4d08-840b-2b8444109571",
   "metadata": {},
   "outputs": [
    {
     "name": "stdout",
     "output_type": "stream",
     "text": [
      "The best Deaney's dragon is \\Drogon\n",
      "The best Deaney's dragon is\\ Drogon\n"
     ]
    }
   ],
   "source": [
    "# include backslash in string\n",
    "print(f\"The best Deaney's dragon is \\\\{dragon1}\")\n",
    "print(r\"The best Deaney's dragon is\\ Drogon\")"
   ]
  },
  {
   "cell_type": "markdown",
   "id": "a1a63913-6f3e-4ad3-be1b-5319d468f5a6",
   "metadata": {},
   "source": [
    "#### String Manipulation Operations"
   ]
  },
  {
   "cell_type": "code",
   "execution_count": 45,
   "id": "abd2f6a2-c3e7-459d-898d-b0ed6e5f19e3",
   "metadata": {},
   "outputs": [
    {
     "name": "stdout",
     "output_type": "stream",
     "text": [
      "DROGON RHAEGAL VISERION\n"
     ]
    }
   ],
   "source": [
    "# convert to uppercase\n",
    "Daenerys_Dragon = \"Drogon Rhaegal Viserion\"\n",
    "DeaneyD_Upper = Daenerys_Dragon.upper()\n",
    "print(DeaneyD_Upper)"
   ]
  },
  {
   "cell_type": "code",
   "execution_count": 44,
   "id": "26986215-0484-44db-afdd-e1866ef43904",
   "metadata": {},
   "outputs": [
    {
     "name": "stdout",
     "output_type": "stream",
     "text": [
      "drogon rhaegal viserion\n"
     ]
    }
   ],
   "source": [
    "# convert to lowercase\n",
    "DeaneyD_Lower = Daenerys_Dragon.lower()\n",
    "print(DeaneyD_Lower)"
   ]
  },
  {
   "cell_type": "code",
   "execution_count": 50,
   "id": "dbcac18d-c276-4f4d-8c33-b3a42acffc99",
   "metadata": {},
   "outputs": [
    {
     "data": {
      "text/plain": [
       "'Syrax Rhaegal Viserion'"
      ]
     },
     "execution_count": 50,
     "metadata": {},
     "output_type": "execute_result"
    }
   ],
   "source": [
    "# replace string\n",
    "Daenerys_Dragon = \"Drogon Rhaegal Viserion\"\n",
    "Rhaenyra_Dragon = \"Syrax\"\n",
    "newKingdom = Daenerys_Dragon.replace(\"Drogon\", Rhaenyra_Dragon)\n",
    "newKingdom"
   ]
  },
  {
   "cell_type": "code",
   "execution_count": 121,
   "id": "672e9622-f07b-4554-858f-bb8841fe0b0a",
   "metadata": {},
   "outputs": [
    {
     "data": {
      "text/plain": [
       "9"
      ]
     },
     "execution_count": 121,
     "metadata": {},
     "output_type": "execute_result"
    }
   ],
   "source": [
    "# Find index substring\n",
    "sentence = \"I like a dragon stories\"\n",
    "find = sentence.find(\"dragon\")\n",
    "find "
   ]
  },
  {
   "cell_type": "code",
   "execution_count": 55,
   "id": "62dc9e9b-502d-4c2f-ad1a-17acfed10b49",
   "metadata": {},
   "outputs": [
    {
     "data": {
      "text/plain": [
       "['I', 'like', 'a', 'dragon', 'stories']"
      ]
     },
     "execution_count": 55,
     "metadata": {},
     "output_type": "execute_result"
    }
   ],
   "source": [
    "# split()\n",
    "split_str = sentence.split()\n",
    "split_str"
   ]
  },
  {
   "cell_type": "markdown",
   "id": "b910caf3-4c2a-40aa-bc7b-1c8fe30a9026",
   "metadata": {},
   "source": [
    "#### RegEx (Regular Expression)"
   ]
  },
  {
   "cell_type": "code",
   "execution_count": 56,
   "id": "4581449f-ca65-4e0d-93e4-3f06edcbdb60",
   "metadata": {},
   "outputs": [],
   "source": [
    "import re"
   ]
  },
  {
   "cell_type": "code",
   "execution_count": 62,
   "id": "0b3f123e-db70-48a5-9145-138600e82c3b",
   "metadata": {},
   "outputs": [
    {
     "name": "stdout",
     "output_type": "stream",
     "text": [
      "best\n",
      "<re.Match object; span=(21, 25), match='best'>\n",
      "Match found\n"
     ]
    }
   ],
   "source": [
    "# Define the pattern to search for\n",
    "x = \"The Bodyguard is the best alblum\"\n",
    "pattern = r\"best\"\n",
    "print(pattern)\n",
    "\n",
    "# Use search() search for the pattern\n",
    "result = re.search(pattern, x)\n",
    "print(result)\n",
    "\n",
    "# Check if a match was found\n",
    "if result: \n",
    "    print(\"Match found\")\n",
    "else:\n",
    "    print(\"Match not found\")"
   ]
  },
  {
   "cell_type": "markdown",
   "id": "7bf7f977-990a-499e-94f7-c7d75597cde2",
   "metadata": {},
   "source": [
    "#### specail sequence"
   ]
  },
  {
   "cell_type": "code",
   "execution_count": 122,
   "id": "78752ff4-ee54-4040-b0ba-a3a8559b2d16",
   "metadata": {},
   "outputs": [
    {
     "name": "stdout",
     "output_type": "stream",
     "text": [
      "Phone number found :  1234567890\n",
      "Non-digit character found:   years old\n",
      "word character found:   you \n",
      "Non_character found:  [\"'\", ' ', ' ', ' ', ',', ' ', ' ', ' ', ' ', ' ', ' ', '%', '*', '*', '$', '$', '#', '#', ' ', ' ', ' ', ' ', ' ', ' ']\n",
      "Boundary between a word found:  call\n",
      "Not match\n"
     ]
    }
   ],
   "source": [
    "import re\n",
    "\n",
    "#findall() finds all occurrences of the specified  pattern\n",
    "\n",
    "patternPhone = r\"\\d\\d\\d\\d\\d\\d\\d\\d\\d\\d\"\n",
    "patternNon_digit = r\"\\D\\D\\D\\D\\D\\D\\D\\D\\D\\D\"\n",
    "patternWord = r\"\\s\\w\\w\\w\\s\"\n",
    "patternNon_cha = r\"\\W\"\n",
    "patternBoundaryWord = r\"\\bcall\\b\"\n",
    "patternNotBoundaryWord = r\"\\Bcall\\B\"\n",
    "text = \"I'm 29 years old, you can call me Ninja_W %**$$## My phone number is 1234567890 hello_world\"\n",
    "match1 = re.search(patternPhone, text)\n",
    "match2 = re.search(patternNon_digit, text)\n",
    "match3 = re.search(patternWord, text)\n",
    "match4 = re.findall(patternNon_cha, text)\n",
    "match5 = re.search(patternBoundaryWord, text)\n",
    "match6 = re.search(patternNotBoundaryWord, text)\n",
    "\n",
    "if match1:\n",
    "    print(\"Phone number found : \", match1.group())\n",
    "if match2:\n",
    "    print(\"Non-digit character found: \", match2.group())\n",
    "if match3:\n",
    "    print(\"word character found: \", match3.group())\n",
    "if match4:\n",
    "    print(\"Non_character found: \", match4)\n",
    "if match5:\n",
    "    print(\"Boundary between a word found: \", match5.group())\n",
    "if match6:\n",
    "    print(\"Not a word boundaryfound: \", match6.group())\n",
    "else: \n",
    "    print(\"Not match\")"
   ]
  },
  {
   "cell_type": "code",
   "execution_count": 110,
   "id": "a3b78620-8259-4417-9f1a-182d5efabe87",
   "metadata": {},
   "outputs": [
    {
     "name": "stdout",
     "output_type": "stream",
     "text": [
      "[\"I'm\", '29', 'years', 'old,', 'you', 'can', 'call', 'me', 'Ninja_W', '%**$$##', 'My', 'phone', 'number', 'is', '1234567890', 'hello_world']\n"
     ]
    },
    {
     "name": "stderr",
     "output_type": "stream",
     "text": [
      "<>:2: SyntaxWarning: invalid escape sequence '\\s'\n",
      "<>:2: SyntaxWarning: invalid escape sequence '\\s'\n",
      "C:\\Users\\you computer\\AppData\\Local\\Temp\\ipykernel_8332\\1275129458.py:2: SyntaxWarning: invalid escape sequence '\\s'\n",
      "  split_text = re.split(\"\\s\", text) #\\s will escape white spece\n"
     ]
    }
   ],
   "source": [
    "# re.split()\n",
    "split_text = re.split(\"\\s\", text) #\\s will escape white spece\n",
    "print(split_text)"
   ]
  },
  {
   "cell_type": "code",
   "execution_count": 120,
   "id": "341c6b1c-9974-4932-ba61-1714e23881c1",
   "metadata": {},
   "outputs": [
    {
     "name": "stdout",
     "output_type": "stream",
     "text": [
      "Pumpui is amezing\n"
     ]
    }
   ],
   "source": [
    "# re.sub()\n",
    "sentence = \"Ninja is amezing\"\n",
    "pattern = r\"ninja\"\n",
    "new_t = \"Pumpui\"\n",
    "new_sent = re.sub(pattern, new_t, sentence, flags=re.IGNORECASE)\n",
    "print(new_sent)"
   ]
  },
  {
   "cell_type": "code",
   "execution_count": null,
   "id": "11917480-3930-47c1-a5e2-c2b4c944e271",
   "metadata": {},
   "outputs": [],
   "source": []
  }
 ],
 "metadata": {
  "kernelspec": {
   "display_name": "Python 3 (ipykernel)",
   "language": "python",
   "name": "python3"
  },
  "language_info": {
   "codemirror_mode": {
    "name": "ipython",
    "version": 3
   },
   "file_extension": ".py",
   "mimetype": "text/x-python",
   "name": "python",
   "nbconvert_exporter": "python",
   "pygments_lexer": "ipython3",
   "version": "3.12.7"
  }
 },
 "nbformat": 4,
 "nbformat_minor": 5
}
