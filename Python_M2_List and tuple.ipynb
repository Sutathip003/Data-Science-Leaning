{
 "cells": [
  {
   "cell_type": "markdown",
   "id": "19d315cd-d93b-4468-9a52-534969fe60d9",
   "metadata": {},
   "source": [
    "## Lists"
   ]
  },
  {
   "cell_type": "code",
   "execution_count": 19,
   "id": "ea68b925-619d-4e70-892a-7029aa8263ea",
   "metadata": {},
   "outputs": [
    {
     "name": "stdout",
     "output_type": "stream",
     "text": [
      "Positive index :  A dog \n",
      "Negative index A dog\n"
     ]
    }
   ],
   "source": [
    "# Lists operations\n",
    "List = [\"A dog\", 3.2, 1998, True,  [1, 2], (\"A\", 1)]\n",
    "print(\"Positive index : \", List[0], \"\\nNegative index\",List[-6])"
   ]
  },
  {
   "cell_type": "code",
   "execution_count": 20,
   "id": "075c09bd-5883-4100-afc3-c51c6bb28364",
   "metadata": {},
   "outputs": [
    {
     "name": "stdout",
     "output_type": "stream",
     "text": [
      "[3.2, 1998]\n"
     ]
    }
   ],
   "source": [
    "#List slicing\n",
    "slice_list = List[1:3]\n",
    "print(slice_list)"
   ]
  },
  {
   "cell_type": "code",
   "execution_count": 27,
   "id": "65e8dbe2-2746-41dc-b556-2340ef8d32e8",
   "metadata": {},
   "outputs": [
    {
     "name": "stdout",
     "output_type": "stream",
     "text": [
      "['A dog', 3.2, 1998, True, [1, 2], ('A', 1), 'cat', False, ['cat', False], 'cat', False, 'cat', False, 'cat', False, ['cat', False], 'cat', False]\n"
     ]
    }
   ],
   "source": [
    "# Extend list\n",
    "List2 = [\"cat\", False]\n",
    "List.extend(List2)\n",
    "print(List)"
   ]
  },
  {
   "cell_type": "code",
   "execution_count": 28,
   "id": "ac9a1dbc-a2d9-48ad-8c51-367c8f85acd9",
   "metadata": {},
   "outputs": [
    {
     "name": "stdout",
     "output_type": "stream",
     "text": [
      "['A dog', 3.2, 1998, True, [1, 2], ('A', 1), 'cat', False, ['cat', False], 'cat', False, 'cat', False, 'cat', False, ['cat', False], 'cat', False, ['cat', False]]\n"
     ]
    }
   ],
   "source": [
    "# Append list\n",
    "List2 = [\"cat\", False]\n",
    "List.append(List2)\n",
    "print(List)"
   ]
  },
  {
   "cell_type": "code",
   "execution_count": 30,
   "id": "ad01c931-c853-43fc-9dfe-06abe11b2767",
   "metadata": {},
   "outputs": [
    {
     "name": "stdout",
     "output_type": "stream",
     "text": [
      "19\n"
     ]
    }
   ],
   "source": [
    "# check list length\n",
    "len_list = len(List)\n",
    "print(len_list)"
   ]
  },
  {
   "cell_type": "code",
   "execution_count": 63,
   "id": "e99b0411-22c6-42b0-b90f-d997c7ee58cb",
   "metadata": {},
   "outputs": [
    {
     "name": "stdout",
     "output_type": "stream",
     "text": [
      "List1 Length :  5\n",
      "['A dog', 3.2, 'cat', 'None', 'x,y,z']\n"
     ]
    }
   ],
   "source": [
    "# Change the element\n",
    "List1 = ['A dog', 3.2,'cat', False, \"x,y,z\"]\n",
    "List1[-2] = \"None\"\n",
    "lenList1 = len(List1)\n",
    "print(\"List1 Length : \", lenList1)\n",
    "print(List1)"
   ]
  },
  {
   "cell_type": "code",
   "execution_count": 64,
   "id": "10d7febe-dacc-4397-ab63-c2c683c2c323",
   "metadata": {},
   "outputs": [
    {
     "name": "stdout",
     "output_type": "stream",
     "text": [
      "['A dog', 3.2, 'cat', 'x,y,z']\n"
     ]
    }
   ],
   "source": [
    "# Delete the element \n",
    "del(List1[-2])\n",
    "print(List1)"
   ]
  },
  {
   "cell_type": "code",
   "execution_count": 65,
   "id": "5f4ad231-da28-4635-a27d-f82d51407fc1",
   "metadata": {},
   "outputs": [
    {
     "data": {
      "text/plain": [
       "['A', 'dog']"
      ]
     },
     "execution_count": 65,
     "metadata": {},
     "output_type": "execute_result"
    }
   ],
   "source": [
    "#Split by white space\n",
    "List1[0].split()"
   ]
  },
  {
   "cell_type": "code",
   "execution_count": 66,
   "id": "176526c5-8279-4697-a8be-03ddb0b1f93f",
   "metadata": {},
   "outputs": [
    {
     "name": "stdout",
     "output_type": "stream",
     "text": [
      "['A dog', 3.2, 'cat', 'x,y,z']\n"
     ]
    },
    {
     "data": {
      "text/plain": [
       "['x', 'y', 'z']"
      ]
     },
     "execution_count": 66,
     "metadata": {},
     "output_type": "execute_result"
    }
   ],
   "source": [
    "#Split by comma\n",
    "print(List1)\n",
    "List1[-1].split(\",\")"
   ]
  },
  {
   "cell_type": "markdown",
   "id": "08bac165-67e8-443a-bd65-b35ef4122be7",
   "metadata": {},
   "source": [
    "#### Copy and Clone List"
   ]
  },
  {
   "cell_type": "code",
   "execution_count": 71,
   "id": "706bd22d-c33c-4001-ba1b-a67d7c547b69",
   "metadata": {},
   "outputs": [
    {
     "name": "stdout",
     "output_type": "stream",
     "text": [
      "Before clone :  ['Bad', 32, 'Cat', 96]\n",
      "After clone :  ['Bad', 32, 'Cat', 96]\n"
     ]
    }
   ],
   "source": [
    "# Copy referance\n",
    "nL = [\"Bad\", 32, \"Cat\", 96]\n",
    "print(\"Before clone : \", nL)\n",
    "CnL = nL\n",
    "print(\"After clone : \", CnL)"
   ]
  },
  {
   "cell_type": "code",
   "execution_count": 75,
   "id": "95d0d0d3-1b4b-46bc-ac8d-a93929a0a144",
   "metadata": {},
   "outputs": [
    {
     "name": "stdout",
     "output_type": "stream",
     "text": [
      "nL:  ['Dog', 32, 'Cat', 96]\n",
      "CnL:  ['Dog', 32, 'Cat', 96]\n"
     ]
    }
   ],
   "source": [
    "nL[0] = \"Dog\"\n",
    "print(\"nL: \", nL)\n",
    "print(\"CnL: \", CnL)"
   ]
  },
  {
   "cell_type": "code",
   "execution_count": 81,
   "id": "84790ea3-abbe-462c-a503-c45824a4c299",
   "metadata": {},
   "outputs": [
    {
     "name": "stdout",
     "output_type": "stream",
     "text": [
      "nL:  ['Ret', 32, 'Cat', 96]\n",
      "CnL:  ['Dog', 32, 'Cat', 96]\n"
     ]
    }
   ],
   "source": [
    "# Clone \n",
    "nL = CnL[:]\n",
    "nL[0] = \"Ret\"\n",
    "print(\"nL: \", nL)\n",
    "print(\"CnL: \", CnL)"
   ]
  },
  {
   "cell_type": "markdown",
   "id": "c29a98bf-ea3f-4659-9cfa-9623c4153e38",
   "metadata": {},
   "source": [
    "## Tuples"
   ]
  },
  {
   "cell_type": "code",
   "execution_count": null,
   "id": "dd44c100-2067-4074-a5cf-6359dcf5eec8",
   "metadata": {},
   "outputs": [],
   "source": []
  }
 ],
 "metadata": {
  "kernelspec": {
   "display_name": "Python 3 (ipykernel)",
   "language": "python",
   "name": "python3"
  },
  "language_info": {
   "codemirror_mode": {
    "name": "ipython",
    "version": 3
   },
   "file_extension": ".py",
   "mimetype": "text/x-python",
   "name": "python",
   "nbconvert_exporter": "python",
   "pygments_lexer": "ipython3",
   "version": "3.12.7"
  }
 },
 "nbformat": 4,
 "nbformat_minor": 5
}
