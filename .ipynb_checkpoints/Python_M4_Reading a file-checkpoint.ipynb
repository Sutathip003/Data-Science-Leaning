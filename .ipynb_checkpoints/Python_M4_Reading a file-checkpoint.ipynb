{
 "cells": [
  {
   "cell_type": "markdown",
   "id": "66dea3bc-43a8-4723-9695-7f6fd071f30e",
   "metadata": {},
   "source": [
    "## Reading a file with Open()"
   ]
  },
  {
   "cell_type": "code",
   "execution_count": 35,
   "id": "cba563bc-443d-4339-b30b-fc472ff42772",
   "metadata": {},
   "outputs": [],
   "source": [
    "# open file\n",
    "file_path = \"test.txt\"\n",
    "file = open(file_path, \"r\")\n"
   ]
  },
  {
   "cell_type": "code",
   "execution_count": 36,
   "id": "0ea14fc6-0319-4267-b622-7673fa53dc80",
   "metadata": {},
   "outputs": [
    {
     "name": "stdout",
     "output_type": "stream",
     "text": [
      "This is file name : test.txt\n",
      "This is mode :  r\n"
     ]
    }
   ],
   "source": [
    "# Print the path of file\n",
    "print(\"This is file name :\" ,file.name)\n",
    "print(\"This is mode : \", file.mode)"
   ]
  },
  {
   "cell_type": "code",
   "execution_count": 38,
   "id": "835a201f-7afd-486c-ab1b-86921c71bef9",
   "metadata": {},
   "outputs": [
    {
     "name": "stdout",
     "output_type": "stream",
     "text": [
      "\n",
      "This is type content :  <class 'str'>\n"
     ]
    }
   ],
   "source": [
    "# read file\n",
    "fileContent= file.read()\n",
    "print(fileContent)\n",
    "\n",
    "print(\"This is type content : \", type(fileContent))"
   ]
  },
  {
   "cell_type": "code",
   "execution_count": 56,
   "id": "7f79ff5a-13e9-4a82-8305-998e23b00b1e",
   "metadata": {},
   "outputs": [],
   "source": [
    "# clowe file\n",
    "file.close()"
   ]
  },
  {
   "cell_type": "markdown",
   "id": "56c171b0-7224-496a-b1bc-a78b9eb0f639",
   "metadata": {},
   "source": [
    "#### Better way to Open file"
   ]
  },
  {
   "cell_type": "code",
   "execution_count": 65,
   "id": "82fb51cd-88a3-4155-9d8d-917602eba46e",
   "metadata": {},
   "outputs": [
    {
     "name": "stdout",
     "output_type": "stream",
     "text": [
      "Hello world 1\n",
      "Hello world 2\n",
      "Hello world 3\n",
      "Hello world 4\n"
     ]
    }
   ],
   "source": [
    "with open(file_path, \"r\") as file:\n",
    "    fileContent = file.read()\n",
    "print(fileContent)"
   ]
  },
  {
   "cell_type": "code",
   "execution_count": 66,
   "id": "8b245731-36e2-404c-b84a-4ffba94f820b",
   "metadata": {},
   "outputs": [
    {
     "data": {
      "text/plain": [
       "True"
      ]
     },
     "execution_count": 66,
     "metadata": {},
     "output_type": "execute_result"
    }
   ],
   "source": [
    "# check close file\n",
    "file.closed"
   ]
  },
  {
   "cell_type": "code",
   "execution_count": 67,
   "id": "de50d523-13e9-4552-a9dd-3cbcd2932799",
   "metadata": {},
   "outputs": [
    {
     "name": "stdout",
     "output_type": "stream",
     "text": [
      "Hell\n",
      "o worl\n"
     ]
    }
   ],
   "source": [
    "# First of four characte\n",
    "with open(file_path, \"r\")as file:\n",
    "    file_read4 = file.read(4)\n",
    "    file_read6 = file.read(6)\n",
    "    print(file_read4)\n",
    "    print(file_read6)"
   ]
  },
  {
   "cell_type": "code",
   "execution_count": 70,
   "id": "a950fd41-cd40-4af5-8473-7206b76912b5",
   "metadata": {},
   "outputs": [
    {
     "name": "stdout",
     "output_type": "stream",
     "text": [
      "first line: Hello\n"
     ]
    }
   ],
   "source": [
    "# read only 1 line\n",
    "with open(file_path, \"r\") as file:\n",
    "    print(\"first line: \" + file.readline(5))"
   ]
  },
  {
   "cell_type": "code",
   "execution_count": 72,
   "id": "ae15f8d5-1205-49fd-b1ae-e597b0bb9dad",
   "metadata": {},
   "outputs": [
    {
     "name": "stdout",
     "output_type": "stream",
     "text": [
      "Iteration 0 : Hello world 1\n",
      "\n",
      "Iteration 1 : Hello world 2\n",
      "\n",
      "Iteration 2 : Hello world 3\n",
      "\n",
      "Iteration 3 : Hello world 4\n"
     ]
    }
   ],
   "source": [
    "# Itrarate through line\n",
    "with open(file_path, \"r\") as file:\n",
    "    i = 0;\n",
    "    for line in file:\n",
    "        print(\"Iteration\", str(i), \":\", line)\n",
    "        i +=1 \n",
    "    "
   ]
  },
  {
   "cell_type": "code",
   "execution_count": 77,
   "id": "403434de-e770-4471-bcf5-b207cdb9bcdc",
   "metadata": {},
   "outputs": [
    {
     "data": {
      "text/plain": [
       "['Hello world 1\\n', 'Hello world 2\\n', 'Hello world 3\\n']"
      ]
     },
     "execution_count": 77,
     "metadata": {},
     "output_type": "execute_result"
    }
   ],
   "source": [
    "# read all line as list\n",
    "with open(file_path, \"r\") as file:\n",
    "    fileList = file.readlines()\n",
    "    \n",
    "fileList[0:3]"
   ]
  },
  {
   "cell_type": "markdown",
   "id": "37551b76-14ac-4f36-8809-f776902e3cae",
   "metadata": {},
   "source": [
    "# Wring File wiht open"
   ]
  },
  {
   "cell_type": "code",
   "execution_count": 83,
   "id": "41837fd7-6263-464d-998c-5e5f8bbaeed5",
   "metadata": {},
   "outputs": [
    {
     "name": "stdout",
     "output_type": "stream",
     "text": [
      "This is line 1\n",
      "This is line 2\n",
      "This is line 3\n",
      "This is line 4\n",
      "\n"
     ]
    }
   ],
   "source": [
    "# overwrite same file\n",
    "\n",
    "Lines = [\"This is line 1\",\"This is line 2\",\"This is line 3\",\"This is line 4\",]\n",
    "\n",
    "with open(file_path, \"w\") as file2:\n",
    "    for line in Lines:\n",
    "        file2.write(line + \"\\n\")\n",
    "\n",
    "with open(file_path, \"r\") as file2:\n",
    "    fileContent = file2.read()\n",
    "    print(fileContent)"
   ]
  },
  {
   "cell_type": "markdown",
   "id": "3357b11c-7c22-4e67-a4f1-23939d4cf9fd",
   "metadata": {},
   "source": [
    "## Appending data to an existing file"
   ]
  },
  {
   "cell_type": "code",
   "execution_count": 90,
   "id": "0f4d885b-ab4e-4232-8b82-feea0deed01b",
   "metadata": {},
   "outputs": [
    {
     "name": "stdout",
     "output_type": "stream",
     "text": [
      "This is line 1\n",
      "This is line 2\n",
      "This is line 3\n",
      "This is line 4\n",
      "This is line 5\n",
      "This is line 5\n",
      "This is line 5\n",
      "\n"
     ]
    }
   ],
   "source": [
    "# continue write or Appending data in the same file\n",
    "Newdata = \"This is line 5\"\n",
    "\n",
    "with open(file_path, \"a\") as file:\n",
    "    fileW = file.write(Newdata + \"\\n\")\n",
    "\n",
    "with open(file_path, \"r\") as file2:\n",
    "    fileContent = file2.read()\n",
    "    print(fileContent)"
   ]
  },
  {
   "cell_type": "markdown",
   "id": "4d75be10-23ac-464d-98c9-f4c60fc69266",
   "metadata": {},
   "source": [
    "## Copying contents from one file to another"
   ]
  },
  {
   "cell_type": "code",
   "execution_count": 105,
   "id": "dbaffbaf-99af-441a-a4c9-70027e242393",
   "metadata": {},
   "outputs": [
    {
     "name": "stdout",
     "output_type": "stream",
     "text": [
      "This is line 1\n",
      "This is line 2\n",
      "This is line 3\n",
      "This is line 4\n",
      "This is line 5\n",
      "This is line 5\n",
      "This is line 5\n",
      "This is update textThis is update text \n",
      "This is update text \n",
      "This is update text \n",
      "This is update text \n",
      "\n"
     ]
    }
   ],
   "source": [
    "# copy file\n",
    "\n",
    "with open(file_path, \"r\") as souce_file:\n",
    "    with open(\"newfile.txt\", \"w\") as destination_file:\n",
    "        for line in souce_file:\n",
    "            destination_file.write(line)\n",
    "\n",
    "#Verify if the copy is successfully execute\n",
    "with open(\"newfile.txt\", \"r\") as file:\n",
    "    print(file.read())"
   ]
  },
  {
   "cell_type": "code",
   "execution_count": 94,
   "id": "57986f46-3bdb-4ec2-8c68-2a19c49b5329",
   "metadata": {},
   "outputs": [
    {
     "name": "stdout",
     "output_type": "stream",
     "text": [
      "<_io.TextIOWrapper name='text1.txt' mode='x' encoding='cp1252'>\n"
     ]
    }
   ],
   "source": [
    "# create new file\n",
    "with open(\"text1.txt\", \"x\") as file:\n",
    "    print(file)"
   ]
  },
  {
   "cell_type": "markdown",
   "id": "0208db3e-3972-40da-b8e3-dfaa91e0a03f",
   "metadata": {},
   "source": [
    "## Addition method"
   ]
  },
  {
   "cell_type": "markdown",
   "id": "00402628-839c-4766-a120-334e395aba52",
   "metadata": {},
   "source": [
    "- **r+** : Reading and writing. Cannot truncate the file.\n",
    "- **w+** : Writing and reading. Truncates the file.\n",
    "- **a+** : Appending and Reading. Creates a new file, if none exists. "
   ]
  },
  {
   "cell_type": "code",
   "execution_count": 101,
   "id": "85bd7cb3-6e00-43de-abc5-d7d243f15619",
   "metadata": {},
   "outputs": [
    {
     "name": "stdout",
     "output_type": "stream",
     "text": [
      "Initial location: 219\n",
      "Read Nothing\n",
      "\n",
      "New location : 0\n",
      "This is line 1\n",
      "This is line 2\n",
      "This is line 3\n",
      "This is line 4\n",
      "This is line 5\n",
      "This is line 5\n",
      "This is line 5\n",
      "This is update textThis is update text \n",
      "This is update text \n",
      "This is update text \n",
      "This is update text \n",
      "\n",
      "Location after read: 219\n"
     ]
    }
   ],
   "source": [
    "file_path = \"test.txt\"\n",
    "\n",
    "with open(file_path, \"a+\") as file:\n",
    "    print(\"Initial location: {}\".format(file.tell()))\n",
    "\n",
    "    data = file.read()\n",
    "\n",
    "    if (not data): \n",
    "        print(\"Read Nothing\")\n",
    "    else:\n",
    "        print(data)\n",
    "\n",
    "    file.seek(0.0)\n",
    "\n",
    "    print(\"\\nNew location : {}\".format(file.tell()))\n",
    "    data = file.read()\n",
    "\n",
    "    if (not data):\n",
    "        print(\"Read Nothing\")\n",
    "    else:\n",
    "        print(data)\n",
    "\n",
    "    print(\"Location after read: {}\".format(file.tell()))\n",
    " "
   ]
  },
  {
   "cell_type": "code",
   "execution_count": 118,
   "id": "7f49b08a-a455-4965-88d2-2ac58d516f69",
   "metadata": {},
   "outputs": [],
   "source": [
    "# .truncate() function\n",
    "with open(\"text1.txt\", \"w\") as f:\n",
    "    f.write(\"Hello Hello Hello\")\n",
    "    f.write(\"\\nHello Hello Hello\")\n",
    "    f.write(\"\\nHello Hello Hello\")\n",
    "    \n",
    "with open(\"text1.txt\", \"r+\") as f:\n",
    "    f.truncate(10) # Keep only the first 10 bytes\n",
    "    \n",
    "with open(\"text1.txt\", \"r+\") as f:\n",
    "    f.seek(5) # move to position 5\n",
    "    f.truncate() # Truncate everything after position 5\n",
    "\n",
    "with open(\"text1.txt\", \"r+\") as f:\n",
    "    f.truncate(0) # Emty file"
   ]
  },
  {
   "cell_type": "markdown",
   "id": "886ebb53-a332-407d-a285-ab2f8eec2306",
   "metadata": {},
   "source": [
    "**Exercise**\n",
    "\n",
    "Your local university's Raptors fan club maintains a register of its active members on a .txt document. Every month they update the file by removing the members who are not active. You have been tasked with automating this with your Python skills.\n",
    "Given the file currentMem, Remove each member with a 'no' in their Active column. Keep track of each of the removed members and append them to the exMem file. Make sure that the format of the original files in preserved. (Hint: Do this by reading/writing whole lines and ensuring the header remains )\n",
    "Run the code block below prior to starting the exercise. The skeleton code has been provided for you. Edit only the cleanFiles function."
   ]
  },
  {
   "cell_type": "code",
   "execution_count": 2,
   "id": "79c3f7a2-ddc9-484c-8df2-72a2d445a656",
   "metadata": {},
   "outputs": [],
   "source": [
    "#Run this prior to starting the exercise\n",
    "\n",
    "from random import randint as rnd\n",
    "\n",
    "memReg = 'members.txt'\n",
    "exReg = 'inactive.txt'\n",
    "fee =('yes','no')\n",
    "\n",
    "def genFiles(current,old):\n",
    "    with open(current,'w+') as writefile: \n",
    "        writefile.write('Membership No  Date Joined  Active  \\n')\n",
    "        data = \"{:^13}  {:<11}  {:<6}\\n\"\n",
    "\n",
    "        for rowno in range(20):\n",
    "            date = str(rnd(2015,2020))+ '-' + str(rnd(1,12))+'-'+str(rnd(1,25))\n",
    "            writefile.write(data.format(rnd(10000,99999),date,fee[rnd(0,1)]))\n",
    "\n",
    "\n",
    "    with open(old,'w+') as writefile: \n",
    "        writefile.write('Membership No  Date Joined  Active  \\n')\n",
    "        data = \"{:^13}  {:<11}  {:<6}\\n\"\n",
    "        for rowno in range(3):\n",
    "            date = str(rnd(2015,2020))+ '-' + str(rnd(1,12))+'-'+str(rnd(1,25))\n",
    "            writefile.write(data.format(rnd(10000,99999),date,fee[1]))\n",
    "\n",
    "\n",
    "genFiles(memReg,exReg)"
   ]
  },
  {
   "cell_type": "code",
   "execution_count": 15,
   "id": "3adc08f3-94cc-474d-8125-ad64f112e799",
   "metadata": {},
   "outputs": [
    {
     "name": "stdout",
     "output_type": "stream",
     "text": [
      "LINES -  0\n",
      "Active Members: \n",
      "\n",
      "\n",
      "Membership No  Date Joined  Active  \n",
      "\n",
      "Inactive Members: \n",
      "\n",
      "\n",
      "Membership No  Date Joined  Active  \n",
      "    92936      2017-10-6    no    \n",
      "    88917      2017-5-14    no    \n",
      "    27550      2018-2-17    no    \n",
      "    83133      2016-1-12    yes   \n",
      "    83133      2016-1-12    yes   \n",
      "    91812      2015-7-13    no    \n",
      "    12333      2019-12-12   yes   \n",
      "    27943      2019-11-7    yes   \n",
      "    43794      2020-8-12    yes   \n",
      "    14655      2019-10-23   yes   \n",
      "    16409      2020-4-11    no    \n",
      "    44001      2016-2-16    yes   \n",
      "    33094      2016-1-1     no    \n",
      "    59885      2019-11-17   yes   \n",
      "    84685      2018-5-6     yes   \n",
      "    50075      2019-3-8     yes   \n",
      "    98140      2019-12-10   yes   \n",
      "    67194      2018-12-9    no    \n",
      "    93046      2016-10-24   yes   \n",
      "    75922      2016-3-3     no    \n",
      "    98482      2016-9-18    no    \n",
      "    82868      2020-4-3     yes   \n",
      "    59607      2020-5-22    no    \n",
      "    39042      2019-6-17    yes   \n",
      "\n"
     ]
    }
   ],
   "source": [
    "'''\n",
    "The two arguments for this function are the files:\n",
    "    - currentMem: File containing list of current members\n",
    "    - exMem: File containing list of old members\n",
    "    \n",
    "    This function should remove all rows from currentMem containing 'no' \n",
    "    in the 'Active' column and appends them to exMem.\n",
    "    '''\n",
    "\n",
    "def cleanFiles(memReg, exMem):\n",
    "    with open(memReg, \"r+\") as memberFile:\n",
    "        with open(exMem, \"a\") as inactiveFile:\n",
    "            \n",
    "            # Read header and data\n",
    "            memberFile.seek(0)\n",
    "            header = memberFile.readline()\n",
    "            lines = memberFile.readlines()\n",
    "\n",
    "            # Normalize lines and filter\n",
    "            active = []\n",
    "            inactive = []\n",
    "            print(\"LINES - \", len(lines))\n",
    "            for line in lines:\n",
    "                print(\"WHAT\")\n",
    "                stripped = line.strip()\n",
    "                if not stripped:\n",
    "                    continue  # Skip empty lines\n",
    "                if stripped.lower().endswith(\"no\"):\n",
    "                    print(\"INACTIVE\")\n",
    "                    inactive.append(line)\n",
    "                elif stripped.lower().endswith(\"yes\"):\n",
    "                    print(\"ACTIEV\")\n",
    "                    active.append(line)\n",
    "                else:\n",
    "                    print(f\"⚠️ Unknown status in line: {line}\")\n",
    "\n",
    "            # Rewrite the current member file with only active members\n",
    "            memberFile.seek(0)\n",
    "            memberFile.write(header)\n",
    "            memberFile.writelines(active)\n",
    "            memberFile.truncate()\n",
    "\n",
    "            # Append inactive members to the ex-member file (with header if it's empty)\n",
    "            if inactive:\n",
    "                inactiveFile.seek(0, 2)  # Move to end\n",
    "                if inactiveFile.tell() == 0:\n",
    "                    inactiveFile.write(header)\n",
    "                inactiveFile.writelines(inactive)\n",
    "\n",
    "# The code below is to help you view the files.\n",
    "# Do not modify this code for this exercise.\n",
    "memReg = 'members.txt'\n",
    "exReg = 'inactive.txt'\n",
    "cleanFiles(memReg,exReg)\n",
    "\n",
    "\n",
    "headers = \"Membership No  Date Joined  Active  \\n\"\n",
    "with open(memReg,'r') as readFile:\n",
    "    print(\"Active Members: \\n\\n\")\n",
    "    print(readFile.read())\n",
    "    \n",
    "with open(exReg,'r') as readFile:\n",
    "    print(\"Inactive Members: \\n\\n\")\n",
    "    print(readFile.read())\n",
    "                "
   ]
  },
  {
   "cell_type": "code",
   "execution_count": null,
   "id": "4d78d1fa-0c91-4715-82d4-cf415d6f5250",
   "metadata": {},
   "outputs": [],
   "source": []
  }
 ],
 "metadata": {
  "kernelspec": {
   "display_name": "Python 3 (ipykernel)",
   "language": "python",
   "name": "python3"
  },
  "language_info": {
   "codemirror_mode": {
    "name": "ipython",
    "version": 3
   },
   "file_extension": ".py",
   "mimetype": "text/x-python",
   "name": "python",
   "nbconvert_exporter": "python",
   "pygments_lexer": "ipython3",
   "version": "3.12.7"
  }
 },
 "nbformat": 4,
 "nbformat_minor": 5
}
