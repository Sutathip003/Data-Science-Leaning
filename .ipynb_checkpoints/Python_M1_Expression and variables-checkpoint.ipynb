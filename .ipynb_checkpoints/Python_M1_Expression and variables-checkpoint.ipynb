{
 "cells": [
  {
   "cell_type": "markdown",
   "id": "9039fe14-5d39-430c-b2b9-bcc08a3582b8",
   "metadata": {},
   "source": [
    "## Expression and variables"
   ]
  },
  {
   "cell_type": "code",
   "execution_count": 2,
   "id": "5d8761e9-a3c0-4121-a2e3-a330dccd17cb",
   "metadata": {},
   "outputs": [
    {
     "data": {
      "text/plain": [
       "10"
      ]
     },
     "execution_count": 2,
     "metadata": {},
     "output_type": "execute_result"
    }
   ],
   "source": [
    "# Addition Operation expression\n",
    "5 + 5 "
   ]
  },
  {
   "cell_type": "code",
   "execution_count": 3,
   "id": "fe1f0f96-8976-437c-b448-b0ac65c1dbbb",
   "metadata": {},
   "outputs": [
    {
     "data": {
      "text/plain": [
       "5"
      ]
     },
     "execution_count": 3,
     "metadata": {},
     "output_type": "execute_result"
    }
   ],
   "source": [
    "# Subtraction operation expression\n",
    "10 -5"
   ]
  },
  {
   "cell_type": "code",
   "execution_count": 4,
   "id": "af088abe-7378-4260-80b8-24e1ea572298",
   "metadata": {},
   "outputs": [
    {
     "data": {
      "text/plain": [
       "25"
      ]
     },
     "execution_count": 4,
     "metadata": {},
     "output_type": "execute_result"
    }
   ],
   "source": [
    "# Multiplication operation expression\n",
    "5 * 5"
   ]
  },
  {
   "cell_type": "code",
   "execution_count": 5,
   "id": "3f65b98c-82a1-46bf-bb5d-6906fe70c068",
   "metadata": {},
   "outputs": [
    {
     "data": {
      "text/plain": [
       "5.0"
      ]
     },
     "execution_count": 5,
     "metadata": {},
     "output_type": "execute_result"
    }
   ],
   "source": [
    "# Division operation expression\n",
    "25 / 5"
   ]
  },
  {
   "cell_type": "code",
   "execution_count": 8,
   "id": "081c9225-5990-4118-8c36-2d80ad377c26",
   "metadata": {},
   "outputs": [
    {
     "data": {
      "text/plain": [
       "4"
      ]
     },
     "execution_count": 8,
     "metadata": {},
     "output_type": "execute_result"
    }
   ],
   "source": [
    "# Integer division operation expression\n",
    "25 // 6 # หารไม่เอาเศษ"
   ]
  },
  {
   "cell_type": "markdown",
   "id": "882419a2-abec-4275-b11d-143702bf9ca4",
   "metadata": {},
   "source": [
    "#### Mathematical expression"
   ]
  },
  {
   "cell_type": "code",
   "execution_count": 14,
   "id": "213d2e95-3de5-4e24-8fc4-0f14835b61a0",
   "metadata": {},
   "outputs": [
    {
     "name": "stdout",
     "output_type": "stream",
     "text": [
      "145\n"
     ]
    }
   ],
   "source": [
    "a = 30 + 2 * 60 - 5 # multiplies then addition then subtraction\n",
    "print(a)"
   ]
  },
  {
   "cell_type": "code",
   "execution_count": 17,
   "id": "9ac5f85d-fead-4434-b131-48618fc41a67",
   "metadata": {},
   "outputs": [
    {
     "name": "stdout",
     "output_type": "stream",
     "text": [
      "1915\n"
     ]
    }
   ],
   "source": [
    "b = (30 + 2) * 60 -5 # parentheses then multiplies then subtraction\n",
    "print(b)"
   ]
  },
  {
   "cell_type": "code",
   "execution_count": null,
   "id": "d05e9451-d46e-406d-ae17-9aaea8f3bb65",
   "metadata": {},
   "outputs": [],
   "source": []
  }
 ],
 "metadata": {
  "kernelspec": {
   "display_name": "Python 3 (ipykernel)",
   "language": "python",
   "name": "python3"
  },
  "language_info": {
   "codemirror_mode": {
    "name": "ipython",
    "version": 3
   },
   "file_extension": ".py",
   "mimetype": "text/x-python",
   "name": "python",
   "nbconvert_exporter": "python",
   "pygments_lexer": "ipython3",
   "version": "3.12.7"
  }
 },
 "nbformat": 4,
 "nbformat_minor": 5
}
