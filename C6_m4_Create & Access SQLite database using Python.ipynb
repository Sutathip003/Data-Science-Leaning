{
 "cells": [
  {
   "cell_type": "markdown",
   "id": "e701a45a-b416-485e-acbd-473a266ad3e0",
   "metadata": {},
   "source": [
    "## Create datable using SQLite"
   ]
  },
  {
   "cell_type": "code",
   "execution_count": 1,
   "id": "0c965cbc-6a43-4ef2-9640-e2ba9711050e",
   "metadata": {},
   "outputs": [],
   "source": [
    "import sqlite3\n",
    "conn = sqlite3.connect('INSTRUCTOR.db')"
   ]
  },
  {
   "cell_type": "code",
   "execution_count": 2,
   "id": "82e493a1-761b-48a4-9fe2-d2d4b187239a",
   "metadata": {},
   "outputs": [],
   "source": [
    "#create cursor_object\n",
    "cursor_object = conn.cursor()"
   ]
  },
  {
   "cell_type": "code",
   "execution_count": 3,
   "id": "55f7498b-2a6c-4349-b429-11246d69a77d",
   "metadata": {},
   "outputs": [
    {
     "data": {
      "text/plain": [
       "<sqlite3.Cursor at 0x28a1a6077c0>"
      ]
     },
     "execution_count": 3,
     "metadata": {},
     "output_type": "execute_result"
    }
   ],
   "source": [
    "# drop table if already exist\n",
    "cursor_object.execute(\"DROP TABLE IF EXISTS INSTRUCTOR\")"
   ]
  },
  {
   "cell_type": "code",
   "execution_count": 4,
   "id": "7af7da31-3f03-4845-b8ce-2030b0006fb7",
   "metadata": {},
   "outputs": [
    {
     "name": "stdout",
     "output_type": "stream",
     "text": [
      "table is ready\n"
     ]
    }
   ],
   "source": [
    "#CREATE TABLE\n",
    "table = \"\"\"create table IF NOT EXISTS INSTRUCTOR (\n",
    "    ID INT PRIMARY KEY NOT NULL, \n",
    "    FNAME VARCHER(20), \n",
    "    LNAME VARCHAR(20),\n",
    "    CITY VARCHAR(20),\n",
    "    CCOCE CHAR(2)\n",
    ");\"\"\"\n",
    "\n",
    "cursor_object.execute(table)\n",
    "\n",
    "print(\"table is ready\")\n"
   ]
  },
  {
   "cell_type": "code",
   "execution_count": 6,
   "id": "c22d639b-5152-44c0-a9c2-7acbbecedbdb",
   "metadata": {},
   "outputs": [
    {
     "data": {
      "text/plain": [
       "<sqlite3.Cursor at 0x28a1a6077c0>"
      ]
     },
     "execution_count": 6,
     "metadata": {},
     "output_type": "execute_result"
    }
   ],
   "source": [
    "# INSERT DATA TABLE\n",
    "cursor_object.execute(\"\"\" insert into INSTRUCTOR values(1,'Rav', 'Ahuja', 'TORONTO', 'CA')\"\"\")"
   ]
  },
  {
   "cell_type": "code",
   "execution_count": null,
   "id": "e3fc50e6-803b-4459-9e7e-3900451aef44",
   "metadata": {},
   "outputs": [],
   "source": [
    "cursor_object.execute('''insert into INSTRUCTOR values (2, 'Raul', 'Chong', 'Markham', 'CA'), (3, 'Hima', 'Vasudevan', 'Chicago', 'US')''')"
   ]
  },
  {
   "cell_type": "code",
   "execution_count": null,
   "id": "1ef97853-ae76-40d2-b51b-ad3302974a43",
   "metadata": {},
   "outputs": [],
   "source": [
    "# VIEW ALL DATA IN THE TABLE\n",
    "def viewdata():\n",
    "    cursor_object.execute(\"SELECT * FROM INSTRUCTOR\")\n",
    "    for row in cursor_object.fetchall():\n",
    "        print(row)\n",
    "\n",
    "viewdata()\n"
   ]
  },
  {
   "cell_type": "code",
   "execution_count": null,
   "id": "3ebde3e1-5c3e-4134-b346-faf1a9ed13e0",
   "metadata": {},
   "outputs": [],
   "source": [
    "# VIEW SOME DATA LINE\n",
    "cursor_object.execute(\"SELECT * FROM INSTRUCTOR\")\n",
    "for row in cursor_object.fetchmany(1):\n",
    "    print(row)"
   ]
  },
  {
   "cell_type": "code",
   "execution_count": null,
   "id": "32a4c8d3-2d2e-47e5-8e28-70251e2dca11",
   "metadata": {},
   "outputs": [],
   "source": [
    "# VIWE COLUMN\n",
    "cursor_object.execute(\"SELECT FNAME FROM INSTRUCTOR\")\n",
    "for column in cursor_object.fetchall():\n",
    "    print(column)"
   ]
  },
  {
   "cell_type": "code",
   "execution_count": null,
   "id": "af39d319-ee45-4126-b328-4605d57be070",
   "metadata": {},
   "outputs": [],
   "source": [
    "# UPDATE QUERY\n",
    "query_update='''update INSTRUCTOR set CITY='MOOSETOWN' where FNAME=\"Rav\"'''\n",
    "cursor_object.execute(query_update)\n",
    "\n",
    "viewdata()"
   ]
  },
  {
   "cell_type": "code",
   "execution_count": null,
   "id": "09ae58c8-abef-4b4d-872b-61dc2ffce776",
   "metadata": {},
   "outputs": [],
   "source": [
    "## RETRIVE DATA INTO PANDAS\n",
    "!pip install pandas\n",
    "\n",
    "import pandas as pd\n",
    "\n",
    "df = pd.read_sql_query(\"select * from INSTRUCTOR;\", conn)\n",
    "\n",
    "#print dataframe\n",
    "df"
   ]
  },
  {
   "cell_type": "code",
   "execution_count": null,
   "id": "b3a7142a-0bed-4d0e-929d-8283d3561f96",
   "metadata": {},
   "outputs": [],
   "source": [
    "df.LNAME[0]"
   ]
  },
  {
   "cell_type": "code",
   "execution_count": null,
   "id": "797cdf11-9f9a-4010-98d0-52bc10a259a2",
   "metadata": {},
   "outputs": [],
   "source": [
    "df.shape"
   ]
  },
  {
   "cell_type": "code",
   "execution_count": null,
   "id": "012062f9-191a-452c-93b0-260029c4d449",
   "metadata": {},
   "outputs": [],
   "source": []
  }
 ],
 "metadata": {
  "kernelspec": {
   "display_name": "Python 3 (ipykernel)",
   "language": "python",
   "name": "python3"
  },
  "language_info": {
   "codemirror_mode": {
    "name": "ipython",
    "version": 3
   },
   "file_extension": ".py",
   "mimetype": "text/x-python",
   "name": "python",
   "nbconvert_exporter": "python",
   "pygments_lexer": "ipython3",
   "version": "3.12.7"
  }
 },
 "nbformat": 4,
 "nbformat_minor": 5
}
