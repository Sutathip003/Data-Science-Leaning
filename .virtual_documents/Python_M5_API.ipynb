


# install requests
!pip install requests


import requests

def get_country_info(country_name):
    url = f"https://restcountries.com/v3.1/name/{country_name}" # address API
    response = requests.get(url)

    if response.status_code == 200:
        country_data = response.json()[0]

        name = country_data['name']['official']
        capital = country_data["capital"][0]
        population = country_data['population']

        print(f"Country : {name}")
        print(f"Capital : {capital}")
        print(f"Population : {population}")
        
    else:
        print("contry not found or API error")

get_country_info("Thailand")






import pandas as pd
import requests

def get_region_info(region):
    url = f"https://restcountries.com/v3.1/region/{region}" # address API
    response = requests.get(url)

    result = []

    if response.status_code == 200:
        countries = response.json()
        
        for country in countries:  
            try:
                name = country['name']['official']
                capital = country.get('capital',["N/A"])[0]
                population = country['population']

                result.append({
                   "Country": name,
                    "Capital": capital,
                    "Population": population
                })
                
            except Exception as e:
                print("Error parsing country:", e)
                continue
        
    else:
        print("contry not found or API error")

    return result

data_table = get_region_info("asia")
data_df = pd.DataFrame(data_table)
print(data_df.head(10))









# use APIkey








import requests

url = "https://s3-api.us-geo.objectstorage.softlayer.net/cf-courses-data/CognitiveClass/PY0101EN/Chapter%205/Labs/Golden_State.pkl"

def downlode(url, filename):
    response = requests.get(url)
    if response.status_code == 200:
        with open(filename, "wb") as f:
            f.write(response.content)

downlode(url, "Golden_state.pkl")

file_name =  "Golden_state.pkl"
games = pd.read_pickle(file_name)
games.head()


import matplotlib.pyplot as plt

fig, ax = plt.subplots()

games_home=games[games['MATCHUP']=='GSW vs. TOR']
games_away=games[games['MATCHUP']=='GSW @ TOR']

games_home['PLUS_MINUS'].mean()
games_away['PLUS_MINUS'].mean()

games_away.plot(x='GAME_DATE',y='PLUS_MINUS', ax=ax)
games_home.plot(x='GAME_DATE',y='PLUS_MINUS', ax=ax)
ax.legend(["away", "home"])
plt.show()



