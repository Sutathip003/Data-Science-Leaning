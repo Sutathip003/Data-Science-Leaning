


import sqlite3
conn = sqlite3.connect('INSTRUCTOR.db')


#create cursor_object
cursor_object = conn.cursor()


# drop table if already exist
cursor_object.execute("DROP TABLE IF EXISTS INSTRUCTOR")


#CREATE TABLE
table = """create table IF NOT EXISTS INSTRUCTOR (
    ID INT PRIMARY KEY NOT NULL, 
    FNAME VARCHER(20), 
    LNAME VARCHAR(20),
    CITY VARCHAR(20),
    CCOCE CHAR(2)
);"""

cursor_object.execute(table)

print("table is ready")



# INSERT DATA TABLE
 cursor_object.execute(""" insert into INSTRUCTOR values(1,'Rav', 'Ahuja', 'TORONTO', 'CA')""")


cursor_object.execute('''insert into INSTRUCTOR values (2, 'Raul', 'Chong', 'Markham', 'CA'), (3, 'Hima', 'Vasudevan', 'Chicago', 'US')''')


# VIEW ALL DATA IN THE TABLE
def viewdata():
    cursor_object.execute("SELECT * FROM INSTRUCTOR")
    for row in cursor_object.fetchall():
        print(row)

viewdata()



# VIEW SOME DATA LINE
cursor_object.execute("SELECT * FROM INSTRUCTOR")
for row in cursor_object.fetchmany(1):
    print(row)


# VIWE COLUMN
cursor_object.execute("SELECT FNAME FROM INSTRUCTOR")
for column in cursor_object.fetchall():
    print(column)


# UPDATE QUERY
query_update='''update INSTRUCTOR set CITY='MOOSETOWN' where FNAME="Rav"'''
cursor_object.execute(query_update)

viewdata()


## RETRIVE DATA INTO PANDAS
!pip install pandas

import pandas as pd

df = pd.read_sql_query("select * from INSTRUCTOR;", conn)

#print dataframe
df


df.LNAME[0]


df.shape



