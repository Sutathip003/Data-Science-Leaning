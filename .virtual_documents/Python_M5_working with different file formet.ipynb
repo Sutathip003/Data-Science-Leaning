





!pip install seaborn lxml openpyxl panda


import requests
import pandas as pd
url = "https://cf-courses-data.s3.us.cloud-object-storage.appdomain.cloud/IBMDeveloperSkillsNetwork-PY0101EN-SkillsNetwork/labs/Module%205/data/addresses.csv"


def download(url, filename):
    response = requests.get(url)
    if response.status_code == 200:
        with open(filename, "wb") as f:
            f.write(response.content)
download(url, "addresses.csv")
df = pd.read_csv("addresses.csv", header=None)
df


# Add head column to the data frame
df.columns = ["First Name", "Last Name", "Location", "City", "State", "Area Code"]
df


# select single column 
df["First Name"]


# select multiple colums
df = df[["First Name", "Last Name", "Location", "City", "State", "Area Code"]]
df


# select rows using .iloc and .loc
print(df.iloc[0,3])


df.iloc[[0,1,2],[0]]


print(df.loc[[0,1,2], "First Name"])





import pandas as pd
import numpy as np



# create dataframe
df = pd.DataFrame(np.array([[1,2,3],[4,5,6],[7,8,9]]), columns= ["a", "b", "c"])
df


# applying the transform function , add 10 to each element
df = df.transform(func=lambda x : x + 10)
df


# find square root by transform()
df_result = df.transform(func = ["sqrt"])
df_result





# create JSON file
import json
person = {
    "first_name" : "Mark",
    "last_name" : "Uni",
    "age" : 27,
    "Adress" : {
        "streetAdress" : "21 2nd street",
        "cityi": "New york",
        "state" : "NY",
        "postcode": "10021-3100"
    }
}





with open("person.json", "w") as f: # writing JSON object
    json.dump(person,f)


#Serializing JSON
json_object = json.dumps(person, indent=4)

# Writing to sample.json
with open("sample.json", "w") as outfile:
    outfile.write(json_object)

print(json_object)





#opent file
with open("sample.json", "r") as f: 
    # reading file
    json_object= json.load(f)

print(json_object)








import pandas as pd

url = "https://cf-courses-data.s3.us.cloud-object-storage.appdomain.cloud/IBMDeveloperSkillsNetwork-PY0101EN-SkillsNetwork/labs/Module%205/data/file_example_XLSX_10.xlsx"

def download(url, filename):
    response = requests.get(url)
    if response.status_code == 200:
        with open(filename, "wb") as f:
            f.write(response.content)
download(url, "file_example_XLSX_10.xlsx")

df = pd.read_excel("file_example_XLSX_10.xlsx")
df





import xml.etree.ElementTree as ET

# create the file structure
employee = ET.Element('employee')
details = ET.SubElement(employee, 'details')
first = ET.SubElement(details, 'firstname')
second = ET.SubElement(details, 'lastname')
third = ET.SubElement(details, 'age')
first.text = 'Shiv'
second.text = 'Mishra'
third.text = '23'

# create a new XML file with the results
mydata1 = ET.ElementTree(employee)
# myfile = open("items2.xml", "wb")
# myfile.write(mydata)
with open("new_sample.xml", "wb") as files:
    mydata1.write(files)





import xml.etree.ElementTree as etree

url = "https://cf-courses-data.s3.us.cloud-object-storage.appdomain.cloud/IBMDeveloperSkillsNetwork-PY0101EN-SkillsNetwork/labs/Module%205/data/Sample-employee-XML-file.xml"

def download(url, filename):
    response = requests.get(url)
    if response.status_code == 200:
        with open(filename, "wb") as f:
            f.write(response.content)

download(url,"Sample-employee-XML-file.xml")


# Parse the XML file
tree = etree.parse("Sample-employee-XML-file.xml")

# Get the root of the XML tree
root = tree.getroot()

# Define the columns for the DataFrame
columns = ["firstname", "lastname", "title", "division", "building", "room"]

# Initialize an empty DataFrame
datatframe = pd.DataFrame(columns=columns)

# Iterate through each node in the XML root
for node in root:
    # Extract text from each element
    firstname = node.find("firstname").text
    lastname = node.find("lastname").text
    title = node.find("title").text
    division = node.find("division").text
    building = node.find("building").text
    room = node.find("room").text
    
    # Create a DataFrame for the current row
    row_df = pd.DataFrame([[firstname, lastname, title, division, building, room]], columns=columns)
    
    # Concatenate with the existing DataFrame
    datatframe = pd.concat([datatframe, row_df], ignore_index=True)

datatframe





# Herein xpath we mention the set of xml nodes to be considered for migrating  to the dataframe which in this case is details node under employees.
df=pd.read_xml("Sample-employee-XML-file.xml", xpath="/employees/details")



