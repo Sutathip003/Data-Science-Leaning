


# Addition Operation expression
5 + 5 


# Subtraction operation expression
10 -5


# Multiplication operation expression
5 * 5


# Division operation expression
25 / 5


# Integer division operation expression
25 // 6 # หารไม่เอาเศษ





a = 30 + 2 * 60 - 5 # multiplies then addition then subtraction
print(a)


b = (30 + 2) * 60 -5 # parentheses then multiplies then subtraction
print(b)



