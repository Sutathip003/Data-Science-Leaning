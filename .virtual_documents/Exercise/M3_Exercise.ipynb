#Press Shift+Enter to run the code
givenstring="Lorem ipsum dolor! diam amet, consetetur Lorem magna. sed diam nonumy eirmod tempor. diam et labore? et diam magna. et diam amet."


class TextAnalyzer(object):

# Define the class and its attributes
    def __init__(self, text):
        # remove punctuation
        formattedText = text.replace('.','').replace(',','').replace('!', '').replace('?','')

        # make text lowercase
        formattedText = formattedText.lower()

        self.fmtText = formattedText

#Implement a code to count the frequency of all unique words
    def freqAll(self):
        
        # Split the fmtText into words
        wordList = self.fmtText.split(' ')

        # Cretate dictionary 
        freqMap = {}

        for word in set(wordList): # use set to remove duplicates in list
            freqMap[word] = wordList.count(word)

        return freqMap

# Implement a code to count the frequency of a specific word
    def freqOf(self, word):
        # get frequency map
        freqDict = self.freqAll()

        if word in freqDict:
            return freqDict[word]
        else:
            return 0
        
        
object1 = TextAnalyzer(givenstring)   
print("This is see lower case formate : ", object1.fmtText)


# check the frequency of words
print("This is frequency words: ", object1.freqAll())


# check freqency of specific word
word = "lorem"
check = object1.freqOf(word)
print(f"'Lorem' has {check} time appear")


cur= 18

cur = cur>25
print(cur)


items = ["Vase", "Statue", "Mask"]
for index, item in enumerate(items, start=1):
    print(f"Exhibit {index}: {item} - Ancient Greece")



