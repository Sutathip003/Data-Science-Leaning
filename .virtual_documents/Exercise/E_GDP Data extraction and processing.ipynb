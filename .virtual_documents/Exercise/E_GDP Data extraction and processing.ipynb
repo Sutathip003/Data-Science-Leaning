


!pip install pandas numpy
!pip install lxml


import pandas as pd
import numpy as np
import requests

# Use Webscraping to extract required information from a website.

url = "https://web.archive.org/web/20230902185326/https://en.wikipedia.org/wiki/List_of_countries_by_GDP_%28nominal%29"
filename = "gdp_page.html"

def get_company(url, filename):
    response = requests.get(url)
    if response.status_code == 200:
        with open(filename, "wb") as f:
            f.write(response.content)
        print("File download successfully")
    else:
        print("Download failed.")

print(get_company(url, filename))



# Use Pandas to load and process the tabular data as a dataframe.
tables = pd.read_html("gdp_page.html")
# print(tables)

# check how many table were found
# print("total tables found: ", len(tables))

tables = pd.read_html(url)
df = tables[3]
# print(df)

#replace the column headders with colum numbers
df.columns = range(df.shape[1])
# print(df.columns)

# Retain columns with index 0 and 2 (name of country and value of GDP quoted by IMF)
df = df[[0,2]]
# print(df)


df = df.iloc[1:11,:]
# print(df)

# Assign column names
df.columns = ["Country", "GDP(Million USD)"]
print(df)


# Change the data type of the 'GDP (Million USD)' column to integer. Use astype() method.
df["GDP(Million USD)"] = df["GDP(Million USD)"].astype(int)

# Convert the GDP value in Million USD to Billion USD
df[["GDP(Million USD)"]] = df[["GDP(Million USD)"]]/1000

# Use numpy.round() method to round the value to 2 decimal places.
df[["GDP(Million USD)"]] = np.round(df[["GDP(Million USD)"]], 2)

# Rename the column header from 'GDP (Million USD)' to 'GDP (Billion USD)'
new_df = df.rename(columns = {"GDP(Million USD)" : "GDP(Billion USD)"})

print(new_df)


# Load the DataFrame to the CSV file named "Largest_economies.csv"
df.to_csv('./Largest_economies.csv')



