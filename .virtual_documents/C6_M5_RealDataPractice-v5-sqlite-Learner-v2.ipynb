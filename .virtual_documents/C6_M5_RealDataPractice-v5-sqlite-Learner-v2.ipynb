








import csv, sqlite3

con = sqlite3.connect("RealWorldData.db")
cur = con.cursor()


!pip install pandas
!pip install ipython-sql prettytable

import prettytable
prettytable.DEFAULT = 'DEFAULT'


!pip install ipython-sql
%load_ext sql


# connect to database SQLite
%sql sqlite:///RealWorldData.db





import pandas as pd

df = pd.read_csv('ChicagoPublicSchools.csv')
df.to_sql("CHICAGO_PUBLIC_SCHOOLS_DATA", con, if_exists='replace', index=False, method= "multi")








# type in your query to retrieve list of all tables in the database
%sql select NAME from sqlite_master WHERE type='CHICAGO_PUBLIC_SCHOOLS_DATA';











# type in your query to retrieve the number of columns in the SCHOOLS table

#check row recoded
row =  %sql select count(*) from CHICAGO_PUBLIC_SCHOOLS_DATA; 
print(row)

# check column data
column = %sql select count(name) from PRAGMA_TABLE_INFO('CHICAGO_PUBLIC_SCHOOLS_DATA'); 
print(column)

# see all column name and data type
%sql PRAGMA TABLE_INFO('CHICAGO_PUBLIC_SCHOOLS_DATA');









# type in your query to retrieve all column names in the SCHOOLS table along with their datatypes and length
%sql select name, type,Length(type) FROM PRAGMA_TABLE_INFO('CHICAGO_PUBLIC_SCHOOLS_DATA');











%sql select count(*) from CHICAGO_PUBLIC_SCHOOLS_DATA where [Elementary, Middle, or High School] ='ES'














%sql select max(SAFETY_SCORE) from CHICAGO_PUBLIC_SCHOOLS_DATA;











%sql select NAME_OF_SCHOOL from CHICAGO_PUBLIC_SCHOOLS_DATA where SAFETY_SCORE = 99.0;








%sql select NAME_OF_SCHOOL, AVERAGE_STUDENT_ATTENDANCE from CHICAGO_PUBLIC_SCHOOLS_DATA order by AVERAGE_STUDENT_ATTENDANCE  DESC LIMIT 10;








%sql select NAME_OF_SCHOOL, AVERAGE_STUDENT_ATTENDANCE from CHICAGO_PUBLIC_SCHOOLS_DATA order by AVERAGE_STUDENT_ATTENDANCE LIMIT 5;








%sql select NAME_OF_SCHOOL, replace(AVERAGE_STUDENT_ATTENDANCE,'%', '') as [Average Student Attendance] from CHICAGO_PUBLIC_SCHOOLS_DATA order by AVERAGE_STUDENT_ATTENDANCE LIMIT 5;











%sql select NAME_OF_SCHOOL, AVERAGE_STUDENT_ATTENDANCE \
from CHICAGO_PUBLIC_SCHOOLS_DATA \
WHERE  CAST( REPLACE(Average_Student_Attendance, '%', '') AS DOUBLE ) < 70 ;














%sql SELECT COMMUNITY_AREA_NAME, SUM(COLLEGE_ENROLLMENT) AS TOTAL_COLLEGE_ENROLLMENT \
FROM CHICAGO_PUBLIC_SCHOOLS_DATA \
GROUP BY COMMUNITY_AREA_NAME;














%sql SELECT COMMUNITY_AREA_NAME,SUM(COLLEGE_ENROLLMENT) AS TOTAL_COLLEGE_ENROLLMENT \
FROM CHICAGO_PUBLIC_SCHOOLS_DATA \
GROUP BY COMMUNITY_AREA_NAME\
ORDER BY TOTAL_COLLEGE_ENROLLMENT ASC LIMIT 5;











%sql select NAME_OF_SCHOOL, SAFETY_SCORE \
FROM CHICAGO_PUBLIC_SCHOOLS_DATA\
WHERE SAFETY_SCORE != 'None' \
ORDER BY SAFETY_SCORE LIMIT 5;











df = pd.read_csv("ChicagoCensusData.csv")
df.to_sql("CENSUS_DATA", con, if_exists='replace', index=False,method="multi")


%%sql 
select HARDSHIP_INDEX from CENSUS_DATA CD, CHICAGO_PUBLIC_SCHOOLS_DATA CPS 
where CD.community_area_number = CPS.community_area_number 
and college_enrollment = 4368


















