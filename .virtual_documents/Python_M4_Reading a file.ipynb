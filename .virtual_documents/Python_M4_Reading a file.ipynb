


# open file
file_path = "test.txt"
file = open(file_path, "r")



# Print the path of file
print("This is file name :" ,file.name)
print("This is mode : ", file.mode)


# read file
fileContent= file.read()
print(fileContent)

print("This is type content : ", type(fileContent))


# clowe file
file.close()





with open(file_path, "r") as file:
    fileContent = file.read()
print(fileContent)


# check close file
file.closed


# First of four characte
with open(file_path, "r")as file:
    file_read4 = file.read(4)
    file_read6 = file.read(6)
    print(file_read4)
    print(file_read6)


# read only 1 line
with open(file_path, "r") as file:
    print("first line: " + file.readline(5))


# Itrarate through line
with open(file_path, "r") as file:
    i = 0;
    for line in file:
        print("Iteration", str(i), ":", line)
        i +=1 
    


# read all line as list
with open(file_path, "r") as file:
    fileList = file.readlines()
    
fileList[0:3]





# overwrite same file

Lines = ["This is line 1","This is line 2","This is line 3","This is line 4",]

with open(file_path, "w") as file2:
    for line in Lines:
        file2.write(line + "\n")

with open(file_path, "r") as file2:
    fileContent = file2.read()
    print(fileContent)





# continue write or Appending data in the same file
Newdata = "This is line 5"

with open(file_path, "a") as file:
    fileW = file.write(Newdata + "\n")

with open(file_path, "r") as file2:
    fileContent = file2.read()
    print(fileContent)





# copy file

with open(file_path, "r") as souce_file:
    with open("newfile.txt", "w") as destination_file:
        for line in souce_file:
            destination_file.write(line)

#Verify if the copy is successfully execute
with open("newfile.txt", "r") as file:
    print(file.read())


# create new file
with open("text1.txt", "x") as file:
    print(file)








file_path = "test.txt"

with open(file_path, "a+") as file:
    print("Initial location: {}".format(file.tell()))

    data = file.read()

    if (not data): 
        print("Read Nothing")
    else:
        print(data)

    file.seek(0.0)

    print("\nNew location : {}".format(file.tell()))
    data = file.read()

    if (not data):
        print("Read Nothing")
    else:
        print(data)

    print("Location after read: {}".format(file.tell()))
 


# .truncate() function
with open("text1.txt", "w") as f:
    f.write("Hello Hello Hello")
    f.write("\nHello Hello Hello")
    f.write("\nHello Hello Hello")
    
with open("text1.txt", "r+") as f:
    f.truncate(10) # Keep only the first 10 bytes
    
with open("text1.txt", "r+") as f:
    f.seek(5) # move to position 5
    f.truncate() # Truncate everything after position 5

with open("text1.txt", "r+") as f:
    f.truncate(0) # Emty file





#Run this prior to starting the exercise

from random import randint as rnd

memReg = 'members.txt'
exReg = 'inactive.txt'
fee =('yes','no')

def genFiles(current,old):
    with open(current,'w+') as writefile: 
        writefile.write('Membership No  Date Joined  Active  \n')
        data = "{:^13}  {:<11}  {:<6}\n"

        for rowno in range(20):
            date = str(rnd(2015,2020))+ '-' + str(rnd(1,12))+'-'+str(rnd(1,25))
            writefile.write(data.format(rnd(10000,99999),date,fee[rnd(0,1)]))


    with open(old,'w+') as writefile: 
        writefile.write('Membership No  Date Joined  Active  \n')
        data = "{:^13}  {:<11}  {:<6}\n"
        for rowno in range(3):
            date = str(rnd(2015,2020))+ '-' + str(rnd(1,12))+'-'+str(rnd(1,25))
            writefile.write(data.format(rnd(10000,99999),date,fee[1]))


genFiles(memReg,exReg)


'''
The two arguments for this function are the files:
    - currentMem: File containing list of current members
    - exMem: File containing list of old members
    
    This function should remove all rows from currentMem containing 'no' 
    in the 'Active' column and appends them to exMem.
    '''

def cleanFiles(currentMem, exMem):
    # TODO: Open the currentMem file as in r+ mode
    with open(currentMem, "r+") as writeFile: 
        #TODO: Open the exMem file in a+ mode
        with open(exMem, "a") as appendFile:
            
        #TODO: Read each member in the currentMem (1 member per row) file into a list.    
            #get data
            writeFile.seek(0)
            members = writeFile.readlines()
            
        # Hint: Recall that the first line in the file is the header.
            #remove header
            header = members[0]
            members.pop(0)

        #TODO: iterate through the members and create a new list of the inactive members
            inactive = [member for member in members if ("no in member")]
            
        # Go to the beginning of the currentMem file
            writeFile.seek(0)
            writeFile.write(header)
            
        # TODO: Iterate through the members list. 
            for member in members:
                if (member in inactive):
                    appendFile.write(member)
                else:
                    writeFile.write(member)
                writeFile.truncate()


# The code below is to help you view the files.
# Do not modify this code for this exercise.
memReg = '/members.txt'
exReg = '/inactive.txt'
cleanFiles(memReg,exReg)


headers = "Membership No  Date Joined  Active  \n"
with open(memReg,'r') as readFile:
    print("Active Members: \n\n")
    print(readFile.read())
    
with open(exReg,'r') as readFile:
    print("Inactive Members: \n\n")
    print(readFile.read())
                



