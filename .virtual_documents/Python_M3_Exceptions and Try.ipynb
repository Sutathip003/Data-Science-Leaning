


a = 1
try:
    a = a/b
    b = int(input("Enter number to devide : "))
    print("Success a=", a)
except:
    print("error")


# catch ZerodivisionError

a = 1
try:
    b = int(input("Enter number to devide : "))
    a = a/b
    print("Success a=", a)
except ZeroDivisionError:
    print("The number you provided cant divide 1 because it is 0")
except ValueError:
    print("You did not provide a number")
except:
    print("Something went wrong")
    






