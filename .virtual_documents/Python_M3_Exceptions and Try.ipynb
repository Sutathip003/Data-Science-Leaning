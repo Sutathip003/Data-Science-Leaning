


a = 1
try:
    a = a/b
    b = int(input("Enter number to devide : "))
    print("Success a=", a)
except:
    print("error")


# catch ZerodivisionError

a = 1
try:
    # code to try to execute
    b = int(input("Enter number to devide : "))
    c = a/b
    
except ZeroDivisionError:
    # code to execute if there is a ZeroDivisionError
    print("The number you provided cant divide 1 because it is 0")
    
except ValueError:
    # code to execute if there is a ValueError
    print("You did not provide a number")
    
# except NameError:
#     # code to execute if there is a NameError
#     print("This is name error")

except:
    # code to execute if there is any error
    print("Something went wrong")
    
else:
    # code to execute if there is no exception
    print("Success c=", c)
    
finally:
    # code to execute at the end of try except, no matter what
    print("Processing Complete")
    
    
    






