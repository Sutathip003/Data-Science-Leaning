


# Lists operations
List = ["A dog", 3.2, 1998, True,  [1, 2], ("A", 1)]
print("Positive index : ", List[0], "\nNegative index",List[-6])


#List slicing
slice_list = List[1:3]
print(slice_list)


# Extend list
List2 = ["cat", False]
List.extend(List2)
print(List)


# Append list
List2 = ["cat", False]
List.append(List2)
print(List)


# check list length
len_list = len(List)
print(len_list)


# Change the element
List1 = ['A dog', 3.2,'cat', False, "x,y,z"]
List1[-2] = "None"
lenList1 = len(List1)
print("List1 Length : ", lenList1)
print(List1)


# Delete the element 
del(List1[-2])
print(List1)


#Split by white space
List1[0].split()


#Split by comma
print(List1)
List1[-1].split(",")





# Copy referance
nL = ["Bad", 32, "Cat", 96]
print("Before clone : ", nL)
CnL = nL
print("After clone : ", CnL)


nL[0] = "Dog"
print("nL: ", nL)
print("CnL: ", CnL)


# Clone 
nL = CnL[:]
nL[0] = "Ret"
print("nL: ", nL)
print("CnL: ", CnL)





tuple1 = ("snow", 19, 2.9, True)
tuple1


# Type of tuple
type(tuple1)
print(type(tuple1[0]))
print(type(tuple1[1]))
print(type(tuple1[3]))
print(type(tuple1[-1]))





# exit to Index
print(tuple1[0])
print(tuple1[-4])
print(tuple1[1:4])
print(tuple1[:])


# Find index
findT="snow".find ("n")
print(findT)





tuple2 = tuple1 + ("Ocean", 10)
tuple2





print(tuple2[-2:])
print(tuple2[-5:-2])
print(tuple2[1:3])





len(tuple2)





score = (0, 9, 6, 5, 10, 8, 9, 6, 2)
scoreSort = sorted(score)
print(scoreSort)
scoreSortR = sorted(score, reverse=True)
print(scoreSortR)





NesT = (1,2, ("cat", "dog"), ("milk", "water",(3,4)))
print(NesT)


# Element on each index
print(NesT[0])
print(NesT[3])
print(NesT[3][2])
print(NesT[3][2][1])











# Create the dictionary
Dict = {"Flower": ["Jusmin", "Tulip", "Rose"], "Number":[1,2,3,4],"Speed" : [1.2,3.4,5.4], "Q": [True, False], }
Dict


# Access to the value by the key
Dict["Flower"][1]


# Get all the key in dictionaries
Dict.keys()


# Get all the values 
Dict.values()


# Append value and Key
Dict["Animal"]= ["Dog", "Cat", "Hippo"]
Dict


# Delete key
print("Before delete:" ,Dict)
del(Dict["Q"])
Dict


# Check
"Speed" in Dict





#Create a set
set1 = {"pop", "rock", "soul", "hard rock", "rock", "R&B", "rock", "disco"}
set1


# convert List to Set
List1 = ["dog", "cat", "Hippo", "Hippo", "dog"]
set1 = set(List1)
set1





# Add element
set1.add("Lion")
set1


# Remove
set1.remove("cat")
set1


# Verify element in the set
"dog" in set1





setA = {'Hippo', 'cat', 'dog'}
setB = {"Lion", "Brid", "Hippo"}
print(f"{setA}\n{setB}")


# Find intersections
intersecAB = setA&setB
print(intersecAB)

C = setA.intersection(setB)
print(C)


# Find difference
setA.difference(setB)


# Fine union
unionAB = setA.union(setB)
print(unionAB)


# Check if superset
checkSupersetAB = set(setA).issuperset(setB)
print("SupersetAB : ",checkSupersetAB)

setX = {1, 3, 5, 3 ,7, 2,8,9 }
setY = {3,5, 2, 7,8,9}
SupersetXY = set(setX).issuperset(setY)
print("SupersetXY : ",SupersetXY)

SupersetX = setX.issuperset({9, 8})
print("SupersetX: ",SupersetX)


#Check subset
subsetX = set({1, 9}).issubset(setX)
print(subsetX)


# sum
print("sum setX: ", sum(setX))
print("sum setY: ", sum(setY))



