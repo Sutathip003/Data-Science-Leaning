





name = "Ninja"
age = 30
print(f"My name is {name} and I am {age} years old")





name = "Ninja"
age = 30
print("My name is {} and I am {} years old.".format(name, age))





name = "Ninja"
age = 30
print("My name is %s I am %d years old." %(name, age))





a = 20
b = 55
print(f"The sum of a and b is {a+b}")


regular_string = "C:\new_folder\file.txt"
print("Regular String:", regular_string)





raw_str = r"C:\new_folder\file.txt"
print("Raw string : ", raw_str)





name = "Ninja"
print(name[0], name[-1])

# Find the length of string
len("Ninja")





name[0:3]


name[-2:]






