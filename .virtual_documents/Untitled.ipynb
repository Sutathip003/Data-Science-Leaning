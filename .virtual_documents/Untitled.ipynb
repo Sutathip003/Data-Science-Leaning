#Press Shift+Enter to run the code
givenstring="Lorem ipsum dolor! diam amet, consetetur Lorem magna. sed diam nonumy eirmod tempor. diam et labore? et diam magna. et diam amet."






