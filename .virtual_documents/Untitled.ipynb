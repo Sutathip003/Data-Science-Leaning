


#create a numpy array

import numpy as np

a = np.array([0,1,2,3,4])
a


# print element
print("a[1]: ", a[1])


# check numpy version
print(np.__version__)
print(a.dtype)


# check type of array
type(a)


# chang element
a[3] = 100
a


# slicing
a[3:5] = 500, 900
a


arr = np.array([1,2,3,4,5,6,7,8,9,10])
print(arr[1:11:2]) # [start: end: step]


# Assign value with list
a = np.array([1,2,3,4,6,7,8,9, 10])

newList= [2,4,6,8]

updateA = a[newList]
updateA


# assing specific element to new value
a[newList] = 500
a


# get the size
a.size


# get the number of dimentions of numpy array
# 1 dimention
a = np.array([1,2,3,4,6,7,8,9, 10])
print(a.ndim)

b = np.array([[[1,2,3,4,6,7,8,9, 10]]])
print(b.ndim)


# get the shape and size of array
print(a.shape)
print(b.shape)





a = np.array([1,2,3,4,6,7,8,9, 10])
mean_a = a.mean()
mean_a


std_a = a.std()
std_a


max_a = a.max()
print("Max a : ", max_a)

min_a = a.min()
print("Min a : ", min_a)





u = np.array([1,0])
print(u)

v = np.array([0,1])
print(v)


# add Array
z = np.add(u,v)
z


# Array subtractiion
a = np.array([10, 20, 30])
print(a)

b = np.array([4, 5, 20])
print(b)

c = np.subtract(a, b)
print(c)


# Array multiplication
a = np.array([10, 20, 30])
print(a)

b = np.array([4, 5, 20])
print(b)

c = np.multiply(a, b)
print(c)


# Array divition
# Array multiplication
a = np.array([10, 20, 30])
print(a)

b = np.array([2, 5, 6])
print(b)

c = np.divide(a, b)
print(c)





x = np.array([1, 2])
y = np.array([3, 2])

np.dot(x,y) # (3*1)+(2*2)






a = np.array([10, 20, 30])
print(a)

u = a+1
print(u)





np.pi


# creat the numpy array in radians
x = np.array([0, np.pi/2 , np.pi])
y = np.sin(x)
y





a = np.linspace(1,5, num = 5)
a





arr1 = np.array([1, 2, 3])
print(arr1)

for x in arr1:
    print(x)


import time 
import sys
import numpy as np 

import matplotlib.pyplot as plt


def Plotvec2(a,b):
    ax = plt.axes()# to generate the full window axes
    ax.arrow(0, 0, *a, head_width=0.05, color ='r', head_length=0.1)#Add an arrow to the  a Axes with arrow head width 0.05, color red and arrow head length 0.1
    plt.text(*(a + 0.1), 'a')
    ax.arrow(0, 0, *b, head_width=0.05, color ='b', head_length=0.1)#Add an arrow to the  b Axes with arrow head width 0.05, color blue and arrow head length 0.1
    plt.text(*(b + 0.1), 'b')
    plt.ylim(-2, 2)#set the ylim to bottom(-2), top(2)
    plt.xlim(-2, 2)#set the xlim to left(-2), right(2)

# Write your code below and press Shift+Enter to execute
a = np.array([1, 1])
b = np.array([1, 1])

Plotvec2(a,b)
print("This is dot product : ", np.dot(a,b))
    


a = np.array([1,0])
b = np.array([0,1])
Plotvec2(a,b)
print("This is dot product : ", np.dot(a,b))


# Write your code below and press Shift+Enter to execute
a = np.array([1,1])
b = np.array([0,1])
Plotvec2(a,b)
print("This is dot product : ", np.dot(a,b))





arr1 = np.array([1, 2, 3, 4, 5])
arr2 = np.array([6, 7, 8, 9, 10])

#Starting index in slice is 1 as first even element(2) in array1 is at index 1
even_arr1 = arr1[1:5:2]
print("even for array1",even_arr1)
    
#Starting index in slice is 0 as first odd element(1) in array1 is at index 0
odd_arr1=arr1[0:5:2]
print("odd for array1",odd_arr1)

#Starting index in slice is 0 as first even element(6) in array2 is at index 0
even_arr2 = arr2[0:5:2]
print("even for array2",even_arr2)
    
    
#Starting index in slice is 1 as first odd element(7) in array2 is at index 1
odd_arr2=arr2[1:5:2]
print("odd for array2",odd_arr2)



# Write your code below and press Shift+Enter to execute
arr1 = np.array([1, 2, 3, 4, 5])
arr2 = np.array([6, 7, 8, 9, 10])

EvenArr1 = []
OddArr1= []
for i in arr1:
    if i % 2 == 0:
        EvenArr1.append(i)       
    else:
        OddArr1.append(i)
        
print("Even number of arr1 : ", EvenArr1)
print("Odd number of arr1 : ", OddArr1)

print("____________________________________")

EvenArr2 = []
OddArr2= []
for i in arr2:
    if i % 2 == 0:
        EvenArr2.append(i)       
    else:
        OddArr2.append(i)
        
print("Even number of arr2 : ", EvenArr2)
print("Odd number of arr2 : ", OddArr2)




