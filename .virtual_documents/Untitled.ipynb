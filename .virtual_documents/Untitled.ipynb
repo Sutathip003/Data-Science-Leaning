





seq = [1,2,3]
for s in seq:
    print(s)


for number in range(1, 11):
    print(number)


# Enumerated for loop
fruits = ["apple", "banana", "orange"]
for index, fruit in enumerate(fruits):
    print(f"At position {index}, I found a {fruit}")





count = 1
while count <= 10:
    print(count)
    count += 1



