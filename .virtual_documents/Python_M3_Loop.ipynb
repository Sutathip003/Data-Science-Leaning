





seq = [1,2,3]
for s in seq:
    print(s)


for number in range(1, 11):
    print(number)


# Enumerated for loop
fruits = ["apple", "banana", "orange"]
for index, fruit in enumerate(fruits):
    print(f"At position {index}, I found a {fruit}")


# For loop example

dates = [1982,1980,1973]
N = len(dates)
print(f"This is len() : {N}")

print(f"This is range() : {range(N)}")

for i in range(N):
    print(dates[i]) 


# Use for loop to change the elements in list

squares = ['red', 'yellow', 'green', 'purple', 'blue']

for i in range(0, 5):
    print("Before square ", i, 'is',  squares[i])
    squares[i] = 'white'
    print("After square ", i, 'is',  squares[i])


# Loop through the list and iterate on both index and element value

squares=['red', 'yellow', 'green', 'purple', 'blue']

for i, square in enumerate(squares):
    print(i, square)





count = 1
while count <= 5:
    print(count)
    count += 1


# While Loop Example

dates = [1982, 1980, 1973, 2000]

i = 0
while i < len(dates) and dates[i] != 1973:   
    print(dates[i])
    i += 1


 
