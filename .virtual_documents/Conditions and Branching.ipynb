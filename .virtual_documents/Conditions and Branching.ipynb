





# equal ==
a = 1 == 1
b = "1" == "1"
print(a)
print(b)


 # not equal !=
a = 1 != 2
b = "1" != "2"
print(a)
print(b)


# greater then >
a = 1 > 0
b = "1" > "0" #ASCII Value "0" = 48, "A" = 49
print(a)
print(b)

# less then <
c = 1 < 2
d = "1" < "2"
print(c)
print(d)


# greater then or equal to >=
x = 3 >= 3
print(x)

# less then or equal to <=
y = 3 <= 3
print(y)





age = 18 

if age > 20 :
    print("you allow to a nightclub")
elif age == 18:
    print("you are in happy life")
else:
    print("go back to school")





Orange = 15
Apple = 20
Banana = 5

# and
if Orange > Banana and Apple < Orange:
    print("let't but them")
else:
    print("tell your mom")

has_valid_id_card = True
has_matching_fingerprint = True
if has_valid_id_card and has_matching_fingerprint:
    print("open_high_security_door()")

# or
if Orange > Banana or Apple < Orange:
    print("let't but them all")
else:
    print("go to tell your mom")

friend1_likes_comedy = True
friend2_likes_action = False
friend3_likes_drama = False
if friend1_likes_comedy or friend2_likes_action or friend3_likes_drama:
    print("choose a movie()")

# not 
a = Orange is not Apple
print(a)

if Orange != Apple:
    print("Don't buy")
else:
    print("Buy")


player_name = "Lionel Messi"
sport = "Soccer"
achievements = 15

if achievements > 10:
    print(f"{player_name} plays {sport} and has {achievements} achievements.")
else:
    print(f"{player_name} does not have more than 10 achievements.")


# Branching example

user_choice = "Withdraw Cash"
if user_choice == "Withdraw Cash":
    amount = int(input("Enter the amount to withdraw: "))
    if amount % 10 == 0:
        print("Amount dispensed: ", amount)
    else:
        print("Please enter a multiple of 10.")
else:
    print("Thank you for using the ATM.")


# Logical operators example
is_do_not_disturb = True
if not is_do_not_disturb:
    print("New message received")
else: 
    print("whats'up")






