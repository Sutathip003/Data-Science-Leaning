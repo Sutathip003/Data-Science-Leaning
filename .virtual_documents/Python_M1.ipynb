print("Hello! Python")



# check the python version
import sys
print(sys.version)


# What is the value of z where z = 2+15
z = 2+15
z








# Tryp fuction
a = type(12)
b = type(12.22)
c = type("12")
d = type("this is str")
e = type(True)

print(a, b, c, d, e)


#specifics of floats for your runtime environment
import sys
sys.float_info





# convort int to float
a= float(2) 
b = type(float(2))
print(a, b)


# convort float to int
a= int(1.1)
b= type(int(1.1))
print(a,b)


# convert int to str
a= str(1)
b= type(str(1))
print(a, b)


# convert str to int
a= int("1")
b= type(int("1"))
print(a, b)


# convert float to str
a= float(1.1)
b= type(float(1.1))
print(a,b)



