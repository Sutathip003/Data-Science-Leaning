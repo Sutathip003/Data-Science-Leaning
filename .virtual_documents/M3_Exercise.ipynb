#Press Shift+Enter to run the code
givenstring="Lorem ipsum dolor! diam amet, consetetur Lorem magna. sed diam nonumy eirmod tempor. diam et labore? et diam magna. et diam amet."


class TextAnalyzer(object):
    def __init__(self, text):
        # remove punctuation
        formattedText = text.replace('.','').replace(',',''), replace('!', '').replace('?','')

        # make text lowercase
        formattedText = formattedText.lower()

        self.fmtText = formattedText

    def freqAll(self):
        
        # Split the fmtText into words
        wordList = self.fmtText.split(' ')

        # Cretate dictionary 
        freqMap = {}

        for word in set(wordList): # use set to remove duplicates in list
            freqmap[word] = wordList.count(word)

        return freqMap
            



