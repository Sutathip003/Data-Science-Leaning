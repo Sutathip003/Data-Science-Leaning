


import requests


!pip install pillow
!pip install Ipython


import os
from PIL import Image # Python Imaging Library)
from IPython.display import IFrame # IFrame มาจาก IPython (ใช้ใน Jupyter Notebook)


url = 'https://www.ibm.com/'
r = requests.get(url)

r.status_code


# view the request header
print(r.request.headers)


# view the request body
print("request body :", r.request.body)


header = r.headers
print(header)


# obtain the date
header["Date"]


# content-type indicates the type data
header["Content-Type"]


# check encoding
r.encoding


r.text[0:100]
# r.text # whole text


# save file image
path=os.path.join(os.getcwd(),'image.png')
with open(path,"wb") as f:
    f.write(r.content)


# save or dowload file txt.
URL = "<https://cf-courses-data.s3.us.cloud-object-storage.appdomain.cloud/IBMDeveloperSkillsNetwork-PY0101EN-SkillsNetwork/labs/Module%205/data/Example1.txt"
path = os.path.join(os.getcwd(),"Example1.txt")
r = requests.get(url)

with open(path,"wb") as f:
    f.write(r.content)


# open image

import os
print(os.path.exists(path))
# Image.open(path)

with open(path, "rb") as f:
    header = f.read(10)
    print(header)


r.url


url_get='http://httpbin.org/get'

r.status_code


payload = {"name": "Joseph", "ID":"123"}
r = requests.get(url_get , params= payload)
r.url


print("request body", r.request.body)


r.text


r.headers["Content-Type"]


# As the content 'Content-Type' is in the JSON format we can use the method json(), it returns a Python dict:
r.json()


r.json()["args"]





url_post='http://httpbin.org/post'


r_post=requests.post(url_post,data=payload)


print("POST request URL:", r_post.url)  # Use r_post instead of response


print("POST request body:",r_post.request.body)
print("GET request body:",r.request.body)


# vies the form
r_post.json()["form"]





!pip install randomuser
!pip install pandas


import sys
print(sys.executable)


import sys
!{sys.executable} -m pip install randomuser


from randomuser import RandomUser
import pandas as pd


# creat random user object
r = RandomUser()


someList = r.generate_users(10)
someList


# get method
name = r.get_full_name()
name


for user in someList:
    print(user.get_full_name(),":", user.get_email())


def get_users():
    users =[]
     
    for user in RandomUser.generate_users(10):
        users.append({"Name":user.get_full_name(),"Gender":user.get_gender(),"City":user.get_city(),"State":user.get_state(),"Email":user.get_email(), "DOB":user.get_dob(),"Picture":user.get_picture()})
      
    return pd.DataFrame(users)

get_users()


df1 = pd.DataFrame(get_users())
df1





import requests
import json


data = requests.get("https://web.archive.org/web/20240929211114/https://fruityvice.com/api/fruit/all")


results = json.loads(data.text)
# print(results)


fruitsDF1 = pd.DataFrame(results)
# print(fruitsDF1)


fruitsDF2 = pd.json_normalize(results) #converts nested JSON data into a flat table (DataFrame) using Pandas.
fruitsDF2.head(10)
# fruitsDF2 # show all



Strawberry = fruitsDF2.loc[fruitsDF2["name"] == "Strawberry"]
(Strawberry.iloc[0]["family"]), (Strawberry.iloc[0]["genus"])


Banana = fruitsDF2.loc[fruitsDF2["name"] == "Banana"]
print(f"Banana contained : {Banana.iloc[0]["nutritions.calories"]} calories")


fruitsDF2.drop(columns=["type","id"],inplace=True)
fruitsDF2



