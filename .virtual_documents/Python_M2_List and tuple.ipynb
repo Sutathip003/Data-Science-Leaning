


# Lists operations
List = ["A dog", 3.2, 1998, True,  [1, 2], ("A", 1)]
print("Positive index : ", List[0], "\nNegative index",List[-6])


#List slicing
slice_list = List[1:3]
print(slice_list)


# Extend list
List2 = ["cat", False]
List.extend(List2)
print(List)


# Append list
List2 = ["cat", False]
List.append(List2)
print(List)


# check list length
len_list = len(List)
print(len_list)


# Change the element
List1 = ['A dog', 3.2,'cat', False, "x,y,z"]
List1[-2] = "None"
lenList1 = len(List1)
print("List1 Length : ", lenList1)
print(List1)


# Delete the element 
del(List1[-2])
print(List1)


#Split by white space
List1[0].split()


#Split by comma
print(List1)
List1[-1].split(",")





# Copy referance
nL = ["Bad", 32, "Cat", 96]
print("Before clone : ", nL)
CnL = nL
print("After clone : ", CnL)


nL[0] = "Dog"
print("nL: ", nL)
print("CnL: ", CnL)


# Clone 
nL = CnL[:]
nL[0] = "Ret"
print("nL: ", nL)
print("CnL: ", CnL)






