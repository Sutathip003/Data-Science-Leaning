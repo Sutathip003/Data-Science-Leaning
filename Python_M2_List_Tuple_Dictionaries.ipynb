{
 "cells": [
  {
   "cell_type": "markdown",
   "id": "19d315cd-d93b-4468-9a52-534969fe60d9",
   "metadata": {},
   "source": [
    "## Lists"
   ]
  },
  {
   "cell_type": "code",
   "execution_count": 137,
   "id": "ea68b925-619d-4e70-892a-7029aa8263ea",
   "metadata": {},
   "outputs": [
    {
     "name": "stdout",
     "output_type": "stream",
     "text": [
      "Positive index :  A dog \n",
      "Negative index A dog\n"
     ]
    }
   ],
   "source": [
    "# Lists operations\n",
    "List = [\"A dog\", 3.2, 1998, True,  [1, 2], (\"A\", 1)]\n",
    "print(\"Positive index : \", List[0], \"\\nNegative index\",List[-6])"
   ]
  },
  {
   "cell_type": "code",
   "execution_count": 138,
   "id": "075c09bd-5883-4100-afc3-c51c6bb28364",
   "metadata": {},
   "outputs": [
    {
     "name": "stdout",
     "output_type": "stream",
     "text": [
      "[3.2, 1998]\n"
     ]
    }
   ],
   "source": [
    "#List slicing\n",
    "slice_list = List[1:3]\n",
    "print(slice_list)"
   ]
  },
  {
   "cell_type": "code",
   "execution_count": 139,
   "id": "65e8dbe2-2746-41dc-b556-2340ef8d32e8",
   "metadata": {},
   "outputs": [
    {
     "name": "stdout",
     "output_type": "stream",
     "text": [
      "['A dog', 3.2, 1998, True, [1, 2], ('A', 1), 'cat', False]\n"
     ]
    }
   ],
   "source": [
    "# Extend list\n",
    "List2 = [\"cat\", False]\n",
    "List.extend(List2)\n",
    "print(List)"
   ]
  },
  {
   "cell_type": "code",
   "execution_count": 140,
   "id": "ac9a1dbc-a2d9-48ad-8c51-367c8f85acd9",
   "metadata": {},
   "outputs": [
    {
     "name": "stdout",
     "output_type": "stream",
     "text": [
      "['A dog', 3.2, 1998, True, [1, 2], ('A', 1), 'cat', False, ['cat', False]]\n"
     ]
    }
   ],
   "source": [
    "# Append list\n",
    "List2 = [\"cat\", False]\n",
    "List.append(List2)\n",
    "print(List)"
   ]
  },
  {
   "cell_type": "code",
   "execution_count": 141,
   "id": "ad01c931-c853-43fc-9dfe-06abe11b2767",
   "metadata": {},
   "outputs": [
    {
     "name": "stdout",
     "output_type": "stream",
     "text": [
      "9\n"
     ]
    }
   ],
   "source": [
    "# check list length\n",
    "len_list = len(List)\n",
    "print(len_list)"
   ]
  },
  {
   "cell_type": "code",
   "execution_count": 142,
   "id": "e99b0411-22c6-42b0-b90f-d997c7ee58cb",
   "metadata": {},
   "outputs": [
    {
     "name": "stdout",
     "output_type": "stream",
     "text": [
      "List1 Length :  5\n",
      "['A dog', 3.2, 'cat', 'None', 'x,y,z']\n"
     ]
    }
   ],
   "source": [
    "# Change the element\n",
    "List1 = ['A dog', 3.2,'cat', False, \"x,y,z\"]\n",
    "List1[-2] = \"None\"\n",
    "lenList1 = len(List1)\n",
    "print(\"List1 Length : \", lenList1)\n",
    "print(List1)"
   ]
  },
  {
   "cell_type": "code",
   "execution_count": 143,
   "id": "10d7febe-dacc-4397-ab63-c2c683c2c323",
   "metadata": {},
   "outputs": [
    {
     "name": "stdout",
     "output_type": "stream",
     "text": [
      "['A dog', 3.2, 'cat', 'x,y,z']\n"
     ]
    }
   ],
   "source": [
    "# Delete the element \n",
    "del(List1[-2])\n",
    "print(List1)"
   ]
  },
  {
   "cell_type": "code",
   "execution_count": 144,
   "id": "5f4ad231-da28-4635-a27d-f82d51407fc1",
   "metadata": {},
   "outputs": [
    {
     "data": {
      "text/plain": [
       "['A', 'dog']"
      ]
     },
     "execution_count": 144,
     "metadata": {},
     "output_type": "execute_result"
    }
   ],
   "source": [
    "#Split by white space\n",
    "List1[0].split()"
   ]
  },
  {
   "cell_type": "code",
   "execution_count": 145,
   "id": "176526c5-8279-4697-a8be-03ddb0b1f93f",
   "metadata": {},
   "outputs": [
    {
     "name": "stdout",
     "output_type": "stream",
     "text": [
      "['A dog', 3.2, 'cat', 'x,y,z']\n"
     ]
    },
    {
     "data": {
      "text/plain": [
       "['x', 'y', 'z']"
      ]
     },
     "execution_count": 145,
     "metadata": {},
     "output_type": "execute_result"
    }
   ],
   "source": [
    "#Split by comma\n",
    "print(List1)\n",
    "List1[-1].split(\",\")"
   ]
  },
  {
   "cell_type": "markdown",
   "id": "08bac165-67e8-443a-bd65-b35ef4122be7",
   "metadata": {},
   "source": [
    "#### Copy and Clone List"
   ]
  },
  {
   "cell_type": "code",
   "execution_count": 146,
   "id": "706bd22d-c33c-4001-ba1b-a67d7c547b69",
   "metadata": {},
   "outputs": [
    {
     "name": "stdout",
     "output_type": "stream",
     "text": [
      "Before clone :  ['Bad', 32, 'Cat', 96]\n",
      "After clone :  ['Bad', 32, 'Cat', 96]\n"
     ]
    }
   ],
   "source": [
    "# Copy referance\n",
    "nL = [\"Bad\", 32, \"Cat\", 96]\n",
    "print(\"Before clone : \", nL)\n",
    "CnL = nL\n",
    "print(\"After clone : \", CnL)"
   ]
  },
  {
   "cell_type": "code",
   "execution_count": 147,
   "id": "95d0d0d3-1b4b-46bc-ac8d-a93929a0a144",
   "metadata": {},
   "outputs": [
    {
     "name": "stdout",
     "output_type": "stream",
     "text": [
      "nL:  ['Dog', 32, 'Cat', 96]\n",
      "CnL:  ['Dog', 32, 'Cat', 96]\n"
     ]
    }
   ],
   "source": [
    "nL[0] = \"Dog\"\n",
    "print(\"nL: \", nL)\n",
    "print(\"CnL: \", CnL)"
   ]
  },
  {
   "cell_type": "code",
   "execution_count": 148,
   "id": "84790ea3-abbe-462c-a503-c45824a4c299",
   "metadata": {},
   "outputs": [
    {
     "name": "stdout",
     "output_type": "stream",
     "text": [
      "nL:  ['Ret', 32, 'Cat', 96]\n",
      "CnL:  ['Dog', 32, 'Cat', 96]\n"
     ]
    }
   ],
   "source": [
    "# Clone \n",
    "nL = CnL[:]\n",
    "nL[0] = \"Ret\"\n",
    "print(\"nL: \", nL)\n",
    "print(\"CnL: \", CnL)"
   ]
  },
  {
   "cell_type": "markdown",
   "id": "c29a98bf-ea3f-4659-9cfa-9623c4153e38",
   "metadata": {},
   "source": [
    "## Tuples"
   ]
  },
  {
   "cell_type": "code",
   "execution_count": 149,
   "id": "dd44c100-2067-4074-a5cf-6359dcf5eec8",
   "metadata": {},
   "outputs": [
    {
     "data": {
      "text/plain": [
       "('snow', 19, 2.9, True)"
      ]
     },
     "execution_count": 149,
     "metadata": {},
     "output_type": "execute_result"
    }
   ],
   "source": [
    "tuple1 = (\"snow\", 19, 2.9, True)\n",
    "tuple1"
   ]
  },
  {
   "cell_type": "code",
   "execution_count": 150,
   "id": "704ce416-3fc3-4530-a274-1864134047ef",
   "metadata": {},
   "outputs": [
    {
     "name": "stdout",
     "output_type": "stream",
     "text": [
      "<class 'str'>\n",
      "<class 'int'>\n",
      "<class 'bool'>\n",
      "<class 'bool'>\n"
     ]
    }
   ],
   "source": [
    "# Type of tuple\n",
    "type(tuple1)\n",
    "print(type(tuple1[0]))\n",
    "print(type(tuple1[1]))\n",
    "print(type(tuple1[3]))\n",
    "print(type(tuple1[-1]))"
   ]
  },
  {
   "cell_type": "markdown",
   "id": "a63c1ebf-f4bc-4426-b9c5-c4cddde0bbb6",
   "metadata": {},
   "source": [
    "#### Indexing"
   ]
  },
  {
   "cell_type": "code",
   "execution_count": 151,
   "id": "546094c7-05ee-475b-8d9d-e2ae4c9719ea",
   "metadata": {},
   "outputs": [
    {
     "name": "stdout",
     "output_type": "stream",
     "text": [
      "snow\n",
      "snow\n",
      "(19, 2.9, True)\n",
      "('snow', 19, 2.9, True)\n"
     ]
    }
   ],
   "source": [
    "# exit to Index\n",
    "print(tuple1[0])\n",
    "print(tuple1[-4])\n",
    "print(tuple1[1:4])\n",
    "print(tuple1[:])"
   ]
  },
  {
   "cell_type": "code",
   "execution_count": 152,
   "id": "93e9eb9d-2487-4068-98b2-bbd85ea12c0a",
   "metadata": {},
   "outputs": [
    {
     "name": "stdout",
     "output_type": "stream",
     "text": [
      "1\n"
     ]
    }
   ],
   "source": [
    "# Find index\n",
    "findT=\"snow\".find (\"n\")\n",
    "print(findT)"
   ]
  },
  {
   "cell_type": "markdown",
   "id": "20ae53f7-45e5-4e89-b461-6f9924e0613c",
   "metadata": {},
   "source": [
    "#### Concatenate Tuples"
   ]
  },
  {
   "cell_type": "code",
   "execution_count": 153,
   "id": "a29ef800-099b-4900-87ec-e02ad39fc36a",
   "metadata": {},
   "outputs": [
    {
     "data": {
      "text/plain": [
       "('snow', 19, 2.9, True, 'Ocean', 10)"
      ]
     },
     "execution_count": 153,
     "metadata": {},
     "output_type": "execute_result"
    }
   ],
   "source": [
    "tuple2 = tuple1 + (\"Ocean\", 10)\n",
    "tuple2"
   ]
  },
  {
   "cell_type": "markdown",
   "id": "2d2a9759-0667-4911-91c2-d7191dd5c14f",
   "metadata": {},
   "source": [
    "#### sllicing"
   ]
  },
  {
   "cell_type": "code",
   "execution_count": 154,
   "id": "2da7a174-d839-4864-958e-806fbe6e054e",
   "metadata": {},
   "outputs": [
    {
     "name": "stdout",
     "output_type": "stream",
     "text": [
      "('Ocean', 10)\n",
      "(19, 2.9, True)\n",
      "(19, 2.9)\n"
     ]
    }
   ],
   "source": [
    "print(tuple2[-2:])\n",
    "print(tuple2[-5:-2])\n",
    "print(tuple2[1:3])"
   ]
  },
  {
   "cell_type": "markdown",
   "id": "b9526fc3-1900-4508-a597-2523c88d7a2d",
   "metadata": {},
   "source": [
    "### check lenght"
   ]
  },
  {
   "cell_type": "code",
   "execution_count": 155,
   "id": "2ae77a3d-70c7-4586-892d-6c32dc0c4620",
   "metadata": {},
   "outputs": [
    {
     "data": {
      "text/plain": [
       "6"
      ]
     },
     "execution_count": 155,
     "metadata": {},
     "output_type": "execute_result"
    }
   ],
   "source": [
    "len(tuple2)"
   ]
  },
  {
   "cell_type": "markdown",
   "id": "8005d4c8-286f-4ece-87e5-90e3429a0d8b",
   "metadata": {},
   "source": [
    "#### Sorting"
   ]
  },
  {
   "cell_type": "code",
   "execution_count": 156,
   "id": "3cde8bd1-78a3-45e2-98f7-0450a08573d5",
   "metadata": {},
   "outputs": [
    {
     "name": "stdout",
     "output_type": "stream",
     "text": [
      "[0, 2, 5, 6, 6, 8, 9, 9, 10]\n",
      "[10, 9, 9, 8, 6, 6, 5, 2, 0]\n"
     ]
    }
   ],
   "source": [
    "score = (0, 9, 6, 5, 10, 8, 9, 6, 2)\n",
    "scoreSort = sorted(score)\n",
    "print(scoreSort)\n",
    "scoreSortR = sorted(score, reverse=True)\n",
    "print(scoreSortR)"
   ]
  },
  {
   "cell_type": "markdown",
   "id": "bf896439-b0e1-4966-bfcf-e9419a561e6a",
   "metadata": {},
   "source": [
    "#### Nested tuple"
   ]
  },
  {
   "cell_type": "code",
   "execution_count": 157,
   "id": "3cf3e6f8-760c-4c39-b294-157efbc73b95",
   "metadata": {},
   "outputs": [
    {
     "name": "stdout",
     "output_type": "stream",
     "text": [
      "(1, 2, ('cat', 'dog'), ('milk', 'water', (3, 4)))\n"
     ]
    }
   ],
   "source": [
    "NesT = (1,2, (\"cat\", \"dog\"), (\"milk\", \"water\",(3,4)))\n",
    "print(NesT)"
   ]
  },
  {
   "cell_type": "code",
   "execution_count": 158,
   "id": "c2f53d13-ff61-466e-a599-bac1a02265de",
   "metadata": {},
   "outputs": [
    {
     "name": "stdout",
     "output_type": "stream",
     "text": [
      "1\n",
      "('milk', 'water', (3, 4))\n",
      "(3, 4)\n",
      "4\n"
     ]
    }
   ],
   "source": [
    "# Element on each index\n",
    "print(NesT[0])\n",
    "print(NesT[3])\n",
    "print(NesT[3][2])\n",
    "print(NesT[3][2][1])"
   ]
  },
  {
   "cell_type": "markdown",
   "id": "55d1c232-3fff-4bcd-b74d-8fa82f60d978",
   "metadata": {},
   "source": [
    "#### Package/Method"
   ]
  },
  {
   "cell_type": "markdown",
   "id": "4d592c4c-4987-4567-924c-45c94fe6b8ab",
   "metadata": {},
   "source": [
    "* count()\n",
    "* index()\n",
    "* sum()\n",
    "* min() and max()\n",
    "* pop()\n",
    "* len() "
   ]
  },
  {
   "cell_type": "markdown",
   "id": "b5ec88f0-f1ac-4705-88fa-ceb5249052f5",
   "metadata": {},
   "source": [
    "## Dictionaries"
   ]
  },
  {
   "cell_type": "code",
   "execution_count": 159,
   "id": "bfc762f4-17f5-4a54-b317-df62442153a4",
   "metadata": {},
   "outputs": [
    {
     "data": {
      "text/plain": [
       "{'Flower': ['Jusmin', 'Tulip', 'Rose'],\n",
       " 'Number': [1, 2, 3, 4],\n",
       " 'Speed': [1.2, 3.4, 5.4],\n",
       " 'Q': [True, False]}"
      ]
     },
     "execution_count": 159,
     "metadata": {},
     "output_type": "execute_result"
    }
   ],
   "source": [
    "# Create the dictionary\n",
    "Dict = {\"Flower\": [\"Jusmin\", \"Tulip\", \"Rose\"], \"Number\":[1,2,3,4],\"Speed\" : [1.2,3.4,5.4], \"Q\": [True, False], }\n",
    "Dict"
   ]
  },
  {
   "cell_type": "code",
   "execution_count": 160,
   "id": "e1f0dfdf-9663-4c9f-8304-10c6ba7bfe0b",
   "metadata": {},
   "outputs": [
    {
     "data": {
      "text/plain": [
       "'Tulip'"
      ]
     },
     "execution_count": 160,
     "metadata": {},
     "output_type": "execute_result"
    }
   ],
   "source": [
    "# Access to the value by the key\n",
    "Dict[\"Flower\"][1]"
   ]
  },
  {
   "cell_type": "code",
   "execution_count": 161,
   "id": "a2573acf-34bd-4879-8d84-a5aa99d68c0a",
   "metadata": {},
   "outputs": [
    {
     "data": {
      "text/plain": [
       "dict_keys(['Flower', 'Number', 'Speed', 'Q'])"
      ]
     },
     "execution_count": 161,
     "metadata": {},
     "output_type": "execute_result"
    }
   ],
   "source": [
    "# Get all the key in dictionaries\n",
    "Dict.keys()"
   ]
  },
  {
   "cell_type": "code",
   "execution_count": 162,
   "id": "5b4aaf8e-a84a-4cb8-9ea3-5cb6b64a191a",
   "metadata": {},
   "outputs": [
    {
     "data": {
      "text/plain": [
       "dict_values([['Jusmin', 'Tulip', 'Rose'], [1, 2, 3, 4], [1.2, 3.4, 5.4], [True, False]])"
      ]
     },
     "execution_count": 162,
     "metadata": {},
     "output_type": "execute_result"
    }
   ],
   "source": [
    "# Get all the values \n",
    "Dict.values()"
   ]
  },
  {
   "cell_type": "code",
   "execution_count": 163,
   "id": "6b3fd3aa-97f0-40d7-8661-1a1f08325332",
   "metadata": {},
   "outputs": [
    {
     "data": {
      "text/plain": [
       "{'Flower': ['Jusmin', 'Tulip', 'Rose'],\n",
       " 'Number': [1, 2, 3, 4],\n",
       " 'Speed': [1.2, 3.4, 5.4],\n",
       " 'Q': [True, False],\n",
       " 'Animal': ['Dog', 'Cat', 'Hippo']}"
      ]
     },
     "execution_count": 163,
     "metadata": {},
     "output_type": "execute_result"
    }
   ],
   "source": [
    "# Append value and Key\n",
    "Dict[\"Animal\"]= [\"Dog\", \"Cat\", \"Hippo\"]\n",
    "Dict"
   ]
  },
  {
   "cell_type": "code",
   "execution_count": 164,
   "id": "0b6658eb-92b9-443e-b076-a847472ccfbd",
   "metadata": {},
   "outputs": [
    {
     "name": "stdout",
     "output_type": "stream",
     "text": [
      "Before delete: {'Flower': ['Jusmin', 'Tulip', 'Rose'], 'Number': [1, 2, 3, 4], 'Speed': [1.2, 3.4, 5.4], 'Q': [True, False], 'Animal': ['Dog', 'Cat', 'Hippo']}\n"
     ]
    },
    {
     "data": {
      "text/plain": [
       "{'Flower': ['Jusmin', 'Tulip', 'Rose'],\n",
       " 'Number': [1, 2, 3, 4],\n",
       " 'Speed': [1.2, 3.4, 5.4],\n",
       " 'Animal': ['Dog', 'Cat', 'Hippo']}"
      ]
     },
     "execution_count": 164,
     "metadata": {},
     "output_type": "execute_result"
    }
   ],
   "source": [
    "# Delete key\n",
    "print(\"Before delete:\" ,Dict)\n",
    "del(Dict[\"Q\"])\n",
    "Dict"
   ]
  },
  {
   "cell_type": "code",
   "execution_count": 165,
   "id": "50be5991-2864-41f5-b5e3-e8fd02eb6448",
   "metadata": {},
   "outputs": [
    {
     "data": {
      "text/plain": [
       "True"
      ]
     },
     "execution_count": 165,
     "metadata": {},
     "output_type": "execute_result"
    }
   ],
   "source": [
    "# Check\n",
    "\"Speed\" in Dict"
   ]
  },
  {
   "cell_type": "markdown",
   "id": "c86ab143-6eec-439f-ad9b-f61f433ca729",
   "metadata": {},
   "source": [
    "## Sets"
   ]
  },
  {
   "cell_type": "code",
   "execution_count": null,
   "id": "dc7f198a-3e88-4148-92a7-04713e950e0c",
   "metadata": {},
   "outputs": [],
   "source": [
    "\n",
    "\\\n",
    "\n",
    "\n",
    "\n"
   ]
  }
 ],
 "metadata": {
  "kernelspec": {
   "display_name": "Python 3 (ipykernel)",
   "language": "python",
   "name": "python3"
  },
  "language_info": {
   "codemirror_mode": {
    "name": "ipython",
    "version": 3
   },
   "file_extension": ".py",
   "mimetype": "text/x-python",
   "name": "python",
   "nbconvert_exporter": "python",
   "pygments_lexer": "ipython3",
   "version": "3.12.7"
  }
 },
 "nbformat": 4,
 "nbformat_minor": 5
}
