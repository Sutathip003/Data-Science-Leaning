{
 "cells": [
  {
   "cell_type": "markdown",
   "id": "e20ca9ee-e78e-4307-829e-2d33103edf8b",
   "metadata": {},
   "source": [
    "# Practice Project: GDP Data extraction and processing"
   ]
  },
  {
   "cell_type": "code",
   "execution_count": 1,
   "id": "94dd817d-99b8-4351-a555-4ac255182e7d",
   "metadata": {},
   "outputs": [
    {
     "name": "stdout",
     "output_type": "stream",
     "text": [
      "Defaulting to user installation because normal site-packages is not writeable\n",
      "Requirement already satisfied: pandas in c:\\users\\anaconda3\\lib\\site-packages (2.2.2)\n",
      "Requirement already satisfied: numpy in c:\\users\\anaconda3\\lib\\site-packages (1.26.4)\n",
      "Requirement already satisfied: python-dateutil>=2.8.2 in c:\\users\\anaconda3\\lib\\site-packages (from pandas) (2.9.0.post0)\n",
      "Requirement already satisfied: pytz>=2020.1 in c:\\users\\anaconda3\\lib\\site-packages (from pandas) (2024.1)\n",
      "Requirement already satisfied: tzdata>=2022.7 in c:\\users\\anaconda3\\lib\\site-packages (from pandas) (2023.3)\n",
      "Requirement already satisfied: six>=1.5 in c:\\users\\anaconda3\\lib\\site-packages (from python-dateutil>=2.8.2->pandas) (1.16.0)\n",
      "Defaulting to user installation because normal site-packages is not writeable\n",
      "Requirement already satisfied: lxml in c:\\users\\anaconda3\\lib\\site-packages (5.2.1)\n"
     ]
    }
   ],
   "source": [
    "!pip install pandas numpy\n",
    "!pip install lxml"
   ]
  },
  {
   "cell_type": "code",
   "execution_count": 6,
   "id": "f96183e5-ae71-422b-8a27-7957c97eeb86",
   "metadata": {},
   "outputs": [
    {
     "name": "stdout",
     "output_type": "stream",
     "text": [
      "File download successfully\n",
      "None\n"
     ]
    }
   ],
   "source": [
    "import pandas as pd\n",
    "import numpy as np\n",
    "import requests\n",
    "\n",
    "# Use Webscraping to extract required information from a website.\n",
    "\n",
    "url = \"https://web.archive.org/web/20230902185326/https://en.wikipedia.org/wiki/List_of_countries_by_GDP_%28nominal%29\"\n",
    "filename = \"gdp_page.html\"\n",
    "\n",
    "def get_company(url, filename):\n",
    "    response = requests.get(url)\n",
    "    if response.status_code == 200:\n",
    "        with open(filename, \"wb\") as f:\n",
    "            f.write(response.content)\n",
    "        print(\"File download successfully\")\n",
    "    else:\n",
    "        print(\"Download failed.\")\n",
    "\n",
    "print(get_company(url, filename))\n"
   ]
  },
  {
   "cell_type": "code",
   "execution_count": 43,
   "id": "605a7301-acc4-47d1-9187-66cebf58fb6b",
   "metadata": {},
   "outputs": [
    {
     "name": "stdout",
     "output_type": "stream",
     "text": [
      "           Country GDP(Million USD)\n",
      "1    United States         26854599\n",
      "2            China         19373586\n",
      "3            Japan          4409738\n",
      "4          Germany          4308854\n",
      "5            India          3736882\n",
      "6   United Kingdom          3158938\n",
      "7           France          2923489\n",
      "8            Italy          2169745\n",
      "9           Canada          2089672\n",
      "10          Brazil          2081235\n"
     ]
    }
   ],
   "source": [
    "# Use Pandas to load and process the tabular data as a dataframe.\n",
    "tables = pd.read_html(\"gdp_page.html\")\n",
    "# print(tables)\n",
    "\n",
    "# check how many table were found\n",
    "# print(\"total tables found: \", len(tables))\n",
    "\n",
    "tables = pd.read_html(url)\n",
    "df = tables[3]\n",
    "# print(df)\n",
    "\n",
    "#replace the column headders with colum numbers\n",
    "df.columns = range(df.shape[1])\n",
    "# print(df.columns)\n",
    "\n",
    "# Retain columns with index 0 and 2 (name of country and value of GDP quoted by IMF)\n",
    "df = df[[0,2]]\n",
    "# print(df)\n",
    "\n",
    "\n",
    "df = df.iloc[1:11,:]\n",
    "# print(df)\n",
    "\n",
    "# Assign column names\n",
    "df.columns = [\"Country\", \"GDP(Million USD)\"]\n",
    "print(df)"
   ]
  },
  {
   "cell_type": "code",
   "execution_count": 45,
   "id": "d0d8a5e3-27fe-4a0a-969e-a61e3877fc87",
   "metadata": {},
   "outputs": [
    {
     "name": "stdout",
     "output_type": "stream",
     "text": [
      "           Country  GDP(Billion USD)\n",
      "1    United States          26854.60\n",
      "2            China          19373.59\n",
      "3            Japan           4409.74\n",
      "4          Germany           4308.85\n",
      "5            India           3736.88\n",
      "6   United Kingdom           3158.94\n",
      "7           France           2923.49\n",
      "8            Italy           2169.74\n",
      "9           Canada           2089.67\n",
      "10          Brazil           2081.24\n"
     ]
    }
   ],
   "source": [
    "# Change the data type of the 'GDP (Million USD)' column to integer. Use astype() method.\n",
    "df[\"GDP(Million USD)\"] = df[\"GDP(Million USD)\"].astype(int)\n",
    "\n",
    "# Convert the GDP value in Million USD to Billion USD\n",
    "df[[\"GDP(Million USD)\"]] = df[[\"GDP(Million USD)\"]]/1000\n",
    "\n",
    "# Use numpy.round() method to round the value to 2 decimal places.\n",
    "df[[\"GDP(Million USD)\"]] = np.round(df[[\"GDP(Million USD)\"]], 2)\n",
    "\n",
    "# Rename the column header from 'GDP (Million USD)' to 'GDP (Billion USD)'\n",
    "new_df = df.rename(columns = {\"GDP(Million USD)\" : \"GDP(Billion USD)\"})\n",
    "\n",
    "print(new_df)"
   ]
  },
  {
   "cell_type": "code",
   "execution_count": 46,
   "id": "be08c2c6-488e-4fa5-9321-3cd118894a9a",
   "metadata": {},
   "outputs": [],
   "source": [
    "# Load the DataFrame to the CSV file named \"Largest_economies.csv\"\n",
    "df.to_csv('./Largest_economies.csv')"
   ]
  },
  {
   "cell_type": "code",
   "execution_count": null,
   "id": "0d815f0c-4199-4a5f-b0a1-1356f6582f8b",
   "metadata": {},
   "outputs": [],
   "source": []
  }
 ],
 "metadata": {
  "kernelspec": {
   "display_name": "Python 3 (ipykernel)",
   "language": "python",
   "name": "python3"
  },
  "language_info": {
   "codemirror_mode": {
    "name": "ipython",
    "version": 3
   },
   "file_extension": ".py",
   "mimetype": "text/x-python",
   "name": "python",
   "nbconvert_exporter": "python",
   "pygments_lexer": "ipython3",
   "version": "3.12.7"
  }
 },
 "nbformat": 4,
 "nbformat_minor": 5
}
