{
 "cells": [
  {
   "cell_type": "markdown",
   "id": "c2347ea2-75c2-4833-9f6e-bc61b5fc801e",
   "metadata": {},
   "source": [
    "# Numpy"
   ]
  },
  {
   "cell_type": "code",
   "execution_count": 4,
   "id": "991dcfac-c52b-4950-b897-9d087b2c25c8",
   "metadata": {},
   "outputs": [
    {
     "data": {
      "text/plain": [
       "array([0, 1, 2, 3, 4])"
      ]
     },
     "execution_count": 4,
     "metadata": {},
     "output_type": "execute_result"
    }
   ],
   "source": [
    "#create a numpy array\n",
    "\n",
    "import numpy as np\n",
    "\n",
    "a = np.array([0,1,2,3,4])\n",
    "a"
   ]
  },
  {
   "cell_type": "code",
   "execution_count": 5,
   "id": "eb2fb150-61ca-4c1e-9707-6c6dfba861ca",
   "metadata": {},
   "outputs": [
    {
     "name": "stdout",
     "output_type": "stream",
     "text": [
      "a[1]:  1\n"
     ]
    }
   ],
   "source": [
    "# print element\n",
    "print(\"a[1]: \", a[1])"
   ]
  },
  {
   "cell_type": "code",
   "execution_count": 8,
   "id": "4573027f-c19e-41bb-aa67-ab0491af9500",
   "metadata": {},
   "outputs": [
    {
     "name": "stdout",
     "output_type": "stream",
     "text": [
      "1.26.4\n",
      "int32\n"
     ]
    }
   ],
   "source": [
    "# check numpy version\n",
    "print(np.__version__)\n",
    "print(a.dtype)"
   ]
  },
  {
   "cell_type": "code",
   "execution_count": 7,
   "id": "629f7a42-2c48-417e-acd6-91a0587dc69b",
   "metadata": {},
   "outputs": [
    {
     "data": {
      "text/plain": [
       "numpy.ndarray"
      ]
     },
     "execution_count": 7,
     "metadata": {},
     "output_type": "execute_result"
    }
   ],
   "source": [
    "# check type of array\n",
    "type(a)"
   ]
  },
  {
   "cell_type": "code",
   "execution_count": 9,
   "id": "e42606ca-19c5-430c-9b9a-a903df034470",
   "metadata": {},
   "outputs": [
    {
     "data": {
      "text/plain": [
       "array([  0,   1,   2, 100,   4])"
      ]
     },
     "execution_count": 9,
     "metadata": {},
     "output_type": "execute_result"
    }
   ],
   "source": [
    "# chang element\n",
    "a[3] = 100\n",
    "a"
   ]
  },
  {
   "cell_type": "code",
   "execution_count": 10,
   "id": "85234460-a2b7-4934-b588-0f44ac458e56",
   "metadata": {},
   "outputs": [
    {
     "data": {
      "text/plain": [
       "array([  0,   1,   2, 500, 900])"
      ]
     },
     "execution_count": 10,
     "metadata": {},
     "output_type": "execute_result"
    }
   ],
   "source": [
    "# slicing\n",
    "a[3:5] = 500, 900\n",
    "a"
   ]
  },
  {
   "cell_type": "code",
   "execution_count": 13,
   "id": "7794ac22-751c-4fb6-9dad-c244be59a457",
   "metadata": {},
   "outputs": [
    {
     "name": "stdout",
     "output_type": "stream",
     "text": [
      "[ 2  4  6  8 10]\n"
     ]
    }
   ],
   "source": [
    "arr = np.array([1,2,3,4,5,6,7,8,9,10])\n",
    "print(arr[1:11:2]) # [start: end: step]"
   ]
  },
  {
   "cell_type": "code",
   "execution_count": 22,
   "id": "43ac34b5-4832-4125-8cbc-4c17bb6af1c6",
   "metadata": {},
   "outputs": [
    {
     "data": {
      "text/plain": [
       "array([ 3,  6,  8, 10])"
      ]
     },
     "execution_count": 22,
     "metadata": {},
     "output_type": "execute_result"
    }
   ],
   "source": [
    "# Assign value with list\n",
    "a = np.array([1,2,3,4,6,7,8,9, 10])\n",
    "\n",
    "newList= [2,4,6,8]\n",
    "\n",
    "updateA = a[newList]\n",
    "updateA"
   ]
  },
  {
   "cell_type": "code",
   "execution_count": 23,
   "id": "e23c7fa8-febb-4fb8-9adb-969230bfc980",
   "metadata": {},
   "outputs": [
    {
     "data": {
      "text/plain": [
       "array([  1,   2, 500,   4, 500,   7, 500,   9, 500])"
      ]
     },
     "execution_count": 23,
     "metadata": {},
     "output_type": "execute_result"
    }
   ],
   "source": [
    "# assing specific element to new value\n",
    "a[newList] = 500\n",
    "a"
   ]
  },
  {
   "cell_type": "code",
   "execution_count": 24,
   "id": "98547b64-0c1d-4bba-b07a-1f7dd3b58742",
   "metadata": {},
   "outputs": [
    {
     "data": {
      "text/plain": [
       "9"
      ]
     },
     "execution_count": 24,
     "metadata": {},
     "output_type": "execute_result"
    }
   ],
   "source": [
    "# get the size\n",
    "a.size"
   ]
  },
  {
   "cell_type": "code",
   "execution_count": 26,
   "id": "7cb86613-b432-49f0-9e02-9a7c7fadb34a",
   "metadata": {},
   "outputs": [
    {
     "name": "stdout",
     "output_type": "stream",
     "text": [
      "1\n",
      "3\n"
     ]
    }
   ],
   "source": [
    "# get the number of dimentions of numpy array\n",
    "# 1 dimention\n",
    "a = np.array([1,2,3,4,6,7,8,9, 10])\n",
    "print(a.ndim)\n",
    "\n",
    "b = np.array([[[1,2,3,4,6,7,8,9, 10]]])\n",
    "print(b.ndim)"
   ]
  },
  {
   "cell_type": "code",
   "execution_count": 28,
   "id": "923a3f9e-f369-4f42-a248-6786ab2ee1ad",
   "metadata": {},
   "outputs": [
    {
     "name": "stdout",
     "output_type": "stream",
     "text": [
      "(9,)\n",
      "(1, 1, 9)\n"
     ]
    }
   ],
   "source": [
    "# get the shape and size of array\n",
    "print(a.shape)\n",
    "print(b.shape)"
   ]
  },
  {
   "cell_type": "markdown",
   "id": "94f0128e-9e3e-4625-9bd8-cfb7427dc634",
   "metadata": {},
   "source": [
    "## Numpy statistic functions"
   ]
  },
  {
   "cell_type": "code",
   "execution_count": 29,
   "id": "1b0bcc8b-90b2-4f28-9a5b-3b3f3bdc4eea",
   "metadata": {},
   "outputs": [
    {
     "data": {
      "text/plain": [
       "5.555555555555555"
      ]
     },
     "execution_count": 29,
     "metadata": {},
     "output_type": "execute_result"
    }
   ],
   "source": [
    "a = np.array([1,2,3,4,6,7,8,9, 10])\n",
    "mean_a = a.mean()\n",
    "mean_a"
   ]
  },
  {
   "cell_type": "code",
   "execution_count": 30,
   "id": "ed088dcc-7728-4d12-bb89-0ff96f42963e",
   "metadata": {},
   "outputs": [
    {
     "data": {
      "text/plain": [
       "3.02254900194121"
      ]
     },
     "execution_count": 30,
     "metadata": {},
     "output_type": "execute_result"
    }
   ],
   "source": [
    "std_a = a.std()\n",
    "std_a"
   ]
  },
  {
   "cell_type": "code",
   "execution_count": 32,
   "id": "02db4b4a-35c3-42ce-b4be-f9411d8cd5a2",
   "metadata": {},
   "outputs": [
    {
     "name": "stdout",
     "output_type": "stream",
     "text": [
      "Max a :  10\n",
      "Min a :  1\n"
     ]
    }
   ],
   "source": [
    "max_a = a.max()\n",
    "print(\"Max a : \", max_a)\n",
    "\n",
    "min_a = a.min()\n",
    "print(\"Min a : \", min_a)"
   ]
  },
  {
   "cell_type": "markdown",
   "id": "f25de65d-d80d-4bb6-9ff8-6b085582ad17",
   "metadata": {},
   "source": [
    "## Numpy array operations"
   ]
  },
  {
   "cell_type": "code",
   "execution_count": 34,
   "id": "f11f9754-2259-463b-b332-7f6ea50953bf",
   "metadata": {},
   "outputs": [
    {
     "name": "stdout",
     "output_type": "stream",
     "text": [
      "[1 0]\n",
      "[0 1]\n"
     ]
    }
   ],
   "source": [
    "u = np.array([1,0])\n",
    "print(u)\n",
    "\n",
    "v = np.array([0,1])\n",
    "print(v)"
   ]
  },
  {
   "cell_type": "code",
   "execution_count": 35,
   "id": "15102507-de73-4025-b21c-dd17f72143df",
   "metadata": {},
   "outputs": [
    {
     "data": {
      "text/plain": [
       "array([1, 1])"
      ]
     },
     "execution_count": 35,
     "metadata": {},
     "output_type": "execute_result"
    }
   ],
   "source": [
    "# add Array\n",
    "z = np.add(u,v)\n",
    "z"
   ]
  },
  {
   "cell_type": "code",
   "execution_count": 36,
   "id": "a735d3f6-ca4b-4037-a6a9-c335e6ba078b",
   "metadata": {},
   "outputs": [
    {
     "name": "stdout",
     "output_type": "stream",
     "text": [
      "[10 20 30]\n",
      "[ 4  5 20]\n",
      "[ 6 15 10]\n"
     ]
    }
   ],
   "source": [
    "# Array subtractiion\n",
    "a = np.array([10, 20, 30])\n",
    "print(a)\n",
    "\n",
    "b = np.array([4, 5, 20])\n",
    "print(b)\n",
    "\n",
    "c = np.subtract(a, b)\n",
    "print(c)"
   ]
  },
  {
   "cell_type": "code",
   "execution_count": 37,
   "id": "bd5b2214-f127-4e48-904b-99244cb413bb",
   "metadata": {},
   "outputs": [
    {
     "name": "stdout",
     "output_type": "stream",
     "text": [
      "[10 20 30]\n",
      "[ 4  5 20]\n",
      "[ 40 100 600]\n"
     ]
    }
   ],
   "source": [
    "# Array multiplication\n",
    "a = np.array([10, 20, 30])\n",
    "print(a)\n",
    "\n",
    "b = np.array([4, 5, 20])\n",
    "print(b)\n",
    "\n",
    "c = np.multiply(a, b)\n",
    "print(c)"
   ]
  },
  {
   "cell_type": "code",
   "execution_count": 38,
   "id": "d5b766c9-6852-46b1-8d26-86296a47c25c",
   "metadata": {},
   "outputs": [
    {
     "name": "stdout",
     "output_type": "stream",
     "text": [
      "[10 20 30]\n",
      "[2 5 6]\n",
      "[5. 4. 5.]\n"
     ]
    }
   ],
   "source": [
    "# Array divition\n",
    "# Array multiplication\n",
    "a = np.array([10, 20, 30])\n",
    "print(a)\n",
    "\n",
    "b = np.array([2, 5, 6])\n",
    "print(b)\n",
    "\n",
    "c = np.divide(a, b)\n",
    "print(c)"
   ]
  },
  {
   "cell_type": "markdown",
   "id": "8b408886-b563-4026-8945-c63ad1f22a6a",
   "metadata": {},
   "source": [
    "## dot product"
   ]
  },
  {
   "cell_type": "code",
   "execution_count": 40,
   "id": "56c1301b-e39a-4707-b42a-1a8a07e20ab5",
   "metadata": {},
   "outputs": [
    {
     "data": {
      "text/plain": [
       "7"
      ]
     },
     "execution_count": 40,
     "metadata": {},
     "output_type": "execute_result"
    }
   ],
   "source": [
    "x = np.array([1, 2])\n",
    "y = np.array([3, 2])\n",
    "\n",
    "np.dot(x,y) # (3*1)+(2*2)"
   ]
  },
  {
   "cell_type": "markdown",
   "id": "a95fbc4f-7215-4b8a-b36a-6185aebd3424",
   "metadata": {},
   "source": [
    "## add constant to Numpy array"
   ]
  },
  {
   "cell_type": "code",
   "execution_count": 41,
   "id": "8a2df1e3-38fe-47e9-9cde-a2e0ac3e0d70",
   "metadata": {},
   "outputs": [
    {
     "name": "stdout",
     "output_type": "stream",
     "text": [
      "[10 20 30]\n",
      "[11 21 31]\n"
     ]
    }
   ],
   "source": [
    "\n",
    "a = np.array([10, 20, 30])\n",
    "print(a)\n",
    "\n",
    "u = a+1\n",
    "print(u)"
   ]
  },
  {
   "cell_type": "markdown",
   "id": "5021f020-779e-4966-9bdf-abd8180f964c",
   "metadata": {},
   "source": [
    "## Mathematical fuctions"
   ]
  },
  {
   "cell_type": "code",
   "execution_count": 42,
   "id": "086382b3-03d6-474d-958c-0c1733a43ffb",
   "metadata": {},
   "outputs": [
    {
     "data": {
      "text/plain": [
       "3.141592653589793"
      ]
     },
     "execution_count": 42,
     "metadata": {},
     "output_type": "execute_result"
    }
   ],
   "source": [
    "np.pi"
   ]
  },
  {
   "cell_type": "code",
   "execution_count": 47,
   "id": "4040f8db-5f0b-4ca6-ba6d-322afab66ffc",
   "metadata": {},
   "outputs": [
    {
     "data": {
      "text/plain": [
       "array([0.0000000e+00, 1.0000000e+00, 1.2246468e-16])"
      ]
     },
     "execution_count": 47,
     "metadata": {},
     "output_type": "execute_result"
    }
   ],
   "source": [
    "# creat the numpy array in radians\n",
    "x = np.array([0, np.pi/2 , np.pi])\n",
    "y = np.sin(x)\n",
    "y"
   ]
  },
  {
   "cell_type": "markdown",
   "id": "fecafc33-803d-448d-b593-2963eb63b870",
   "metadata": {},
   "source": [
    "## Linspace\n",
    "**numpy.linspace(start, stop, num = int value)**\n",
    "- start: start of interval range\n",
    "- stop : end of interval range\n",
    "- num: Number of samples to generate."
   ]
  },
  {
   "cell_type": "code",
   "execution_count": 51,
   "id": "43accf24-f7d2-447c-b150-e0ca73ab435a",
   "metadata": {},
   "outputs": [
    {
     "data": {
      "text/plain": [
       "array([1., 2., 3., 4., 5.])"
      ]
     },
     "execution_count": 51,
     "metadata": {},
     "output_type": "execute_result"
    }
   ],
   "source": [
    "a = np.linspace(1,5, num = 5)\n",
    "a"
   ]
  },
  {
   "cell_type": "markdown",
   "id": "e5c9e231-ddf5-4147-bdc3-2ccffa3fbad1",
   "metadata": {},
   "source": [
    "## Iterating 1-D Arrays"
   ]
  },
  {
   "cell_type": "code",
   "execution_count": 53,
   "id": "8545c29f-321f-4cc3-bcf6-69415f7efd22",
   "metadata": {},
   "outputs": [
    {
     "name": "stdout",
     "output_type": "stream",
     "text": [
      "[1 2 3]\n",
      "1\n",
      "2\n",
      "3\n"
     ]
    }
   ],
   "source": [
    "arr1 = np.array([1, 2, 3])\n",
    "print(arr1)\n",
    "\n",
    "for x in arr1:\n",
    "    print(x)"
   ]
  },
  {
   "cell_type": "code",
   "execution_count": 57,
   "id": "51196a0d-477a-47f5-b3ac-5a157201c731",
   "metadata": {},
   "outputs": [
    {
     "name": "stdout",
     "output_type": "stream",
     "text": [
      "This is dot product :  2\n"
     ]
    },
    {
     "data": {
      "image/png": "[encoded data removed]",
      "text/plain": [
       "<Figure size 640x480 with 1 Axes>"
      ]
     },
     "metadata": {},
     "output_type": "display_data"
    }
   ],
   "source": [
    "import time \n",
    "import sys\n",
    "import numpy as np \n",
    "\n",
    "import matplotlib.pyplot as plt\n",
    "\n",
    "\n",
    "def Plotvec2(a,b):\n",
    "    ax = plt.axes()# to generate the full window axes\n",
    "    ax.arrow(0, 0, *a, head_width=0.05, color ='r', head_length=0.1)#Add an arrow to the  a Axes with arrow head width 0.05, color red and arrow head length 0.1\n",
    "    plt.text(*(a + 0.1), 'a')\n",
    "    ax.arrow(0, 0, *b, head_width=0.05, color ='b', head_length=0.1)#Add an arrow to the  b Axes with arrow head width 0.05, color blue and arrow head length 0.1\n",
    "    plt.text(*(b + 0.1), 'b')\n",
    "    plt.ylim(-2, 2)#set the ylim to bottom(-2), top(2)\n",
    "    plt.xlim(-2, 2)#set the xlim to left(-2), right(2)\n",
    "\n",
    "# Write your code below and press Shift+Enter to execute\n",
    "a = np.array([1, 1])\n",
    "b = np.array([1, 1])\n",
    "\n",
    "Plotvec2(a,b)\n",
    "print(\"This is dot product : \", np.dot(a,b))\n",
    "    "
   ]
  },
  {
   "cell_type": "code",
   "execution_count": 55,
   "id": "79201484-6881-489a-8ee3-63e9bba10878",
   "metadata": {},
   "outputs": [
    {
     "name": "stdout",
     "output_type": "stream",
     "text": [
      "This is dot product :  0\n"
     ]
    },
    {
     "data": {
      "image/png": "[encoded data removed]",
      "text/plain": [
       "<Figure size 640x480 with 1 Axes>"
      ]
     },
     "metadata": {},
     "output_type": "display_data"
    }
   ],
   "source": [
    "a = np.array([1,0])\n",
    "b = np.array([0,1])\n",
    "Plotvec2(a,b)\n",
    "print(\"This is dot product : \", np.dot(a,b))"
   ]
  },
  {
   "cell_type": "code",
   "execution_count": 56,
   "id": "9a1bc6fb-efe7-4853-b01c-a40c7b7a7491",
   "metadata": {},
   "outputs": [
    {
     "name": "stdout",
     "output_type": "stream",
     "text": [
      "This is dot product :  1\n"
     ]
    },
    {
     "data": {
      "image/png": "[encoded data removed]",
      "text/plain": [
       "<Figure size 640x480 with 1 Axes>"
      ]
     },
     "metadata": {},
     "output_type": "display_data"
    }
   ],
   "source": [
    "# Write your code below and press Shift+Enter to execute\n",
    "a = np.array([1,1])\n",
    "b = np.array([0,1])\n",
    "Plotvec2(a,b)\n",
    "print(\"This is dot product : \", np.dot(a,b))"
   ]
  },
  {
   "cell_type": "markdown",
   "id": "64dca3bd-ad6c-4ab4-970d-4ab0c3fa5bd3",
   "metadata": {},
   "source": [
    "## Exercise Find Odd and Even"
   ]
  },
  {
   "cell_type": "code",
   "execution_count": 58,
   "id": "7b696143-fb77-49b6-8076-5ce501a15c36",
   "metadata": {},
   "outputs": [
    {
     "name": "stdout",
     "output_type": "stream",
     "text": [
      "even for array1 [2 4]\n",
      "odd for array1 [1 3 5]\n",
      "even for array2 [ 6  8 10]\n",
      "odd for array2 [7 9]\n"
     ]
    }
   ],
   "source": [
    "arr1 = np.array([1, 2, 3, 4, 5])\n",
    "arr2 = np.array([6, 7, 8, 9, 10])\n",
    "\n",
    "#Starting index in slice is 1 as first even element(2) in array1 is at index 1\n",
    "even_arr1 = arr1[1:5:2]\n",
    "print(\"even for array1\",even_arr1)\n",
    "    \n",
    "#Starting index in slice is 0 as first odd element(1) in array1 is at index 0\n",
    "odd_arr1=arr1[0:5:2]\n",
    "print(\"odd for array1\",odd_arr1)\n",
    "\n",
    "#Starting index in slice is 0 as first even element(6) in array2 is at index 0\n",
    "even_arr2 = arr2[0:5:2]\n",
    "print(\"even for array2\",even_arr2)\n",
    "    \n",
    "    \n",
    "#Starting index in slice is 1 as first odd element(7) in array2 is at index 1\n",
    "odd_arr2=arr2[1:5:2]\n",
    "print(\"odd for array2\",odd_arr2)\n"
   ]
  },
  {
   "cell_type": "code",
   "execution_count": 59,
   "id": "99d68502-d22f-4dd2-a2c9-6dde21052c1c",
   "metadata": {},
   "outputs": [
    {
     "name": "stdout",
     "output_type": "stream",
     "text": [
      "Even number of arr1 :  [2, 4]\n",
      "Odd number of arr1 :  [1, 3, 5]\n",
      "____________________________________\n",
      "Even number of arr2 :  [6, 8, 10]\n",
      "Odd number of arr2 :  [7, 9]\n"
     ]
    }
   ],
   "source": [
    "# Write your code below and press Shift+Enter to execute\n",
    "arr1 = np.array([1, 2, 3, 4, 5])\n",
    "arr2 = np.array([6, 7, 8, 9, 10])\n",
    "\n",
    "EvenArr1 = []\n",
    "OddArr1= []\n",
    "for i in arr1:\n",
    "    if i % 2 == 0:\n",
    "        EvenArr1.append(i)       \n",
    "    else:\n",
    "        OddArr1.append(i)\n",
    "        \n",
    "print(\"Even number of arr1 : \", EvenArr1)\n",
    "print(\"Odd number of arr1 : \", OddArr1)\n",
    "\n",
    "print(\"____________________________________\")\n",
    "\n",
    "EvenArr2 = []\n",
    "OddArr2= []\n",
    "for i in arr2:\n",
    "    if i % 2 == 0:\n",
    "        EvenArr2.append(i)       \n",
    "    else:\n",
    "        OddArr2.append(i)\n",
    "        \n",
    "print(\"Even number of arr2 : \", EvenArr2)\n",
    "print(\"Odd number of arr2 : \", OddArr2)\n"
   ]
  },
  {
   "cell_type": "markdown",
   "id": "f3668efd-b174-44c4-940a-8ec8fd447b65",
   "metadata": {},
   "source": [
    "# 2D numpy array"
   ]
  },
  {
   "cell_type": "code",
   "execution_count": 60,
   "id": "afd48960-358f-4195-b989-e85f499105a1",
   "metadata": {},
   "outputs": [
    {
     "data": {
      "text/plain": [
       "[[11, 12, 13], [21, 22, 23], [31, 32, 33]]"
      ]
     },
     "execution_count": 60,
     "metadata": {},
     "output_type": "execute_result"
    }
   ],
   "source": [
    "a = [[11, 12, 13], [21, 22, 23], [31, 32, 33]]\n",
    "a"
   ]
  },
  {
   "cell_type": "code",
   "execution_count": 61,
   "id": "f3d006b0-42d8-43cd-ade2-2488e96f6d74",
   "metadata": {},
   "outputs": [
    {
     "data": {
      "text/plain": [
       "array([[11, 12, 13],\n",
       "       [21, 22, 23],\n",
       "       [31, 32, 33]])"
      ]
     },
     "execution_count": 61,
     "metadata": {},
     "output_type": "execute_result"
    }
   ],
   "source": [
    "# convert list to Numpy array\n",
    "A = np.array(a)\n",
    "A"
   ]
  },
  {
   "cell_type": "code",
   "execution_count": 65,
   "id": "30b54195-f1aa-4464-bcd9-bb43af0c51be",
   "metadata": {},
   "outputs": [
    {
     "name": "stdout",
     "output_type": "stream",
     "text": [
      "2\n",
      "(3, 3)\n",
      "9\n"
     ]
    }
   ],
   "source": [
    "# show dimensions\n",
    "print(A.ndim)\n",
    "\n",
    "# show shape\n",
    "print(A.shape)\n",
    "\n",
    "# show size\n",
    "print(A.size)"
   ]
  },
  {
   "cell_type": "code",
   "execution_count": 68,
   "id": "414363ac-44eb-4eff-86f9-761e2e020e7f",
   "metadata": {},
   "outputs": [
    {
     "name": "stdout",
     "output_type": "stream",
     "text": [
      "23\n",
      "23\n"
     ]
    }
   ],
   "source": [
    "# accesss the element on second row and third column\n",
    "print(A[1, 2]) # [row,column]\n",
    "\n",
    "print(A[1][2]) # [row][column]"
   ]
  },
  {
   "cell_type": "code",
   "execution_count": 74,
   "id": "2599df75-246d-4201-8c61-8538bc4bec31",
   "metadata": {},
   "outputs": [
    {
     "name": "stdout",
     "output_type": "stream",
     "text": [
      "[13 23]\n",
      "[11 12 13]\n"
     ]
    }
   ],
   "source": [
    "# access first and second rows and second column\n",
    "print(A[0:2,2])\n",
    "\n",
    "print(A[0][0:3])"
   ]
  },
  {
   "cell_type": "code",
   "execution_count": 77,
   "id": "79cbef5e-61e4-4c86-a82d-5efa3a66a0e4",
   "metadata": {},
   "outputs": [
    {
     "name": "stdout",
     "output_type": "stream",
     "text": [
      "[[1 0]\n",
      " [0 1]]\n",
      "[[2 1]\n",
      " [1 2]]\n",
      "________________\n",
      "[[3 1]\n",
      " [1 3]]\n"
     ]
    }
   ],
   "source": [
    "# basic operation\n",
    "\n",
    "# addition\n",
    "x = np.array([[1,0],[0,1]])\n",
    "print(x)\n",
    "\n",
    "y = np.array([[2,1],[1,2]])\n",
    "print(y)\n",
    "\n",
    "print(\"________________\")\n",
    "z = x+y\n",
    "print(z)"
   ]
  },
  {
   "cell_type": "code",
   "execution_count": 87,
   "id": "6668f5ed-5007-4a69-8534-0882e3443943",
   "metadata": {},
   "outputs": [
    {
     "name": "stdout",
     "output_type": "stream",
     "text": [
      "Y:  [[2 1]\n",
      " [1 2]]\n",
      "x:  [[1 0]\n",
      " [0 1]]\n",
      "________________\n",
      "[[4 2]\n",
      " [2 4]]\n",
      "________________\n",
      "[[2 0]\n",
      " [0 2]]\n"
     ]
    }
   ],
   "source": [
    "# multiply\n",
    "print(\"Y: \",y)\n",
    "print(\"x: \", x)\n",
    "print(\"________________\")\n",
    "z = 2*y\n",
    "print(z)\n",
    "print(\"________________\")\n",
    "w = x * y\n",
    "print(w)"
   ]
  },
  {
   "cell_type": "code",
   "execution_count": 88,
   "id": "c02d8cd2-be3e-4077-9754-6d22784f6472",
   "metadata": {},
   "outputs": [
    {
     "name": "stdout",
     "output_type": "stream",
     "text": [
      "[[0 1 1]\n",
      " [1 0 1]]\n",
      "[[ 1  1]\n",
      " [ 1  1]\n",
      " [-1  1]]\n"
     ]
    }
   ],
   "source": [
    "# crate a matrix A\n",
    "A = np.array([[0,1,1], [1,0,1]])\n",
    "print(A)\n",
    "\n",
    "B = np.array([[1, 1], [1, 1], [-1, 1]])\n",
    "print(B)"
   ]
  },
  {
   "cell_type": "code",
   "execution_count": 89,
   "id": "b02263d9-90f3-4963-a0cf-2b3746b0f2b9",
   "metadata": {},
   "outputs": [
    {
     "data": {
      "text/plain": [
       "array([[0, 2],\n",
       "       [0, 2]])"
      ]
     },
     "execution_count": 89,
     "metadata": {},
     "output_type": "execute_result"
    }
   ],
   "source": [
    "z = np.dot(A,B)\n",
    "z"
   ]
  },
  {
   "cell_type": "code",
   "execution_count": 90,
   "id": "c26930a3-9984-4f70-a556-bb07ebd84c7d",
   "metadata": {},
   "outputs": [
    {
     "data": {
      "text/plain": [
       "array([[0.        , 0.90929743],\n",
       "       [0.        , 0.90929743]])"
      ]
     },
     "execution_count": 90,
     "metadata": {},
     "output_type": "execute_result"
    }
   ],
   "source": [
    "np.sin(z)"
   ]
  },
  {
   "cell_type": "code",
   "execution_count": 91,
   "id": "2fcd1955-3c19-4c85-9b6a-1bab6d03fd1f",
   "metadata": {},
   "outputs": [
    {
     "data": {
      "text/plain": [
       "array([[0, 0],\n",
       "       [2, 2]])"
      ]
     },
     "execution_count": 91,
     "metadata": {},
     "output_type": "execute_result"
    }
   ],
   "source": [
    "z.T"
   ]
  },
  {
   "cell_type": "code",
   "execution_count": 94,
   "id": "7a4a2f85-731f-4bf5-ab1d-5a7d2d2949df",
   "metadata": {},
   "outputs": [
    {
     "name": "stdout",
     "output_type": "stream",
     "text": [
      "[-1  1]\n",
      "[1 1]\n",
      "0\n"
     ]
    }
   ],
   "source": [
    "a = np.array([-1,1])\n",
    "b = np.array([1,1])\n",
    "\n",
    "print(a)\n",
    "print(b)\n",
    "print(np.dot(a,b))"
   ]
  },
  {
   "cell_type": "code",
   "execution_count": 100,
   "id": "72d3acf6-259e-471b-a880-9fd97d165f47",
   "metadata": {},
   "outputs": [
    {
     "name": "stdout",
     "output_type": "stream",
     "text": [
      "[[1 0]\n",
      " [0 1]]\n",
      "[[2 2]\n",
      " [2 2]]\n",
      "[[2 2]\n",
      " [2 2]]\n"
     ]
    }
   ],
   "source": [
    "X=np.array([[1,0],[0,1]]) \n",
    "print(X)\n",
    "Y=np.array([[2,2],[2,2]])\n",
    "print(Y)\n",
    "Z=np.dot(X,Y)\n",
    "print(Z)"
   ]
  },
  {
   "cell_type": "code",
   "execution_count": null,
   "id": "6c1031b9-5268-4fa1-877e-99554d113970",
   "metadata": {},
   "outputs": [],
   "source": []
  }
 ],
 "metadata": {
  "kernelspec": {
   "display_name": "Python 3 (ipykernel)",
   "language": "python",
   "name": "python3"
  },
  "language_info": {
   "codemirror_mode": {
    "name": "ipython",
    "version": 3
   },
   "file_extension": ".py",
   "mimetype": "text/x-python",
   "name": "python",
   "nbconvert_exporter": "python",
   "pygments_lexer": "ipython3",
   "version": "3.12.7"
  }
 },
 "nbformat": 4,
 "nbformat_minor": 5
}
