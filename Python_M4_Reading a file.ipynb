{
 "cells": [
  {
   "cell_type": "markdown",
   "id": "66dea3bc-43a8-4723-9695-7f6fd071f30e",
   "metadata": {},
   "source": [
    "## Reading a file with Open()"
   ]
  },
  {
   "cell_type": "code",
   "execution_count": 35,
   "id": "cba563bc-443d-4339-b30b-fc472ff42772",
   "metadata": {},
   "outputs": [],
   "source": [
    "# open file\n",
    "file_path = \"test.txt\"\n",
    "file = open(file_path, \"r\")\n"
   ]
  },
  {
   "cell_type": "code",
   "execution_count": 36,
   "id": "0ea14fc6-0319-4267-b622-7673fa53dc80",
   "metadata": {},
   "outputs": [
    {
     "name": "stdout",
     "output_type": "stream",
     "text": [
      "This is file name : test.txt\n",
      "This is mode :  r\n"
     ]
    }
   ],
   "source": [
    "# Print the path of file\n",
    "print(\"This is file name :\" ,file.name)\n",
    "print(\"This is mode : \", file.mode)"
   ]
  },
  {
   "cell_type": "code",
   "execution_count": 38,
   "id": "835a201f-7afd-486c-ab1b-86921c71bef9",
   "metadata": {},
   "outputs": [
    {
     "name": "stdout",
     "output_type": "stream",
     "text": [
      "\n",
      "This is type content :  <class 'str'>\n"
     ]
    }
   ],
   "source": [
    "# read file\n",
    "fileContent= file.read()\n",
    "print(fileContent)\n",
    "\n",
    "print(\"This is type content : \", type(fileContent))"
   ]
  },
  {
   "cell_type": "code",
   "execution_count": 56,
   "id": "7f79ff5a-13e9-4a82-8305-998e23b00b1e",
   "metadata": {},
   "outputs": [],
   "source": [
    "# clowe file\n",
    "file.close()"
   ]
  },
  {
   "cell_type": "markdown",
   "id": "56c171b0-7224-496a-b1bc-a78b9eb0f639",
   "metadata": {},
   "source": [
    "#### Better way to Open file"
   ]
  },
  {
   "cell_type": "code",
   "execution_count": 65,
   "id": "82fb51cd-88a3-4155-9d8d-917602eba46e",
   "metadata": {},
   "outputs": [
    {
     "name": "stdout",
     "output_type": "stream",
     "text": [
      "Hello world 1\n",
      "Hello world 2\n",
      "Hello world 3\n",
      "Hello world 4\n"
     ]
    }
   ],
   "source": [
    "with open(file_path, \"r\") as file:\n",
    "    fileContent = file.read()\n",
    "print(fileContent)"
   ]
  },
  {
   "cell_type": "code",
   "execution_count": 66,
   "id": "8b245731-36e2-404c-b84a-4ffba94f820b",
   "metadata": {},
   "outputs": [
    {
     "data": {
      "text/plain": [
       "True"
      ]
     },
     "execution_count": 66,
     "metadata": {},
     "output_type": "execute_result"
    }
   ],
   "source": [
    "# check close file\n",
    "file.closed"
   ]
  },
  {
   "cell_type": "code",
   "execution_count": 67,
   "id": "de50d523-13e9-4552-a9dd-3cbcd2932799",
   "metadata": {},
   "outputs": [
    {
     "name": "stdout",
     "output_type": "stream",
     "text": [
      "Hell\n",
      "o worl\n"
     ]
    }
   ],
   "source": [
    "# First of four characte\n",
    "with open(file_path, \"r\")as file:\n",
    "    file_read4 = file.read(4)\n",
    "    file_read6 = file.read(6)\n",
    "    print(file_read4)\n",
    "    print(file_read6)"
   ]
  },
  {
   "cell_type": "code",
   "execution_count": 70,
   "id": "a950fd41-cd40-4af5-8473-7206b76912b5",
   "metadata": {},
   "outputs": [
    {
     "name": "stdout",
     "output_type": "stream",
     "text": [
      "first line: Hello\n"
     ]
    }
   ],
   "source": [
    "# read only 1 line\n",
    "with open(file_path, \"r\") as file:\n",
    "    print(\"first line: \" + file.readline(5))"
   ]
  },
  {
   "cell_type": "code",
   "execution_count": 72,
   "id": "ae15f8d5-1205-49fd-b1ae-e597b0bb9dad",
   "metadata": {},
   "outputs": [
    {
     "name": "stdout",
     "output_type": "stream",
     "text": [
      "Iteration 0 : Hello world 1\n",
      "\n",
      "Iteration 1 : Hello world 2\n",
      "\n",
      "Iteration 2 : Hello world 3\n",
      "\n",
      "Iteration 3 : Hello world 4\n"
     ]
    }
   ],
   "source": [
    "# Itrarate through line\n",
    "with open(file_path, \"r\") as file:\n",
    "    i = 0;\n",
    "    for line in file:\n",
    "        print(\"Iteration\", str(i), \":\", line)\n",
    "        i +=1 \n",
    "    "
   ]
  },
  {
   "cell_type": "code",
   "execution_count": 77,
   "id": "403434de-e770-4471-bcf5-b207cdb9bcdc",
   "metadata": {},
   "outputs": [
    {
     "data": {
      "text/plain": [
       "['Hello world 1\\n', 'Hello world 2\\n', 'Hello world 3\\n']"
      ]
     },
     "execution_count": 77,
     "metadata": {},
     "output_type": "execute_result"
    }
   ],
   "source": [
    "# read all line as list\n",
    "with open(file_path, \"r\") as file:\n",
    "    fileList = file.readlines()\n",
    "    \n",
    "fileList[0:3]"
   ]
  },
  {
   "cell_type": "markdown",
   "id": "37551b76-14ac-4f36-8809-f776902e3cae",
   "metadata": {},
   "source": [
    "# Wring File wiht open"
   ]
  },
  {
   "cell_type": "code",
   "execution_count": null,
   "id": "41837fd7-6263-464d-998c-5e5f8bbaeed5",
   "metadata": {},
   "outputs": [],
   "source": []
  }
 ],
 "metadata": {
  "kernelspec": {
   "display_name": "Python 3 (ipykernel)",
   "language": "python",
   "name": "python3"
  },
  "language_info": {
   "codemirror_mode": {
    "name": "ipython",
    "version": 3
   },
   "file_extension": ".py",
   "mimetype": "text/x-python",
   "name": "python",
   "nbconvert_exporter": "python",
   "pygments_lexer": "ipython3",
   "version": "3.12.7"
  }
 },
 "nbformat": 4,
 "nbformat_minor": 5
}
