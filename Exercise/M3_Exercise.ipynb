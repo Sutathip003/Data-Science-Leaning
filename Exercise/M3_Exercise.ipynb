{
 "cells": [
  {
   "cell_type": "code",
   "execution_count": 5,
   "id": "7809a871-e6d4-4df1-a1c8-aeb3818f2b77",
   "metadata": {},
   "outputs": [],
   "source": [
    "#Press Shift+Enter to run the code\n",
    "givenstring=\"Lorem ipsum dolor! diam amet, consetetur Lorem magna. sed diam nonumy eirmod tempor. diam et labore? et diam magna. et diam amet.\""
   ]
  },
  {
   "cell_type": "code",
   "execution_count": 9,
   "id": "fc25e7cb-1a65-4fb3-9922-ec0844f9c574",
   "metadata": {},
   "outputs": [
    {
     "name": "stdout",
     "output_type": "stream",
     "text": [
      "This is see lower case formate :  lorem ipsum dolor diam amet consetetur lorem magna sed diam nonumy eirmod tempor diam et labore et diam magna et diam amet\n"
     ]
    }
   ],
   "source": [
    "class TextAnalyzer(object):\n",
    "\n",
    "# Define the class and its attributes\n",
    "    def __init__(self, text):\n",
    "        # remove punctuation\n",
    "        formattedText = text.replace('.','').replace(',','').replace('!', '').replace('?','')\n",
    "\n",
    "        # make text lowercase\n",
    "        formattedText = formattedText.lower()\n",
    "\n",
    "        self.fmtText = formattedText\n",
    "\n",
    "#Implement a code to count the frequency of all unique words\n",
    "    def freqAll(self):\n",
    "        \n",
    "        # Split the fmtText into words\n",
    "        wordList = self.fmtText.split(' ')\n",
    "\n",
    "        # Cretate dictionary \n",
    "        freqMap = {}\n",
    "\n",
    "        for word in set(wordList): # use set to remove duplicates in list\n",
    "            freqMap[word] = wordList.count(word)\n",
    "\n",
    "        return freqMap\n",
    "\n",
    "# Implement a code to count the frequency of a specific word\n",
    "    def freqOf(self, word):\n",
    "        # get frequency map\n",
    "        freqDict = self.freqAll()\n",
    "\n",
    "        if word in freqDict:\n",
    "            return freqDict[word]\n",
    "        else:\n",
    "            return 0\n",
    "        \n",
    "        \n",
    "object1 = TextAnalyzer(givenstring)   \n",
    "print(\"This is see lower case formate : \", object1.fmtText)"
   ]
  },
  {
   "cell_type": "code",
   "execution_count": 10,
   "id": "6b88db2d-1e05-42a1-aae5-c000f723ed46",
   "metadata": {},
   "outputs": [
    {
     "name": "stdout",
     "output_type": "stream",
     "text": [
      "This is frequency words:  {'nonumy': 1, 'amet': 2, 'tempor': 1, 'diam': 5, 'magna': 2, 'labore': 1, 'sed': 1, 'dolor': 1, 'ipsum': 1, 'consetetur': 1, 'et': 3, 'lorem': 2, 'eirmod': 1}\n"
     ]
    }
   ],
   "source": [
    "# check the frequency of words\n",
    "print(\"This is frequency words: \", object1.freqAll())"
   ]
  },
  {
   "cell_type": "code",
   "execution_count": 11,
   "id": "59455778-50ae-4e4e-ac9e-87cbc299f61e",
   "metadata": {},
   "outputs": [
    {
     "name": "stdout",
     "output_type": "stream",
     "text": [
      "'Lorem' has 2 time appear\n"
     ]
    }
   ],
   "source": [
    "# check freqency of specific word\n",
    "word = \"lorem\"\n",
    "check = object1.freqOf(word)\n",
    "print(f\"'Lorem' has {check} time appear\")"
   ]
  },
  {
   "cell_type": "code",
   "execution_count": 13,
   "id": "0f59670e-d2ba-4aad-a143-810ce5de9ee4",
   "metadata": {},
   "outputs": [
    {
     "name": "stdout",
     "output_type": "stream",
     "text": [
      "False\n"
     ]
    }
   ],
   "source": [
    "cur= 18\n",
    "\n",
    "cur = cur>25\n",
    "print(cur)"
   ]
  },
  {
   "cell_type": "code",
   "execution_count": 15,
   "id": "550e0b4b-fe39-4da9-bfbc-59a698ab0679",
   "metadata": {},
   "outputs": [
    {
     "name": "stdout",
     "output_type": "stream",
     "text": [
      "Exhibit 1: Vase - Ancient Greece\n",
      "Exhibit 2: Statue - Ancient Greece\n",
      "Exhibit 3: Mask - Ancient Greece\n"
     ]
    }
   ],
   "source": [
    "items = [\"Vase\", \"Statue\", \"Mask\"]\n",
    "for index, item in enumerate(items, start=1):\n",
    "    print(f\"Exhibit {index}: {item} - Ancient Greece\")"
   ]
  },
  {
   "cell_type": "code",
   "execution_count": null,
   "id": "53812090-96cf-432d-8d65-50afc8c104dc",
   "metadata": {},
   "outputs": [],
   "source": []
  }
 ],
 "metadata": {
  "kernelspec": {
   "display_name": "Python 3 (ipykernel)",
   "language": "python",
   "name": "python3"
  },
  "language_info": {
   "codemirror_mode": {
    "name": "ipython",
    "version": 3
   },
   "file_extension": ".py",
   "mimetype": "text/x-python",
   "name": "python",
   "nbconvert_exporter": "python",
   "pygments_lexer": "ipython3",
   "version": "3.12.7"
  }
 },
 "nbformat": 4,
 "nbformat_minor": 5
}
