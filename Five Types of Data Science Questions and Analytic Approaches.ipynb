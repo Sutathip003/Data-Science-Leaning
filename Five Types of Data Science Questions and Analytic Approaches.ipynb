{
 "cells": [
  {
   "cell_type": "markdown",
   "id": "607991f4-70e9-40f5-9284-0a44a0d5ee6a",
   "metadata": {},
   "source": [
    "# 📊 Five Types of Data Science Questions and Analytic Approaches\n"
   ]
  },
  {
   "cell_type": "markdown",
   "id": "e23c9122-349f-4d80-9ca4-aa15ba470046",
   "metadata": {},
   "source": [
    "## 1. Descriptive Questions: “What is the current status?”\n",
    "**Approach:** Descriptive Analytics  \n",
    "**Example Question:** \"What is the current status of our sales?\"\n",
    "\n",
    "**Techniques:**\n",
    "- Data aggregation\n",
    "- Data mining\n",
    "- Data visualization\n",
    "\n",
    "**Examples:**\n",
    "- Summarizing sales data\n",
    "- Creating dashboards\n",
    "- Generating reports"
   ]
  },
  {
   "cell_type": "markdown",
   "id": "6a4a911f-23f0-42a2-9136-3dab22088bd2",
   "metadata": {},
   "source": [
    "## 2. Diagnostic Questions: “Why did it happen?”\n",
    "**Approach:** Diagnostic Analytics  \n",
    "**Example Question:** \"Why did our sales decline in the last quarter?\"\n",
    "\n",
    "**Techniques:**\n",
    "- Drill-down\n",
    "- Data discovery\n",
    "- Correlation analysis\n",
    "\n",
    "**Examples:**\n",
    "- Identifying root causes of sales decline\n",
    "- Analyzing customer complaints\n",
    "- Understanding failure points in a process\n"
   ]
  },
  {
   "cell_type": "markdown",
   "id": "664dc65d-1e61-47b2-b8cc-7df6f1c50fb6",
   "metadata": {},
   "source": [
    "## 3. Predictive Questions: “What is likely to happen?”\n",
    "**Approach:** Predictive Analytics  \n",
    "**Example Question:** \"What is our sales forecast for the next year?\"\n",
    "\n",
    "**Techniques:**\n",
    "- Regression analysis\n",
    "- Time series forecasting\n",
    "- Machine learning models\n",
    "\n",
    "**Examples:**\n",
    "- Forecasting sales\n",
    "- Predicting customer churn\n",
    "- Estimating future demand"
   ]
  },
  {
   "cell_type": "markdown",
   "id": "0e1f2f24-0cf1-44ce-87d7-b62b5bde04c4",
   "metadata": {},
   "source": [
    "## 4. Prescriptive Questions: “What should we do?”\n",
    "**Approach:** Prescriptive Analytics  \n",
    "**Example Question:** \"What should we do to increase website traffic?\"\n",
    "\n",
    "**Techniques:**\n",
    "- Optimization models\n",
    "- Simulation\n",
    "- Decision analysis\n",
    "\n",
    "**Examples:**\n",
    "- Recommending inventory levels\n",
    "- Optimizing marketing campaigns\n",
    "- Determining pricing strategies"
   ]
  },
  {
   "cell_type": "markdown",
   "id": "01245a8a-fb23-4641-901e-920c083de381",
   "metadata": {},
   "source": [
    "## 5. Classification Questions: “Which category does this belong to?”\n",
    "**Approach:** Classification (Supervised Learning)  \n",
    "**Example Question:** \"Which category does this data point belong to?\"\n",
    "\n",
    "**Techniques:**\n",
    "- Logistic regression\n",
    "- Decision trees\n",
    "- Support vector machines (SVM)\n",
    "- Neural networks\n",
    "\n",
    "**Examples:**\n",
    "- Email spam detection\n",
    "- Image classification\n",
    "- Disease diagnosis"
   ]
  },
  {
   "cell_type": "code",
   "execution_count": null,
   "id": "6d23e860-497e-40c7-b0f6-c52cfd1faefd",
   "metadata": {},
   "outputs": [],
   "source": []
  }
 ],
 "metadata": {
  "kernelspec": {
   "display_name": "Python 3 (ipykernel)",
   "language": "python",
   "name": "python3"
  },
  "language_info": {
   "codemirror_mode": {
    "name": "ipython",
    "version": 3
   },
   "file_extension": ".py",
   "mimetype": "text/x-python",
   "name": "python",
   "nbconvert_exporter": "python",
   "pygments_lexer": "ipython3",
   "version": "3.12.7"
  }
 },
 "nbformat": 4,
 "nbformat_minor": 5
}
